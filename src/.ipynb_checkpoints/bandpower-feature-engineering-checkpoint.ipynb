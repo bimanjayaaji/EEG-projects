{
 "cells": [
  {
   "cell_type": "markdown",
   "id": "3851f5b3",
   "metadata": {},
   "source": [
    "## Preparing Data, Device and Modules"
   ]
  },
  {
   "cell_type": "code",
   "execution_count": 1,
   "id": "5703ff50",
   "metadata": {},
   "outputs": [],
   "source": [
    "# importing libraries\n",
    "\n",
    "from brainflow.board_shim import BoardShim, BrainFlowInputParams, LogLevels, BoardIds\n",
    "from brainflow.data_filter import DataFilter, WindowOperations, DetrendOperations, FilterTypes\n",
    "import matplotlib.pyplot as plt\n",
    "import seaborn as sns\n",
    "import pandas as pd\n",
    "import numpy as np\n",
    "import time"
   ]
  },
  {
   "cell_type": "code",
   "execution_count": 2,
   "id": "f976443e",
   "metadata": {},
   "outputs": [],
   "source": [
    "# enable BrainFlow logger\n",
    "\n",
    "BoardShim.enable_dev_board_logger()"
   ]
  },
  {
   "cell_type": "code",
   "execution_count": 3,
   "id": "07fae476",
   "metadata": {},
   "outputs": [],
   "source": [
    "# input parameter port and timeout\n",
    "\n",
    "params = BrainFlowInputParams()\n",
    "params.serial_port = '/dev/ttyACM0'\n",
    "params.timeout = 15"
   ]
  },
  {
   "cell_type": "code",
   "execution_count": 4,
   "id": "a3c0a1a4",
   "metadata": {},
   "outputs": [
    {
     "data": {
      "text/plain": [
       "200"
      ]
     },
     "execution_count": 4,
     "metadata": {},
     "output_type": "execute_result"
    }
   ],
   "source": [
    "# board_id (ganglion) detail\n",
    "\n",
    "board_id = BoardIds.GANGLION_BOARD.value\n",
    "board_descr = BoardShim.get_board_descr(board_id)\n",
    "sampling_rate = int(board_descr['sampling_rate'])\n",
    "board = BoardShim(board_id, params)\n",
    "sampling_rate"
   ]
  },
  {
   "cell_type": "code",
   "execution_count": 5,
   "id": "0c485980",
   "metadata": {},
   "outputs": [],
   "source": [
    "# brief definition of nfft : \n",
    "# https://www.mathworks.com/matlabcentral/answers/324316-what-is-nfft-and-where-it-is-used-in-matlab-code\n",
    "\n",
    "nfft = DataFilter.get_nearest_power_of_two(sampling_rate)"
   ]
  },
  {
   "cell_type": "code",
   "execution_count": 6,
   "id": "87dbff64",
   "metadata": {},
   "outputs": [
    {
     "data": {
      "text/plain": [
       "1"
      ]
     },
     "execution_count": 6,
     "metadata": {},
     "output_type": "execute_result"
    }
   ],
   "source": [
    "# determining which eeg channel does ganglion have in the data\n",
    "\n",
    "eeg_channels = board_descr['eeg_channels']\n",
    "eeg_channel1 = eeg_channels[0]\n",
    "eeg_channel2 = eeg_channels[1]\n",
    "eeg_channel3 = eeg_channels[2]\n",
    "eeg_channel4 = eeg_channels[3]\n",
    "eeg_channel1"
   ]
  },
  {
   "cell_type": "markdown",
   "id": "07cbd9c4",
   "metadata": {},
   "source": [
    "## Relax Feature"
   ]
  },
  {
   "cell_type": "code",
   "execution_count": 160,
   "id": "1c257569",
   "metadata": {},
   "outputs": [
    {
     "name": "stdout",
     "output_type": "stream",
     "text": [
      "[[ 0.00000000e+00  1.00000000e+00  2.00000000e+00 ...  1.65584000e+05\n",
      "   1.65585000e+05  1.65586000e+05]\n",
      " [ 1.02000000e+02  1.02000000e+02  1.03000000e+02 ...  1.64000000e+02\n",
      "   1.65000000e+02  1.65000000e+02]\n",
      " [-3.35639191e+02 -1.25477383e+02 -7.14694882e+00 ... -5.01823516e+02\n",
      "  -9.72080406e+02 -4.96759691e+02]\n",
      " ...\n",
      " [ 0.00000000e+00  0.00000000e+00  0.00000000e+00 ...  0.00000000e+00\n",
      "   0.00000000e+00  0.00000000e+00]\n",
      " [ 1.65841237e+09  1.65841237e+09  1.65841237e+09 ...  1.65841327e+09\n",
      "   1.65841327e+09  1.65841327e+09]\n",
      " [ 0.00000000e+00  0.00000000e+00  0.00000000e+00 ...  0.00000000e+00\n",
      "   0.00000000e+00  0.00000000e+00]]\n",
      "(16, 165587)\n"
     ]
    }
   ],
   "source": [
    "# importing data from csv\n",
    "\n",
    "data = pd.read_csv('/home/bimanjaya/learner/TA/brainflow/EEG-projects-backup/data/relax.csv')\n",
    "data = data.transpose()\n",
    "data = data.to_numpy()\n",
    "print(data)\n",
    "print(data.shape)"
   ]
  },
  {
   "cell_type": "code",
   "execution_count": 161,
   "id": "fb46d01f",
   "metadata": {},
   "outputs": [],
   "source": [
    "data_bb = data"
   ]
  },
  {
   "cell_type": "code",
   "execution_count": 162,
   "id": "1ee55faf",
   "metadata": {},
   "outputs": [
    {
     "data": {
      "text/plain": [
       "165"
      ]
     },
     "execution_count": 162,
     "metadata": {},
     "output_type": "execute_result"
    }
   ],
   "source": [
    "delay = 5\n",
    "total_iterate = data_bb.shape[1] // (sampling_rate*delay)\n",
    "total_iterate"
   ]
  },
  {
   "cell_type": "code",
   "execution_count": 163,
   "id": "02891cad",
   "metadata": {},
   "outputs": [
    {
     "data": {
      "text/html": [
       "<div>\n",
       "<style scoped>\n",
       "    .dataframe tbody tr th:only-of-type {\n",
       "        vertical-align: middle;\n",
       "    }\n",
       "\n",
       "    .dataframe tbody tr th {\n",
       "        vertical-align: top;\n",
       "    }\n",
       "\n",
       "    .dataframe thead th {\n",
       "        text-align: right;\n",
       "    }\n",
       "</style>\n",
       "<table border=\"1\" class=\"dataframe\">\n",
       "  <thead>\n",
       "    <tr style=\"text-align: right;\">\n",
       "      <th></th>\n",
       "      <th>alpha1</th>\n",
       "      <th>alpha2</th>\n",
       "      <th>alpha3</th>\n",
       "      <th>alpha4</th>\n",
       "      <th>beta1</th>\n",
       "      <th>beta2</th>\n",
       "      <th>beta3</th>\n",
       "      <th>beta4</th>\n",
       "    </tr>\n",
       "  </thead>\n",
       "  <tbody>\n",
       "    <tr>\n",
       "      <th>0</th>\n",
       "      <td>0.219689</td>\n",
       "      <td>0.216737</td>\n",
       "      <td>0.181093</td>\n",
       "      <td>0.172173</td>\n",
       "      <td>0.342265</td>\n",
       "      <td>0.256805</td>\n",
       "      <td>0.286769</td>\n",
       "      <td>0.286137</td>\n",
       "    </tr>\n",
       "    <tr>\n",
       "      <th>1</th>\n",
       "      <td>0.213225</td>\n",
       "      <td>0.196836</td>\n",
       "      <td>0.326917</td>\n",
       "      <td>0.208310</td>\n",
       "      <td>0.345572</td>\n",
       "      <td>0.210412</td>\n",
       "      <td>0.262907</td>\n",
       "      <td>0.314860</td>\n",
       "    </tr>\n",
       "    <tr>\n",
       "      <th>2</th>\n",
       "      <td>0.215526</td>\n",
       "      <td>0.246585</td>\n",
       "      <td>0.214366</td>\n",
       "      <td>0.204940</td>\n",
       "      <td>0.343213</td>\n",
       "      <td>0.264269</td>\n",
       "      <td>0.223324</td>\n",
       "      <td>0.221034</td>\n",
       "    </tr>\n",
       "    <tr>\n",
       "      <th>3</th>\n",
       "      <td>0.214015</td>\n",
       "      <td>0.251356</td>\n",
       "      <td>0.206519</td>\n",
       "      <td>0.208742</td>\n",
       "      <td>0.328817</td>\n",
       "      <td>0.235890</td>\n",
       "      <td>0.242226</td>\n",
       "      <td>0.233077</td>\n",
       "    </tr>\n",
       "    <tr>\n",
       "      <th>4</th>\n",
       "      <td>0.217977</td>\n",
       "      <td>0.236930</td>\n",
       "      <td>0.258069</td>\n",
       "      <td>0.236295</td>\n",
       "      <td>0.340574</td>\n",
       "      <td>0.253191</td>\n",
       "      <td>0.291919</td>\n",
       "      <td>0.277368</td>\n",
       "    </tr>\n",
       "    <tr>\n",
       "      <th>...</th>\n",
       "      <td>...</td>\n",
       "      <td>...</td>\n",
       "      <td>...</td>\n",
       "      <td>...</td>\n",
       "      <td>...</td>\n",
       "      <td>...</td>\n",
       "      <td>...</td>\n",
       "      <td>...</td>\n",
       "    </tr>\n",
       "    <tr>\n",
       "      <th>160</th>\n",
       "      <td>0.214966</td>\n",
       "      <td>0.224630</td>\n",
       "      <td>0.268201</td>\n",
       "      <td>0.091526</td>\n",
       "      <td>0.341942</td>\n",
       "      <td>0.292124</td>\n",
       "      <td>0.240784</td>\n",
       "      <td>0.310787</td>\n",
       "    </tr>\n",
       "    <tr>\n",
       "      <th>161</th>\n",
       "      <td>0.218594</td>\n",
       "      <td>0.231634</td>\n",
       "      <td>0.194887</td>\n",
       "      <td>0.150635</td>\n",
       "      <td>0.310663</td>\n",
       "      <td>0.281334</td>\n",
       "      <td>0.243624</td>\n",
       "      <td>0.273101</td>\n",
       "    </tr>\n",
       "    <tr>\n",
       "      <th>162</th>\n",
       "      <td>0.218794</td>\n",
       "      <td>0.227321</td>\n",
       "      <td>0.211494</td>\n",
       "      <td>0.211976</td>\n",
       "      <td>0.323938</td>\n",
       "      <td>0.240055</td>\n",
       "      <td>0.208168</td>\n",
       "      <td>0.170703</td>\n",
       "    </tr>\n",
       "    <tr>\n",
       "      <th>163</th>\n",
       "      <td>0.216138</td>\n",
       "      <td>0.258097</td>\n",
       "      <td>0.221508</td>\n",
       "      <td>0.186717</td>\n",
       "      <td>0.343811</td>\n",
       "      <td>0.236007</td>\n",
       "      <td>0.248149</td>\n",
       "      <td>0.230420</td>\n",
       "    </tr>\n",
       "    <tr>\n",
       "      <th>164</th>\n",
       "      <td>0.210092</td>\n",
       "      <td>0.055816</td>\n",
       "      <td>0.162130</td>\n",
       "      <td>0.165772</td>\n",
       "      <td>0.326517</td>\n",
       "      <td>0.559652</td>\n",
       "      <td>0.230201</td>\n",
       "      <td>0.273270</td>\n",
       "    </tr>\n",
       "  </tbody>\n",
       "</table>\n",
       "<p>165 rows × 8 columns</p>\n",
       "</div>"
      ],
      "text/plain": [
       "       alpha1    alpha2    alpha3    alpha4     beta1     beta2     beta3  \\\n",
       "0    0.219689  0.216737  0.181093  0.172173  0.342265  0.256805  0.286769   \n",
       "1    0.213225  0.196836  0.326917  0.208310  0.345572  0.210412  0.262907   \n",
       "2    0.215526  0.246585  0.214366  0.204940  0.343213  0.264269  0.223324   \n",
       "3    0.214015  0.251356  0.206519  0.208742  0.328817  0.235890  0.242226   \n",
       "4    0.217977  0.236930  0.258069  0.236295  0.340574  0.253191  0.291919   \n",
       "..        ...       ...       ...       ...       ...       ...       ...   \n",
       "160  0.214966  0.224630  0.268201  0.091526  0.341942  0.292124  0.240784   \n",
       "161  0.218594  0.231634  0.194887  0.150635  0.310663  0.281334  0.243624   \n",
       "162  0.218794  0.227321  0.211494  0.211976  0.323938  0.240055  0.208168   \n",
       "163  0.216138  0.258097  0.221508  0.186717  0.343811  0.236007  0.248149   \n",
       "164  0.210092  0.055816  0.162130  0.165772  0.326517  0.559652  0.230201   \n",
       "\n",
       "        beta4  \n",
       "0    0.286137  \n",
       "1    0.314860  \n",
       "2    0.221034  \n",
       "3    0.233077  \n",
       "4    0.277368  \n",
       "..        ...  \n",
       "160  0.310787  \n",
       "161  0.273101  \n",
       "162  0.170703  \n",
       "163  0.230420  \n",
       "164  0.273270  \n",
       "\n",
       "[165 rows x 8 columns]"
      ]
     },
     "metadata": {},
     "output_type": "display_data"
    }
   ],
   "source": [
    "# eeg 1\n",
    "\n",
    "dict = {'alpha1':[],'alpha2':[],'alpha3':[],'alpha4':[],\n",
    "        'beta1':[],'beta2':[],'beta3':[],'beta4':[]}\n",
    "df = pd.DataFrame(dict)\n",
    "\n",
    "for x in range(total_iterate):\n",
    "    ch1_iter = data_bb[eeg_channel1][(x*1000):((x+1)*1000)]\n",
    "    ch2_iter = data_bb[eeg_channel2][(x*1000):((x+1)*1000)]\n",
    "    ch3_iter = data_bb[eeg_channel3][(x*1000):((x+1)*1000)]\n",
    "    ch4_iter = data_bb[eeg_channel4][(x*1000):((x+1)*1000)]\n",
    "    \n",
    "    DataFilter.detrend(ch1_iter, DetrendOperations.LINEAR.value)\n",
    "    DataFilter.detrend(ch2_iter, DetrendOperations.LINEAR.value)\n",
    "    DataFilter.detrend(ch3_iter, DetrendOperations.LINEAR.value)\n",
    "    DataFilter.detrend(ch4_iter, DetrendOperations.LINEAR.value)\n",
    "    \n",
    "    DataFilter.perform_bandpass(ch1_iter, BoardShim.get_sampling_rate(board_id), 5.0, 35.0, 4,\n",
    "                                        FilterTypes.BUTTERWORTH.value, 0)\n",
    "    DataFilter.perform_bandpass(ch2_iter, BoardShim.get_sampling_rate(board_id), 5.0, 35.0, 4,\n",
    "                                        FilterTypes.BUTTERWORTH.value, 0)\n",
    "    DataFilter.perform_bandpass(ch3_iter, BoardShim.get_sampling_rate(board_id), 5.0, 35.0, 4,\n",
    "                                        FilterTypes.BUTTERWORTH.value, 0)\n",
    "    DataFilter.perform_bandpass(ch4_iter, BoardShim.get_sampling_rate(board_id), 5.0, 35.0, 4,\n",
    "                                        FilterTypes.BUTTERWORTH.value, 0)\n",
    "    \n",
    "    psd1 = DataFilter.get_psd_welch(ch1_iter, nfft, nfft // 2, sampling_rate,\n",
    "                                   WindowOperations.HAMMING.value)\n",
    "    psd2 = DataFilter.get_psd_welch(ch2_iter, nfft, nfft // 2, sampling_rate,\n",
    "                                   WindowOperations.HAMMING.value)\n",
    "    psd3 = DataFilter.get_psd_welch(ch3_iter, nfft, nfft // 2, sampling_rate,\n",
    "                                   WindowOperations.HAMMING.value)\n",
    "    psd4 = DataFilter.get_psd_welch(ch4_iter, nfft, nfft // 2, sampling_rate,\n",
    "                                   WindowOperations.HAMMING.value)\n",
    "    \n",
    "    band_power_total1 = DataFilter.get_band_power(psd1, psd1[1][0], psd1[1][-1])\n",
    "    band_power_total2 = DataFilter.get_band_power(psd2, psd2[1][0], psd2[1][-1])\n",
    "    band_power_total3 = DataFilter.get_band_power(psd3, psd3[1][0], psd3[1][-1])\n",
    "    band_power_total4 = DataFilter.get_band_power(psd4, psd4[1][0], psd4[1][-1])\n",
    "    \n",
    "    band_power_alpha1 = DataFilter.get_band_power(psd1, 8.0, 13.0)\n",
    "    band_power_alpha2 = DataFilter.get_band_power(psd2, 8.0, 13.0)\n",
    "    band_power_alpha3 = DataFilter.get_band_power(psd3, 8.0, 13.0)\n",
    "    band_power_alpha4 = DataFilter.get_band_power(psd4, 8.0, 13.0)\n",
    "    \n",
    "    alpha_relative1 = band_power_alpha1/band_power_total1\n",
    "    alpha_relative2 = band_power_alpha2/band_power_total2\n",
    "    alpha_relative3 = band_power_alpha3/band_power_total3\n",
    "    alpha_relative4 = band_power_alpha4/band_power_total4\n",
    "    \n",
    "    band_power_beta1 = DataFilter.get_band_power(psd1, 13.0, 32.0)\n",
    "    band_power_beta2 = DataFilter.get_band_power(psd2, 13.0, 32.0)\n",
    "    band_power_beta3 = DataFilter.get_band_power(psd3, 13.0, 32.0)\n",
    "    band_power_beta4 = DataFilter.get_band_power(psd4, 13.0, 32.0)\n",
    "    \n",
    "    beta_relative1 = band_power_beta1/band_power_total1\n",
    "    beta_relative2 = band_power_beta2/band_power_total2\n",
    "    beta_relative3 = band_power_beta3/band_power_total3\n",
    "    beta_relative4 = band_power_beta4/band_power_total4\n",
    "    \n",
    "    dict1 = {'alpha1':[alpha_relative1],'alpha2':[alpha_relative2],\n",
    "             'alpha3':[alpha_relative3],'alpha4':[alpha_relative4],\n",
    "             'beta1':[beta_relative1],'beta2':[beta_relative2],\n",
    "             'beta3':[beta_relative3],'beta4':[beta_relative4]}\n",
    "    \n",
    "    df2 = pd.DataFrame(dict1)\n",
    "    df = pd.concat([df,df2],ignore_index=True)\n",
    "    # df.reset_index()\n",
    "\n",
    "display(df)\n",
    "    \n",
    "    "
   ]
  },
  {
   "cell_type": "code",
   "execution_count": 164,
   "id": "c030b579",
   "metadata": {},
   "outputs": [],
   "source": [
    "df['type'] = 1"
   ]
  },
  {
   "cell_type": "code",
   "execution_count": 165,
   "id": "39cd1700",
   "metadata": {},
   "outputs": [
    {
     "data": {
      "text/html": [
       "<div>\n",
       "<style scoped>\n",
       "    .dataframe tbody tr th:only-of-type {\n",
       "        vertical-align: middle;\n",
       "    }\n",
       "\n",
       "    .dataframe tbody tr th {\n",
       "        vertical-align: top;\n",
       "    }\n",
       "\n",
       "    .dataframe thead th {\n",
       "        text-align: right;\n",
       "    }\n",
       "</style>\n",
       "<table border=\"1\" class=\"dataframe\">\n",
       "  <thead>\n",
       "    <tr style=\"text-align: right;\">\n",
       "      <th></th>\n",
       "      <th>alpha1</th>\n",
       "      <th>alpha2</th>\n",
       "      <th>alpha3</th>\n",
       "      <th>alpha4</th>\n",
       "      <th>beta1</th>\n",
       "      <th>beta2</th>\n",
       "      <th>beta3</th>\n",
       "      <th>beta4</th>\n",
       "      <th>type</th>\n",
       "    </tr>\n",
       "  </thead>\n",
       "  <tbody>\n",
       "    <tr>\n",
       "      <th>0</th>\n",
       "      <td>0.219689</td>\n",
       "      <td>0.216737</td>\n",
       "      <td>0.181093</td>\n",
       "      <td>0.172173</td>\n",
       "      <td>0.342265</td>\n",
       "      <td>0.256805</td>\n",
       "      <td>0.286769</td>\n",
       "      <td>0.286137</td>\n",
       "      <td>1</td>\n",
       "    </tr>\n",
       "    <tr>\n",
       "      <th>1</th>\n",
       "      <td>0.213225</td>\n",
       "      <td>0.196836</td>\n",
       "      <td>0.326917</td>\n",
       "      <td>0.208310</td>\n",
       "      <td>0.345572</td>\n",
       "      <td>0.210412</td>\n",
       "      <td>0.262907</td>\n",
       "      <td>0.314860</td>\n",
       "      <td>1</td>\n",
       "    </tr>\n",
       "    <tr>\n",
       "      <th>2</th>\n",
       "      <td>0.215526</td>\n",
       "      <td>0.246585</td>\n",
       "      <td>0.214366</td>\n",
       "      <td>0.204940</td>\n",
       "      <td>0.343213</td>\n",
       "      <td>0.264269</td>\n",
       "      <td>0.223324</td>\n",
       "      <td>0.221034</td>\n",
       "      <td>1</td>\n",
       "    </tr>\n",
       "    <tr>\n",
       "      <th>3</th>\n",
       "      <td>0.214015</td>\n",
       "      <td>0.251356</td>\n",
       "      <td>0.206519</td>\n",
       "      <td>0.208742</td>\n",
       "      <td>0.328817</td>\n",
       "      <td>0.235890</td>\n",
       "      <td>0.242226</td>\n",
       "      <td>0.233077</td>\n",
       "      <td>1</td>\n",
       "    </tr>\n",
       "    <tr>\n",
       "      <th>4</th>\n",
       "      <td>0.217977</td>\n",
       "      <td>0.236930</td>\n",
       "      <td>0.258069</td>\n",
       "      <td>0.236295</td>\n",
       "      <td>0.340574</td>\n",
       "      <td>0.253191</td>\n",
       "      <td>0.291919</td>\n",
       "      <td>0.277368</td>\n",
       "      <td>1</td>\n",
       "    </tr>\n",
       "    <tr>\n",
       "      <th>...</th>\n",
       "      <td>...</td>\n",
       "      <td>...</td>\n",
       "      <td>...</td>\n",
       "      <td>...</td>\n",
       "      <td>...</td>\n",
       "      <td>...</td>\n",
       "      <td>...</td>\n",
       "      <td>...</td>\n",
       "      <td>...</td>\n",
       "    </tr>\n",
       "    <tr>\n",
       "      <th>160</th>\n",
       "      <td>0.214966</td>\n",
       "      <td>0.224630</td>\n",
       "      <td>0.268201</td>\n",
       "      <td>0.091526</td>\n",
       "      <td>0.341942</td>\n",
       "      <td>0.292124</td>\n",
       "      <td>0.240784</td>\n",
       "      <td>0.310787</td>\n",
       "      <td>1</td>\n",
       "    </tr>\n",
       "    <tr>\n",
       "      <th>161</th>\n",
       "      <td>0.218594</td>\n",
       "      <td>0.231634</td>\n",
       "      <td>0.194887</td>\n",
       "      <td>0.150635</td>\n",
       "      <td>0.310663</td>\n",
       "      <td>0.281334</td>\n",
       "      <td>0.243624</td>\n",
       "      <td>0.273101</td>\n",
       "      <td>1</td>\n",
       "    </tr>\n",
       "    <tr>\n",
       "      <th>162</th>\n",
       "      <td>0.218794</td>\n",
       "      <td>0.227321</td>\n",
       "      <td>0.211494</td>\n",
       "      <td>0.211976</td>\n",
       "      <td>0.323938</td>\n",
       "      <td>0.240055</td>\n",
       "      <td>0.208168</td>\n",
       "      <td>0.170703</td>\n",
       "      <td>1</td>\n",
       "    </tr>\n",
       "    <tr>\n",
       "      <th>163</th>\n",
       "      <td>0.216138</td>\n",
       "      <td>0.258097</td>\n",
       "      <td>0.221508</td>\n",
       "      <td>0.186717</td>\n",
       "      <td>0.343811</td>\n",
       "      <td>0.236007</td>\n",
       "      <td>0.248149</td>\n",
       "      <td>0.230420</td>\n",
       "      <td>1</td>\n",
       "    </tr>\n",
       "    <tr>\n",
       "      <th>164</th>\n",
       "      <td>0.210092</td>\n",
       "      <td>0.055816</td>\n",
       "      <td>0.162130</td>\n",
       "      <td>0.165772</td>\n",
       "      <td>0.326517</td>\n",
       "      <td>0.559652</td>\n",
       "      <td>0.230201</td>\n",
       "      <td>0.273270</td>\n",
       "      <td>1</td>\n",
       "    </tr>\n",
       "  </tbody>\n",
       "</table>\n",
       "<p>165 rows × 9 columns</p>\n",
       "</div>"
      ],
      "text/plain": [
       "       alpha1    alpha2    alpha3    alpha4     beta1     beta2     beta3  \\\n",
       "0    0.219689  0.216737  0.181093  0.172173  0.342265  0.256805  0.286769   \n",
       "1    0.213225  0.196836  0.326917  0.208310  0.345572  0.210412  0.262907   \n",
       "2    0.215526  0.246585  0.214366  0.204940  0.343213  0.264269  0.223324   \n",
       "3    0.214015  0.251356  0.206519  0.208742  0.328817  0.235890  0.242226   \n",
       "4    0.217977  0.236930  0.258069  0.236295  0.340574  0.253191  0.291919   \n",
       "..        ...       ...       ...       ...       ...       ...       ...   \n",
       "160  0.214966  0.224630  0.268201  0.091526  0.341942  0.292124  0.240784   \n",
       "161  0.218594  0.231634  0.194887  0.150635  0.310663  0.281334  0.243624   \n",
       "162  0.218794  0.227321  0.211494  0.211976  0.323938  0.240055  0.208168   \n",
       "163  0.216138  0.258097  0.221508  0.186717  0.343811  0.236007  0.248149   \n",
       "164  0.210092  0.055816  0.162130  0.165772  0.326517  0.559652  0.230201   \n",
       "\n",
       "        beta4  type  \n",
       "0    0.286137     1  \n",
       "1    0.314860     1  \n",
       "2    0.221034     1  \n",
       "3    0.233077     1  \n",
       "4    0.277368     1  \n",
       "..        ...   ...  \n",
       "160  0.310787     1  \n",
       "161  0.273101     1  \n",
       "162  0.170703     1  \n",
       "163  0.230420     1  \n",
       "164  0.273270     1  \n",
       "\n",
       "[165 rows x 9 columns]"
      ]
     },
     "execution_count": 165,
     "metadata": {},
     "output_type": "execute_result"
    }
   ],
   "source": [
    "df"
   ]
  },
  {
   "cell_type": "code",
   "execution_count": 166,
   "id": "23aeb2a3",
   "metadata": {},
   "outputs": [],
   "source": [
    "DS_R = df"
   ]
  },
  {
   "cell_type": "markdown",
   "id": "0e0fe99e",
   "metadata": {},
   "source": [
    "### Not-Relax Feature"
   ]
  },
  {
   "cell_type": "code",
   "execution_count": 167,
   "id": "31d0cc29",
   "metadata": {},
   "outputs": [],
   "source": [
    "# importing data from csv\n",
    "\n",
    "data = pd.read_csv('/home/bimanjaya/learner/TA/brainflow/EEG-projects-backup/data/not_relax.csv')\n",
    "data = data.transpose()\n",
    "data = data.to_numpy()\n",
    "\n",
    "data_bb = data"
   ]
  },
  {
   "cell_type": "code",
   "execution_count": 168,
   "id": "b698830c",
   "metadata": {},
   "outputs": [
    {
     "data": {
      "text/plain": [
       "179"
      ]
     },
     "execution_count": 168,
     "metadata": {},
     "output_type": "execute_result"
    }
   ],
   "source": [
    "delay = 5\n",
    "total_iterate = data_bb.shape[1] // (sampling_rate*delay)\n",
    "total_iterate"
   ]
  },
  {
   "cell_type": "code",
   "execution_count": 169,
   "id": "8ba2bc75",
   "metadata": {},
   "outputs": [
    {
     "data": {
      "text/html": [
       "<div>\n",
       "<style scoped>\n",
       "    .dataframe tbody tr th:only-of-type {\n",
       "        vertical-align: middle;\n",
       "    }\n",
       "\n",
       "    .dataframe tbody tr th {\n",
       "        vertical-align: top;\n",
       "    }\n",
       "\n",
       "    .dataframe thead th {\n",
       "        text-align: right;\n",
       "    }\n",
       "</style>\n",
       "<table border=\"1\" class=\"dataframe\">\n",
       "  <thead>\n",
       "    <tr style=\"text-align: right;\">\n",
       "      <th></th>\n",
       "      <th>alpha1</th>\n",
       "      <th>alpha2</th>\n",
       "      <th>alpha3</th>\n",
       "      <th>alpha4</th>\n",
       "      <th>beta1</th>\n",
       "      <th>beta2</th>\n",
       "      <th>beta3</th>\n",
       "      <th>beta4</th>\n",
       "    </tr>\n",
       "  </thead>\n",
       "  <tbody>\n",
       "    <tr>\n",
       "      <th>0</th>\n",
       "      <td>0.215083</td>\n",
       "      <td>0.160183</td>\n",
       "      <td>0.237768</td>\n",
       "      <td>0.240715</td>\n",
       "      <td>0.344209</td>\n",
       "      <td>0.304666</td>\n",
       "      <td>0.153615</td>\n",
       "      <td>0.149270</td>\n",
       "    </tr>\n",
       "    <tr>\n",
       "      <th>1</th>\n",
       "      <td>0.214565</td>\n",
       "      <td>0.021770</td>\n",
       "      <td>0.071565</td>\n",
       "      <td>0.095140</td>\n",
       "      <td>0.344056</td>\n",
       "      <td>0.508428</td>\n",
       "      <td>0.261766</td>\n",
       "      <td>0.319841</td>\n",
       "    </tr>\n",
       "    <tr>\n",
       "      <th>2</th>\n",
       "      <td>0.214155</td>\n",
       "      <td>0.018686</td>\n",
       "      <td>0.077395</td>\n",
       "      <td>0.070575</td>\n",
       "      <td>0.343213</td>\n",
       "      <td>0.414933</td>\n",
       "      <td>0.135158</td>\n",
       "      <td>0.215609</td>\n",
       "    </tr>\n",
       "    <tr>\n",
       "      <th>3</th>\n",
       "      <td>0.213462</td>\n",
       "      <td>0.015098</td>\n",
       "      <td>0.043715</td>\n",
       "      <td>0.047653</td>\n",
       "      <td>0.340411</td>\n",
       "      <td>0.466290</td>\n",
       "      <td>0.214458</td>\n",
       "      <td>0.298431</td>\n",
       "    </tr>\n",
       "    <tr>\n",
       "      <th>4</th>\n",
       "      <td>0.211354</td>\n",
       "      <td>0.015673</td>\n",
       "      <td>0.044423</td>\n",
       "      <td>0.044069</td>\n",
       "      <td>0.339157</td>\n",
       "      <td>0.427551</td>\n",
       "      <td>0.180870</td>\n",
       "      <td>0.261932</td>\n",
       "    </tr>\n",
       "    <tr>\n",
       "      <th>...</th>\n",
       "      <td>...</td>\n",
       "      <td>...</td>\n",
       "      <td>...</td>\n",
       "      <td>...</td>\n",
       "      <td>...</td>\n",
       "      <td>...</td>\n",
       "      <td>...</td>\n",
       "      <td>...</td>\n",
       "    </tr>\n",
       "    <tr>\n",
       "      <th>174</th>\n",
       "      <td>0.215465</td>\n",
       "      <td>0.004746</td>\n",
       "      <td>0.054972</td>\n",
       "      <td>0.068837</td>\n",
       "      <td>0.344233</td>\n",
       "      <td>0.039137</td>\n",
       "      <td>0.124019</td>\n",
       "      <td>0.281790</td>\n",
       "    </tr>\n",
       "    <tr>\n",
       "      <th>175</th>\n",
       "      <td>0.214983</td>\n",
       "      <td>0.006344</td>\n",
       "      <td>0.129722</td>\n",
       "      <td>0.149815</td>\n",
       "      <td>0.344181</td>\n",
       "      <td>0.033873</td>\n",
       "      <td>0.255604</td>\n",
       "      <td>0.331774</td>\n",
       "    </tr>\n",
       "    <tr>\n",
       "      <th>176</th>\n",
       "      <td>0.214423</td>\n",
       "      <td>0.036088</td>\n",
       "      <td>0.103491</td>\n",
       "      <td>0.103184</td>\n",
       "      <td>0.344134</td>\n",
       "      <td>0.063129</td>\n",
       "      <td>0.183726</td>\n",
       "      <td>0.318514</td>\n",
       "    </tr>\n",
       "    <tr>\n",
       "      <th>177</th>\n",
       "      <td>0.214119</td>\n",
       "      <td>0.065034</td>\n",
       "      <td>0.205945</td>\n",
       "      <td>0.177610</td>\n",
       "      <td>0.342560</td>\n",
       "      <td>0.171210</td>\n",
       "      <td>0.290519</td>\n",
       "      <td>0.375105</td>\n",
       "    </tr>\n",
       "    <tr>\n",
       "      <th>178</th>\n",
       "      <td>0.213106</td>\n",
       "      <td>0.005111</td>\n",
       "      <td>0.126767</td>\n",
       "      <td>0.092674</td>\n",
       "      <td>0.339991</td>\n",
       "      <td>0.035637</td>\n",
       "      <td>0.147494</td>\n",
       "      <td>0.291638</td>\n",
       "    </tr>\n",
       "  </tbody>\n",
       "</table>\n",
       "<p>179 rows × 8 columns</p>\n",
       "</div>"
      ],
      "text/plain": [
       "       alpha1    alpha2    alpha3    alpha4     beta1     beta2     beta3  \\\n",
       "0    0.215083  0.160183  0.237768  0.240715  0.344209  0.304666  0.153615   \n",
       "1    0.214565  0.021770  0.071565  0.095140  0.344056  0.508428  0.261766   \n",
       "2    0.214155  0.018686  0.077395  0.070575  0.343213  0.414933  0.135158   \n",
       "3    0.213462  0.015098  0.043715  0.047653  0.340411  0.466290  0.214458   \n",
       "4    0.211354  0.015673  0.044423  0.044069  0.339157  0.427551  0.180870   \n",
       "..        ...       ...       ...       ...       ...       ...       ...   \n",
       "174  0.215465  0.004746  0.054972  0.068837  0.344233  0.039137  0.124019   \n",
       "175  0.214983  0.006344  0.129722  0.149815  0.344181  0.033873  0.255604   \n",
       "176  0.214423  0.036088  0.103491  0.103184  0.344134  0.063129  0.183726   \n",
       "177  0.214119  0.065034  0.205945  0.177610  0.342560  0.171210  0.290519   \n",
       "178  0.213106  0.005111  0.126767  0.092674  0.339991  0.035637  0.147494   \n",
       "\n",
       "        beta4  \n",
       "0    0.149270  \n",
       "1    0.319841  \n",
       "2    0.215609  \n",
       "3    0.298431  \n",
       "4    0.261932  \n",
       "..        ...  \n",
       "174  0.281790  \n",
       "175  0.331774  \n",
       "176  0.318514  \n",
       "177  0.375105  \n",
       "178  0.291638  \n",
       "\n",
       "[179 rows x 8 columns]"
      ]
     },
     "metadata": {},
     "output_type": "display_data"
    }
   ],
   "source": [
    "# eeg 1\n",
    "\n",
    "dict = {'alpha1':[],'alpha2':[],'alpha3':[],'alpha4':[],\n",
    "        'beta1':[],'beta2':[],'beta3':[],'beta4':[]}\n",
    "df = pd.DataFrame(dict)\n",
    "\n",
    "for x in range(total_iterate):\n",
    "    ch1_iter = data_bb[eeg_channel1][(x*1000):((x+1)*1000)]\n",
    "    ch2_iter = data_bb[eeg_channel2][(x*1000):((x+1)*1000)]\n",
    "    ch3_iter = data_bb[eeg_channel3][(x*1000):((x+1)*1000)]\n",
    "    ch4_iter = data_bb[eeg_channel4][(x*1000):((x+1)*1000)]\n",
    "    \n",
    "    DataFilter.detrend(ch1_iter, DetrendOperations.LINEAR.value)\n",
    "    DataFilter.detrend(ch2_iter, DetrendOperations.LINEAR.value)\n",
    "    DataFilter.detrend(ch3_iter, DetrendOperations.LINEAR.value)\n",
    "    DataFilter.detrend(ch4_iter, DetrendOperations.LINEAR.value)\n",
    "    \n",
    "    DataFilter.perform_bandpass(ch1_iter, BoardShim.get_sampling_rate(board_id), 5.0, 35.0, 4,\n",
    "                                        FilterTypes.BUTTERWORTH.value, 0)\n",
    "    DataFilter.perform_bandpass(ch2_iter, BoardShim.get_sampling_rate(board_id), 5.0, 35.0, 4,\n",
    "                                        FilterTypes.BUTTERWORTH.value, 0)\n",
    "    DataFilter.perform_bandpass(ch3_iter, BoardShim.get_sampling_rate(board_id), 5.0, 35.0, 4,\n",
    "                                        FilterTypes.BUTTERWORTH.value, 0)\n",
    "    DataFilter.perform_bandpass(ch4_iter, BoardShim.get_sampling_rate(board_id), 5.0, 35.0, 4,\n",
    "                                        FilterTypes.BUTTERWORTH.value, 0)\n",
    "    \n",
    "    psd1 = DataFilter.get_psd_welch(ch1_iter, nfft, nfft // 2, sampling_rate,\n",
    "                                   WindowOperations.HAMMING.value)\n",
    "    psd2 = DataFilter.get_psd_welch(ch2_iter, nfft, nfft // 2, sampling_rate,\n",
    "                                   WindowOperations.HAMMING.value)\n",
    "    psd3 = DataFilter.get_psd_welch(ch3_iter, nfft, nfft // 2, sampling_rate,\n",
    "                                   WindowOperations.HAMMING.value)\n",
    "    psd4 = DataFilter.get_psd_welch(ch4_iter, nfft, nfft // 2, sampling_rate,\n",
    "                                   WindowOperations.HAMMING.value)\n",
    "    \n",
    "    band_power_total1 = DataFilter.get_band_power(psd1, psd1[1][0], psd1[1][-1])\n",
    "    band_power_total2 = DataFilter.get_band_power(psd2, psd2[1][0], psd2[1][-1])\n",
    "    band_power_total3 = DataFilter.get_band_power(psd3, psd3[1][0], psd3[1][-1])\n",
    "    band_power_total4 = DataFilter.get_band_power(psd4, psd4[1][0], psd4[1][-1])\n",
    "    \n",
    "    band_power_alpha1 = DataFilter.get_band_power(psd1, 8.0, 13.0)\n",
    "    band_power_alpha2 = DataFilter.get_band_power(psd2, 8.0, 13.0)\n",
    "    band_power_alpha3 = DataFilter.get_band_power(psd3, 8.0, 13.0)\n",
    "    band_power_alpha4 = DataFilter.get_band_power(psd4, 8.0, 13.0)\n",
    "    \n",
    "    alpha_relative1 = band_power_alpha1/band_power_total1\n",
    "    alpha_relative2 = band_power_alpha2/band_power_total2\n",
    "    alpha_relative3 = band_power_alpha3/band_power_total3\n",
    "    alpha_relative4 = band_power_alpha4/band_power_total4\n",
    "    \n",
    "    band_power_beta1 = DataFilter.get_band_power(psd1, 13.0, 32.0)\n",
    "    band_power_beta2 = DataFilter.get_band_power(psd2, 13.0, 32.0)\n",
    "    band_power_beta3 = DataFilter.get_band_power(psd3, 13.0, 32.0)\n",
    "    band_power_beta4 = DataFilter.get_band_power(psd4, 13.0, 32.0)\n",
    "    \n",
    "    beta_relative1 = band_power_beta1/band_power_total1\n",
    "    beta_relative2 = band_power_beta2/band_power_total2\n",
    "    beta_relative3 = band_power_beta3/band_power_total3\n",
    "    beta_relative4 = band_power_beta4/band_power_total4\n",
    "    \n",
    "    dict1 = {'alpha1':[alpha_relative1],'alpha2':[alpha_relative2],\n",
    "             'alpha3':[alpha_relative3],'alpha4':[alpha_relative4],\n",
    "             'beta1':[beta_relative1],'beta2':[beta_relative2],\n",
    "             'beta3':[beta_relative3],'beta4':[beta_relative4]}\n",
    "    \n",
    "    df2 = pd.DataFrame(dict1)\n",
    "    df = pd.concat([df,df2],ignore_index=True)\n",
    "    # df.reset_index()\n",
    "\n",
    "display(df)"
   ]
  },
  {
   "cell_type": "code",
   "execution_count": 170,
   "id": "a7a10309",
   "metadata": {},
   "outputs": [],
   "source": [
    "df['type'] = 2"
   ]
  },
  {
   "cell_type": "code",
   "execution_count": 171,
   "id": "68fdd23f",
   "metadata": {},
   "outputs": [
    {
     "data": {
      "text/html": [
       "<div>\n",
       "<style scoped>\n",
       "    .dataframe tbody tr th:only-of-type {\n",
       "        vertical-align: middle;\n",
       "    }\n",
       "\n",
       "    .dataframe tbody tr th {\n",
       "        vertical-align: top;\n",
       "    }\n",
       "\n",
       "    .dataframe thead th {\n",
       "        text-align: right;\n",
       "    }\n",
       "</style>\n",
       "<table border=\"1\" class=\"dataframe\">\n",
       "  <thead>\n",
       "    <tr style=\"text-align: right;\">\n",
       "      <th></th>\n",
       "      <th>alpha1</th>\n",
       "      <th>alpha2</th>\n",
       "      <th>alpha3</th>\n",
       "      <th>alpha4</th>\n",
       "      <th>beta1</th>\n",
       "      <th>beta2</th>\n",
       "      <th>beta3</th>\n",
       "      <th>beta4</th>\n",
       "      <th>type</th>\n",
       "    </tr>\n",
       "  </thead>\n",
       "  <tbody>\n",
       "    <tr>\n",
       "      <th>0</th>\n",
       "      <td>0.215083</td>\n",
       "      <td>0.160183</td>\n",
       "      <td>0.237768</td>\n",
       "      <td>0.240715</td>\n",
       "      <td>0.344209</td>\n",
       "      <td>0.304666</td>\n",
       "      <td>0.153615</td>\n",
       "      <td>0.149270</td>\n",
       "      <td>2</td>\n",
       "    </tr>\n",
       "    <tr>\n",
       "      <th>1</th>\n",
       "      <td>0.214565</td>\n",
       "      <td>0.021770</td>\n",
       "      <td>0.071565</td>\n",
       "      <td>0.095140</td>\n",
       "      <td>0.344056</td>\n",
       "      <td>0.508428</td>\n",
       "      <td>0.261766</td>\n",
       "      <td>0.319841</td>\n",
       "      <td>2</td>\n",
       "    </tr>\n",
       "    <tr>\n",
       "      <th>2</th>\n",
       "      <td>0.214155</td>\n",
       "      <td>0.018686</td>\n",
       "      <td>0.077395</td>\n",
       "      <td>0.070575</td>\n",
       "      <td>0.343213</td>\n",
       "      <td>0.414933</td>\n",
       "      <td>0.135158</td>\n",
       "      <td>0.215609</td>\n",
       "      <td>2</td>\n",
       "    </tr>\n",
       "    <tr>\n",
       "      <th>3</th>\n",
       "      <td>0.213462</td>\n",
       "      <td>0.015098</td>\n",
       "      <td>0.043715</td>\n",
       "      <td>0.047653</td>\n",
       "      <td>0.340411</td>\n",
       "      <td>0.466290</td>\n",
       "      <td>0.214458</td>\n",
       "      <td>0.298431</td>\n",
       "      <td>2</td>\n",
       "    </tr>\n",
       "    <tr>\n",
       "      <th>4</th>\n",
       "      <td>0.211354</td>\n",
       "      <td>0.015673</td>\n",
       "      <td>0.044423</td>\n",
       "      <td>0.044069</td>\n",
       "      <td>0.339157</td>\n",
       "      <td>0.427551</td>\n",
       "      <td>0.180870</td>\n",
       "      <td>0.261932</td>\n",
       "      <td>2</td>\n",
       "    </tr>\n",
       "    <tr>\n",
       "      <th>...</th>\n",
       "      <td>...</td>\n",
       "      <td>...</td>\n",
       "      <td>...</td>\n",
       "      <td>...</td>\n",
       "      <td>...</td>\n",
       "      <td>...</td>\n",
       "      <td>...</td>\n",
       "      <td>...</td>\n",
       "      <td>...</td>\n",
       "    </tr>\n",
       "    <tr>\n",
       "      <th>174</th>\n",
       "      <td>0.215465</td>\n",
       "      <td>0.004746</td>\n",
       "      <td>0.054972</td>\n",
       "      <td>0.068837</td>\n",
       "      <td>0.344233</td>\n",
       "      <td>0.039137</td>\n",
       "      <td>0.124019</td>\n",
       "      <td>0.281790</td>\n",
       "      <td>2</td>\n",
       "    </tr>\n",
       "    <tr>\n",
       "      <th>175</th>\n",
       "      <td>0.214983</td>\n",
       "      <td>0.006344</td>\n",
       "      <td>0.129722</td>\n",
       "      <td>0.149815</td>\n",
       "      <td>0.344181</td>\n",
       "      <td>0.033873</td>\n",
       "      <td>0.255604</td>\n",
       "      <td>0.331774</td>\n",
       "      <td>2</td>\n",
       "    </tr>\n",
       "    <tr>\n",
       "      <th>176</th>\n",
       "      <td>0.214423</td>\n",
       "      <td>0.036088</td>\n",
       "      <td>0.103491</td>\n",
       "      <td>0.103184</td>\n",
       "      <td>0.344134</td>\n",
       "      <td>0.063129</td>\n",
       "      <td>0.183726</td>\n",
       "      <td>0.318514</td>\n",
       "      <td>2</td>\n",
       "    </tr>\n",
       "    <tr>\n",
       "      <th>177</th>\n",
       "      <td>0.214119</td>\n",
       "      <td>0.065034</td>\n",
       "      <td>0.205945</td>\n",
       "      <td>0.177610</td>\n",
       "      <td>0.342560</td>\n",
       "      <td>0.171210</td>\n",
       "      <td>0.290519</td>\n",
       "      <td>0.375105</td>\n",
       "      <td>2</td>\n",
       "    </tr>\n",
       "    <tr>\n",
       "      <th>178</th>\n",
       "      <td>0.213106</td>\n",
       "      <td>0.005111</td>\n",
       "      <td>0.126767</td>\n",
       "      <td>0.092674</td>\n",
       "      <td>0.339991</td>\n",
       "      <td>0.035637</td>\n",
       "      <td>0.147494</td>\n",
       "      <td>0.291638</td>\n",
       "      <td>2</td>\n",
       "    </tr>\n",
       "  </tbody>\n",
       "</table>\n",
       "<p>179 rows × 9 columns</p>\n",
       "</div>"
      ],
      "text/plain": [
       "       alpha1    alpha2    alpha3    alpha4     beta1     beta2     beta3  \\\n",
       "0    0.215083  0.160183  0.237768  0.240715  0.344209  0.304666  0.153615   \n",
       "1    0.214565  0.021770  0.071565  0.095140  0.344056  0.508428  0.261766   \n",
       "2    0.214155  0.018686  0.077395  0.070575  0.343213  0.414933  0.135158   \n",
       "3    0.213462  0.015098  0.043715  0.047653  0.340411  0.466290  0.214458   \n",
       "4    0.211354  0.015673  0.044423  0.044069  0.339157  0.427551  0.180870   \n",
       "..        ...       ...       ...       ...       ...       ...       ...   \n",
       "174  0.215465  0.004746  0.054972  0.068837  0.344233  0.039137  0.124019   \n",
       "175  0.214983  0.006344  0.129722  0.149815  0.344181  0.033873  0.255604   \n",
       "176  0.214423  0.036088  0.103491  0.103184  0.344134  0.063129  0.183726   \n",
       "177  0.214119  0.065034  0.205945  0.177610  0.342560  0.171210  0.290519   \n",
       "178  0.213106  0.005111  0.126767  0.092674  0.339991  0.035637  0.147494   \n",
       "\n",
       "        beta4  type  \n",
       "0    0.149270     2  \n",
       "1    0.319841     2  \n",
       "2    0.215609     2  \n",
       "3    0.298431     2  \n",
       "4    0.261932     2  \n",
       "..        ...   ...  \n",
       "174  0.281790     2  \n",
       "175  0.331774     2  \n",
       "176  0.318514     2  \n",
       "177  0.375105     2  \n",
       "178  0.291638     2  \n",
       "\n",
       "[179 rows x 9 columns]"
      ]
     },
     "execution_count": 171,
     "metadata": {},
     "output_type": "execute_result"
    }
   ],
   "source": [
    "df"
   ]
  },
  {
   "cell_type": "code",
   "execution_count": 172,
   "id": "86b6403c",
   "metadata": {},
   "outputs": [],
   "source": [
    "DS_NR = df"
   ]
  },
  {
   "cell_type": "markdown",
   "id": "2924992b",
   "metadata": {},
   "source": [
    "## Integrate Relax and Not Relax Data"
   ]
  },
  {
   "cell_type": "code",
   "execution_count": 173,
   "id": "3b392313",
   "metadata": {},
   "outputs": [],
   "source": [
    "DS_final = df = pd.concat([DS_R,DS_NR],ignore_index=True)"
   ]
  },
  {
   "cell_type": "code",
   "execution_count": 174,
   "id": "d78efef8",
   "metadata": {},
   "outputs": [
    {
     "data": {
      "text/html": [
       "<div>\n",
       "<style scoped>\n",
       "    .dataframe tbody tr th:only-of-type {\n",
       "        vertical-align: middle;\n",
       "    }\n",
       "\n",
       "    .dataframe tbody tr th {\n",
       "        vertical-align: top;\n",
       "    }\n",
       "\n",
       "    .dataframe thead th {\n",
       "        text-align: right;\n",
       "    }\n",
       "</style>\n",
       "<table border=\"1\" class=\"dataframe\">\n",
       "  <thead>\n",
       "    <tr style=\"text-align: right;\">\n",
       "      <th></th>\n",
       "      <th>alpha1</th>\n",
       "      <th>alpha2</th>\n",
       "      <th>alpha3</th>\n",
       "      <th>alpha4</th>\n",
       "      <th>beta1</th>\n",
       "      <th>beta2</th>\n",
       "      <th>beta3</th>\n",
       "      <th>beta4</th>\n",
       "      <th>type</th>\n",
       "    </tr>\n",
       "  </thead>\n",
       "  <tbody>\n",
       "    <tr>\n",
       "      <th>0</th>\n",
       "      <td>0.219689</td>\n",
       "      <td>0.216737</td>\n",
       "      <td>0.181093</td>\n",
       "      <td>0.172173</td>\n",
       "      <td>0.342265</td>\n",
       "      <td>0.256805</td>\n",
       "      <td>0.286769</td>\n",
       "      <td>0.286137</td>\n",
       "      <td>1</td>\n",
       "    </tr>\n",
       "    <tr>\n",
       "      <th>1</th>\n",
       "      <td>0.213225</td>\n",
       "      <td>0.196836</td>\n",
       "      <td>0.326917</td>\n",
       "      <td>0.208310</td>\n",
       "      <td>0.345572</td>\n",
       "      <td>0.210412</td>\n",
       "      <td>0.262907</td>\n",
       "      <td>0.314860</td>\n",
       "      <td>1</td>\n",
       "    </tr>\n",
       "    <tr>\n",
       "      <th>2</th>\n",
       "      <td>0.215526</td>\n",
       "      <td>0.246585</td>\n",
       "      <td>0.214366</td>\n",
       "      <td>0.204940</td>\n",
       "      <td>0.343213</td>\n",
       "      <td>0.264269</td>\n",
       "      <td>0.223324</td>\n",
       "      <td>0.221034</td>\n",
       "      <td>1</td>\n",
       "    </tr>\n",
       "    <tr>\n",
       "      <th>3</th>\n",
       "      <td>0.214015</td>\n",
       "      <td>0.251356</td>\n",
       "      <td>0.206519</td>\n",
       "      <td>0.208742</td>\n",
       "      <td>0.328817</td>\n",
       "      <td>0.235890</td>\n",
       "      <td>0.242226</td>\n",
       "      <td>0.233077</td>\n",
       "      <td>1</td>\n",
       "    </tr>\n",
       "    <tr>\n",
       "      <th>4</th>\n",
       "      <td>0.217977</td>\n",
       "      <td>0.236930</td>\n",
       "      <td>0.258069</td>\n",
       "      <td>0.236295</td>\n",
       "      <td>0.340574</td>\n",
       "      <td>0.253191</td>\n",
       "      <td>0.291919</td>\n",
       "      <td>0.277368</td>\n",
       "      <td>1</td>\n",
       "    </tr>\n",
       "    <tr>\n",
       "      <th>...</th>\n",
       "      <td>...</td>\n",
       "      <td>...</td>\n",
       "      <td>...</td>\n",
       "      <td>...</td>\n",
       "      <td>...</td>\n",
       "      <td>...</td>\n",
       "      <td>...</td>\n",
       "      <td>...</td>\n",
       "      <td>...</td>\n",
       "    </tr>\n",
       "    <tr>\n",
       "      <th>339</th>\n",
       "      <td>0.215465</td>\n",
       "      <td>0.004746</td>\n",
       "      <td>0.054972</td>\n",
       "      <td>0.068837</td>\n",
       "      <td>0.344233</td>\n",
       "      <td>0.039137</td>\n",
       "      <td>0.124019</td>\n",
       "      <td>0.281790</td>\n",
       "      <td>2</td>\n",
       "    </tr>\n",
       "    <tr>\n",
       "      <th>340</th>\n",
       "      <td>0.214983</td>\n",
       "      <td>0.006344</td>\n",
       "      <td>0.129722</td>\n",
       "      <td>0.149815</td>\n",
       "      <td>0.344181</td>\n",
       "      <td>0.033873</td>\n",
       "      <td>0.255604</td>\n",
       "      <td>0.331774</td>\n",
       "      <td>2</td>\n",
       "    </tr>\n",
       "    <tr>\n",
       "      <th>341</th>\n",
       "      <td>0.214423</td>\n",
       "      <td>0.036088</td>\n",
       "      <td>0.103491</td>\n",
       "      <td>0.103184</td>\n",
       "      <td>0.344134</td>\n",
       "      <td>0.063129</td>\n",
       "      <td>0.183726</td>\n",
       "      <td>0.318514</td>\n",
       "      <td>2</td>\n",
       "    </tr>\n",
       "    <tr>\n",
       "      <th>342</th>\n",
       "      <td>0.214119</td>\n",
       "      <td>0.065034</td>\n",
       "      <td>0.205945</td>\n",
       "      <td>0.177610</td>\n",
       "      <td>0.342560</td>\n",
       "      <td>0.171210</td>\n",
       "      <td>0.290519</td>\n",
       "      <td>0.375105</td>\n",
       "      <td>2</td>\n",
       "    </tr>\n",
       "    <tr>\n",
       "      <th>343</th>\n",
       "      <td>0.213106</td>\n",
       "      <td>0.005111</td>\n",
       "      <td>0.126767</td>\n",
       "      <td>0.092674</td>\n",
       "      <td>0.339991</td>\n",
       "      <td>0.035637</td>\n",
       "      <td>0.147494</td>\n",
       "      <td>0.291638</td>\n",
       "      <td>2</td>\n",
       "    </tr>\n",
       "  </tbody>\n",
       "</table>\n",
       "<p>344 rows × 9 columns</p>\n",
       "</div>"
      ],
      "text/plain": [
       "       alpha1    alpha2    alpha3    alpha4     beta1     beta2     beta3  \\\n",
       "0    0.219689  0.216737  0.181093  0.172173  0.342265  0.256805  0.286769   \n",
       "1    0.213225  0.196836  0.326917  0.208310  0.345572  0.210412  0.262907   \n",
       "2    0.215526  0.246585  0.214366  0.204940  0.343213  0.264269  0.223324   \n",
       "3    0.214015  0.251356  0.206519  0.208742  0.328817  0.235890  0.242226   \n",
       "4    0.217977  0.236930  0.258069  0.236295  0.340574  0.253191  0.291919   \n",
       "..        ...       ...       ...       ...       ...       ...       ...   \n",
       "339  0.215465  0.004746  0.054972  0.068837  0.344233  0.039137  0.124019   \n",
       "340  0.214983  0.006344  0.129722  0.149815  0.344181  0.033873  0.255604   \n",
       "341  0.214423  0.036088  0.103491  0.103184  0.344134  0.063129  0.183726   \n",
       "342  0.214119  0.065034  0.205945  0.177610  0.342560  0.171210  0.290519   \n",
       "343  0.213106  0.005111  0.126767  0.092674  0.339991  0.035637  0.147494   \n",
       "\n",
       "        beta4  type  \n",
       "0    0.286137     1  \n",
       "1    0.314860     1  \n",
       "2    0.221034     1  \n",
       "3    0.233077     1  \n",
       "4    0.277368     1  \n",
       "..        ...   ...  \n",
       "339  0.281790     2  \n",
       "340  0.331774     2  \n",
       "341  0.318514     2  \n",
       "342  0.375105     2  \n",
       "343  0.291638     2  \n",
       "\n",
       "[344 rows x 9 columns]"
      ]
     },
     "execution_count": 174,
     "metadata": {},
     "output_type": "execute_result"
    }
   ],
   "source": [
    "DS_final"
   ]
  },
  {
   "cell_type": "markdown",
   "id": "c39af4bc",
   "metadata": {},
   "source": [
    "## Trial SVM"
   ]
  },
  {
   "cell_type": "code",
   "execution_count": 272,
   "id": "4e28a1ec",
   "metadata": {
    "scrolled": true
   },
   "outputs": [
    {
     "data": {
      "text/plain": [
       "<AxesSubplot:xlabel='alpha1', ylabel='beta1'>"
      ]
     },
     "execution_count": 272,
     "metadata": {},
     "output_type": "execute_result"
    },
    {
     "data": {
      "image/png": "[encoded data removed]",
      "text/plain": [
       "<Figure size 432x288 with 1 Axes>"
      ]
     },
     "metadata": {
      "needs_background": "light"
     },
     "output_type": "display_data"
    }
   ],
   "source": [
    "sns.scatterplot(x='alpha1',y='beta1',hue='type',data=DS_final)"
   ]
  },
  {
   "cell_type": "code",
   "execution_count": 273,
   "id": "cc3f8008",
   "metadata": {},
   "outputs": [
    {
     "data": {
      "text/plain": [
       "<AxesSubplot:xlabel='alpha2', ylabel='beta2'>"
      ]
     },
     "execution_count": 273,
     "metadata": {},
     "output_type": "execute_result"
    },
    {
     "data": {
      "image/png": "[encoded data removed]",
      "text/plain": [
       "<Figure size 432x288 with 1 Axes>"
      ]
     },
     "metadata": {
      "needs_background": "light"
     },
     "output_type": "display_data"
    }
   ],
   "source": [
    "sns.scatterplot(x='alpha2',y='beta2',hue='type',data=DS_final)"
   ]
  },
  {
   "cell_type": "code",
   "execution_count": 274,
   "id": "29147ee9",
   "metadata": {},
   "outputs": [
    {
     "data": {
      "text/plain": [
       "<AxesSubplot:xlabel='alpha3', ylabel='beta3'>"
      ]
     },
     "execution_count": 274,
     "metadata": {},
     "output_type": "execute_result"
    },
    {
     "data": {
      "image/png": "[encoded data removed]",
      "text/plain": [
       "<Figure size 432x288 with 1 Axes>"
      ]
     },
     "metadata": {
      "needs_background": "light"
     },
     "output_type": "display_data"
    }
   ],
   "source": [
    "sns.scatterplot(x='alpha3',y='beta3',hue='type',data=DS_final)"
   ]
  },
  {
   "cell_type": "code",
   "execution_count": 275,
   "id": "674d8f51",
   "metadata": {},
   "outputs": [
    {
     "data": {
      "text/plain": [
       "<AxesSubplot:xlabel='alpha4', ylabel='beta4'>"
      ]
     },
     "execution_count": 275,
     "metadata": {},
     "output_type": "execute_result"
    },
    {
     "data": {
      "image/png": "[encoded data removed]",
      "text/plain": [
       "<Figure size 432x288 with 1 Axes>"
      ]
     },
     "metadata": {
      "needs_background": "light"
     },
     "output_type": "display_data"
    }
   ],
   "source": [
    "sns.scatterplot(x='alpha4',y='beta4',hue='type',data=DS_final)"
   ]
  },
  {
   "cell_type": "code",
   "execution_count": 175,
   "id": "0499f83d",
   "metadata": {},
   "outputs": [],
   "source": [
    "from sklearn.svm import SVC\n",
    "from sklearn.model_selection import train_test_split"
   ]
  },
  {
   "cell_type": "code",
   "execution_count": 176,
   "id": "22947d1d",
   "metadata": {},
   "outputs": [],
   "source": [
    "y = DS_final['type']"
   ]
  },
  {
   "cell_type": "code",
   "execution_count": 177,
   "id": "24177283",
   "metadata": {},
   "outputs": [],
   "source": [
    "X = DS_final[['alpha1','beta1']]"
   ]
  },
  {
   "cell_type": "code",
   "execution_count": 178,
   "id": "61001f0a",
   "metadata": {},
   "outputs": [],
   "source": [
    "x_train,x_test,y_train,y_test = train_test_split(X,y,test_size=0.3,random_state=0)"
   ]
  },
  {
   "cell_type": "code",
   "execution_count": 179,
   "id": "fcf0b48f",
   "metadata": {},
   "outputs": [
    {
     "data": {
      "text/plain": [
       "((240, 2), (240,))"
      ]
     },
     "execution_count": 179,
     "metadata": {},
     "output_type": "execute_result"
    }
   ],
   "source": [
    "x_train.shape, y_train.shape"
   ]
  },
  {
   "cell_type": "code",
   "execution_count": 180,
   "id": "0cb4a80c",
   "metadata": {},
   "outputs": [
    {
     "data": {
      "text/plain": [
       "((104, 2), (104,))"
      ]
     },
     "execution_count": 180,
     "metadata": {},
     "output_type": "execute_result"
    }
   ],
   "source": [
    "x_test.shape, y_test.shape"
   ]
  },
  {
   "cell_type": "code",
   "execution_count": 71,
   "id": "cd6dd7a6",
   "metadata": {},
   "outputs": [],
   "source": [
    "model = SVC(kernel='rbf',C=100,gamma='scale')"
   ]
  },
  {
   "cell_type": "code",
   "execution_count": 72,
   "id": "eb36bd00",
   "metadata": {},
   "outputs": [
    {
     "data": {
      "text/plain": [
       "SVC(C=100)"
      ]
     },
     "execution_count": 72,
     "metadata": {},
     "output_type": "execute_result"
    }
   ],
   "source": [
    "model.fit(x_train,y_train)"
   ]
  },
  {
   "cell_type": "code",
   "execution_count": 73,
   "id": "4ce3a7ea",
   "metadata": {},
   "outputs": [],
   "source": [
    "from svm_margin_plot import plot_svm_boundary"
   ]
  },
  {
   "cell_type": "code",
   "execution_count": 74,
   "id": "4fe8179d",
   "metadata": {
    "scrolled": false
   },
   "outputs": [
    {
     "data": {
      "image/png": "[encoded data removed]",
      "text/plain": [
       "<Figure size 432x288 with 1 Axes>"
      ]
     },
     "metadata": {
      "needs_background": "light"
     },
     "output_type": "display_data"
    }
   ],
   "source": [
    "plot_svm_boundary(model,X,y)"
   ]
  },
  {
   "cell_type": "markdown",
   "id": "8ba77394",
   "metadata": {},
   "source": [
    "## Testing Model"
   ]
  },
  {
   "cell_type": "code",
   "execution_count": 75,
   "id": "e5caf2fc",
   "metadata": {},
   "outputs": [
    {
     "data": {
      "text/plain": [
       "0.7788461538461539"
      ]
     },
     "execution_count": 75,
     "metadata": {},
     "output_type": "execute_result"
    }
   ],
   "source": [
    "model.score(x_test,y_test)"
   ]
  },
  {
   "cell_type": "code",
   "execution_count": 76,
   "id": "3582739f",
   "metadata": {},
   "outputs": [],
   "source": [
    "from sklearn.model_selection import cross_val_score"
   ]
  },
  {
   "cell_type": "code",
   "execution_count": 77,
   "id": "75fbd8fb",
   "metadata": {},
   "outputs": [
    {
     "data": {
      "text/plain": [
       "array([0.76811594, 0.73913043, 0.75362319, 0.7826087 , 0.76470588])"
      ]
     },
     "execution_count": 77,
     "metadata": {},
     "output_type": "execute_result"
    }
   ],
   "source": [
    "scores = cross_val_score(model,X,y,cv=5)\n",
    "scores"
   ]
  },
  {
   "cell_type": "code",
   "execution_count": 78,
   "id": "79b3c6af",
   "metadata": {},
   "outputs": [
    {
     "name": "stdout",
     "output_type": "stream",
     "text": [
      "0.76 accuracy with a standard deviation of 0.01\n"
     ]
    }
   ],
   "source": [
    "print(\"%0.2f accuracy with a standard deviation of %0.2f\" % (scores.mean(), scores.std()))"
   ]
  },
  {
   "cell_type": "markdown",
   "id": "b93def8a",
   "metadata": {},
   "source": [
    "## Model Persistence (Saving Model)"
   ]
  },
  {
   "cell_type": "code",
   "execution_count": 97,
   "id": "deddb13e",
   "metadata": {},
   "outputs": [],
   "source": [
    "from joblib import dump,load"
   ]
  },
  {
   "cell_type": "code",
   "execution_count": 98,
   "id": "a9793c7c",
   "metadata": {},
   "outputs": [
    {
     "data": {
      "text/plain": [
       "['/home/bimanjaya/learner/TA/brainflow/EEG-projects/src/model2.joblib']"
      ]
     },
     "execution_count": 98,
     "metadata": {},
     "output_type": "execute_result"
    }
   ],
   "source": [
    "dump(model,'/home/bimanjaya/learner/TA/brainflow/EEG-projects/src/model2.joblib')"
   ]
  },
  {
   "cell_type": "markdown",
   "id": "265cc4fa",
   "metadata": {},
   "source": [
    "## Loading Saved Model"
   ]
  },
  {
   "cell_type": "code",
   "execution_count": 99,
   "id": "72c21e73",
   "metadata": {},
   "outputs": [
    {
     "name": "stderr",
     "output_type": "stream",
     "text": [
      "/home/bimanjaya/.conda/envs/selebor/lib/python3.6/site-packages/sklearn/base.py:315: UserWarning: Trying to unpickle estimator SVC from version 1.1.1 when using version 0.24.2. This might lead to breaking code or invalid results. Use at your own risk.\n",
      "  UserWarning)\n"
     ]
    }
   ],
   "source": [
    "loaded = load('/home/bimanjaya/learner/TA/brainflow/EEG-projects/src/model1.joblib') "
   ]
  },
  {
   "cell_type": "code",
   "execution_count": 100,
   "id": "1b22931f",
   "metadata": {},
   "outputs": [
    {
     "ename": "ValueError",
     "evalue": "X.shape[1] = 2 should be equal to 8, the number of features at training time",
     "output_type": "error",
     "traceback": [
      "\u001b[0;31m---------------------------------------------------------------------------\u001b[0m",
      "\u001b[0;31mValueError\u001b[0m                                Traceback (most recent call last)",
      "\u001b[0;32m<ipython-input-100-1df264af97d9>\u001b[0m in \u001b[0;36m<module>\u001b[0;34m\u001b[0m\n\u001b[0;32m----> 1\u001b[0;31m \u001b[0mplot_svm_boundary\u001b[0m\u001b[0;34m(\u001b[0m\u001b[0mloaded\u001b[0m\u001b[0;34m,\u001b[0m\u001b[0mX\u001b[0m\u001b[0;34m,\u001b[0m\u001b[0my\u001b[0m\u001b[0;34m)\u001b[0m\u001b[0;34m\u001b[0m\u001b[0m\n\u001b[0m",
      "\u001b[0;32m~/learner/TA/brainflow/EEG-projects/src/svm_margin_plot.py\u001b[0m in \u001b[0;36mplot_svm_boundary\u001b[0;34m(model, X, y)\u001b[0m\n\u001b[1;32m     25\u001b[0m     \u001b[0mYY\u001b[0m\u001b[0;34m,\u001b[0m \u001b[0mXX\u001b[0m \u001b[0;34m=\u001b[0m \u001b[0mnp\u001b[0m\u001b[0;34m.\u001b[0m\u001b[0mmeshgrid\u001b[0m\u001b[0;34m(\u001b[0m\u001b[0myy\u001b[0m\u001b[0;34m,\u001b[0m \u001b[0mxx\u001b[0m\u001b[0;34m)\u001b[0m\u001b[0;34m\u001b[0m\u001b[0m\n\u001b[1;32m     26\u001b[0m     \u001b[0mxy\u001b[0m \u001b[0;34m=\u001b[0m \u001b[0mnp\u001b[0m\u001b[0;34m.\u001b[0m\u001b[0mvstack\u001b[0m\u001b[0;34m(\u001b[0m\u001b[0;34m[\u001b[0m\u001b[0mXX\u001b[0m\u001b[0;34m.\u001b[0m\u001b[0mravel\u001b[0m\u001b[0;34m(\u001b[0m\u001b[0;34m)\u001b[0m\u001b[0;34m,\u001b[0m \u001b[0mYY\u001b[0m\u001b[0;34m.\u001b[0m\u001b[0mravel\u001b[0m\u001b[0;34m(\u001b[0m\u001b[0;34m)\u001b[0m\u001b[0;34m]\u001b[0m\u001b[0;34m)\u001b[0m\u001b[0;34m.\u001b[0m\u001b[0mT\u001b[0m\u001b[0;34m\u001b[0m\u001b[0m\n\u001b[0;32m---> 27\u001b[0;31m     \u001b[0mZ\u001b[0m \u001b[0;34m=\u001b[0m \u001b[0mmodel\u001b[0m\u001b[0;34m.\u001b[0m\u001b[0mdecision_function\u001b[0m\u001b[0;34m(\u001b[0m\u001b[0mxy\u001b[0m\u001b[0;34m)\u001b[0m\u001b[0;34m.\u001b[0m\u001b[0mreshape\u001b[0m\u001b[0;34m(\u001b[0m\u001b[0mXX\u001b[0m\u001b[0;34m.\u001b[0m\u001b[0mshape\u001b[0m\u001b[0;34m)\u001b[0m\u001b[0;34m\u001b[0m\u001b[0m\n\u001b[0m\u001b[1;32m     28\u001b[0m \u001b[0;34m\u001b[0m\u001b[0m\n\u001b[1;32m     29\u001b[0m     \u001b[0;31m# plot decision boundary and margins\u001b[0m\u001b[0;34m\u001b[0m\u001b[0;34m\u001b[0m\u001b[0m\n",
      "\u001b[0;32m~/.conda/envs/selebor/lib/python3.6/site-packages/sklearn/svm/_base.py\u001b[0m in \u001b[0;36mdecision_function\u001b[0;34m(self, X)\u001b[0m\n\u001b[1;32m    590\u001b[0m         \u001b[0mtransformation\u001b[0m \u001b[0mof\u001b[0m \u001b[0movo\u001b[0m \u001b[0mdecision\u001b[0m \u001b[0mfunction\u001b[0m\u001b[0;34m.\u001b[0m\u001b[0;34m\u001b[0m\u001b[0m\n\u001b[1;32m    591\u001b[0m         \"\"\"\n\u001b[0;32m--> 592\u001b[0;31m         \u001b[0mdec\u001b[0m \u001b[0;34m=\u001b[0m \u001b[0mself\u001b[0m\u001b[0;34m.\u001b[0m\u001b[0m_decision_function\u001b[0m\u001b[0;34m(\u001b[0m\u001b[0mX\u001b[0m\u001b[0;34m)\u001b[0m\u001b[0;34m\u001b[0m\u001b[0m\n\u001b[0m\u001b[1;32m    593\u001b[0m         \u001b[0;32mif\u001b[0m \u001b[0mself\u001b[0m\u001b[0;34m.\u001b[0m\u001b[0mdecision_function_shape\u001b[0m \u001b[0;34m==\u001b[0m \u001b[0;34m'ovr'\u001b[0m \u001b[0;32mand\u001b[0m \u001b[0mlen\u001b[0m\u001b[0;34m(\u001b[0m\u001b[0mself\u001b[0m\u001b[0;34m.\u001b[0m\u001b[0mclasses_\u001b[0m\u001b[0;34m)\u001b[0m \u001b[0;34m>\u001b[0m \u001b[0;36m2\u001b[0m\u001b[0;34m:\u001b[0m\u001b[0;34m\u001b[0m\u001b[0m\n\u001b[1;32m    594\u001b[0m             \u001b[0;32mreturn\u001b[0m \u001b[0m_ovr_decision_function\u001b[0m\u001b[0;34m(\u001b[0m\u001b[0mdec\u001b[0m \u001b[0;34m<\u001b[0m \u001b[0;36m0\u001b[0m\u001b[0;34m,\u001b[0m \u001b[0;34m-\u001b[0m\u001b[0mdec\u001b[0m\u001b[0;34m,\u001b[0m \u001b[0mlen\u001b[0m\u001b[0;34m(\u001b[0m\u001b[0mself\u001b[0m\u001b[0;34m.\u001b[0m\u001b[0mclasses_\u001b[0m\u001b[0;34m)\u001b[0m\u001b[0;34m)\u001b[0m\u001b[0;34m\u001b[0m\u001b[0m\n",
      "\u001b[0;32m~/.conda/envs/selebor/lib/python3.6/site-packages/sklearn/svm/_base.py\u001b[0m in \u001b[0;36m_decision_function\u001b[0;34m(self, X)\u001b[0m\n\u001b[1;32m    415\u001b[0m         \u001b[0;31m# NOTE: _validate_for_predict contains check for is_fitted\u001b[0m\u001b[0;34m\u001b[0m\u001b[0;34m\u001b[0m\u001b[0m\n\u001b[1;32m    416\u001b[0m         \u001b[0;31m# hence must be placed before any other attributes are used.\u001b[0m\u001b[0;34m\u001b[0m\u001b[0;34m\u001b[0m\u001b[0m\n\u001b[0;32m--> 417\u001b[0;31m         \u001b[0mX\u001b[0m \u001b[0;34m=\u001b[0m \u001b[0mself\u001b[0m\u001b[0;34m.\u001b[0m\u001b[0m_validate_for_predict\u001b[0m\u001b[0;34m(\u001b[0m\u001b[0mX\u001b[0m\u001b[0;34m)\u001b[0m\u001b[0;34m\u001b[0m\u001b[0m\n\u001b[0m\u001b[1;32m    418\u001b[0m         \u001b[0mX\u001b[0m \u001b[0;34m=\u001b[0m \u001b[0mself\u001b[0m\u001b[0;34m.\u001b[0m\u001b[0m_compute_kernel\u001b[0m\u001b[0;34m(\u001b[0m\u001b[0mX\u001b[0m\u001b[0;34m)\u001b[0m\u001b[0;34m\u001b[0m\u001b[0m\n\u001b[1;32m    419\u001b[0m \u001b[0;34m\u001b[0m\u001b[0m\n",
      "\u001b[0;32m~/.conda/envs/selebor/lib/python3.6/site-packages/sklearn/svm/_base.py\u001b[0m in \u001b[0;36m_validate_for_predict\u001b[0;34m(self, X)\u001b[0m\n\u001b[1;32m    493\u001b[0m             raise ValueError(\"X.shape[1] = %d should be equal to %d, \"\n\u001b[1;32m    494\u001b[0m                              \u001b[0;34m\"the number of features at training time\"\u001b[0m \u001b[0;34m%\u001b[0m\u001b[0;34m\u001b[0m\u001b[0m\n\u001b[0;32m--> 495\u001b[0;31m                              (X.shape[1], self.shape_fit_[1]))\n\u001b[0m\u001b[1;32m    496\u001b[0m         \u001b[0;32mreturn\u001b[0m \u001b[0mX\u001b[0m\u001b[0;34m\u001b[0m\u001b[0m\n\u001b[1;32m    497\u001b[0m \u001b[0;34m\u001b[0m\u001b[0m\n",
      "\u001b[0;31mValueError\u001b[0m: X.shape[1] = 2 should be equal to 8, the number of features at training time"
     ]
    },
    {
     "data": {
      "image/png": "[encoded data removed]",
      "text/plain": [
       "<Figure size 432x288 with 1 Axes>"
      ]
     },
     "metadata": {
      "needs_background": "light"
     },
     "output_type": "display_data"
    }
   ],
   "source": [
    "plot_svm_boundary(loaded,X,y)"
   ]
  },
  {
   "cell_type": "markdown",
   "id": "d24b5590",
   "metadata": {},
   "source": [
    "## 8 Features Model"
   ]
  },
  {
   "cell_type": "markdown",
   "id": "618f8ffa",
   "metadata": {},
   "source": [
    "#### Training"
   ]
  },
  {
   "cell_type": "code",
   "execution_count": 181,
   "id": "33971326",
   "metadata": {},
   "outputs": [],
   "source": [
    "from sklearn.svm import SVC\n",
    "from sklearn.model_selection import train_test_split"
   ]
  },
  {
   "cell_type": "code",
   "execution_count": 182,
   "id": "9268181d",
   "metadata": {},
   "outputs": [],
   "source": [
    "y = DS_final['type']"
   ]
  },
  {
   "cell_type": "code",
   "execution_count": 183,
   "id": "dd80135d",
   "metadata": {},
   "outputs": [],
   "source": [
    "X = DS_final.drop('type',axis=1)"
   ]
  },
  {
   "cell_type": "code",
   "execution_count": 184,
   "id": "9c854e0b",
   "metadata": {},
   "outputs": [],
   "source": [
    "x_train,x_test,y_train,y_test = train_test_split(X,y,test_size=0.3,random_state=0)"
   ]
  },
  {
   "cell_type": "code",
   "execution_count": 185,
   "id": "a7869032",
   "metadata": {},
   "outputs": [
    {
     "data": {
      "text/plain": [
       "((240, 8), (240,))"
      ]
     },
     "execution_count": 185,
     "metadata": {},
     "output_type": "execute_result"
    }
   ],
   "source": [
    "x_train.shape, y_train.shape"
   ]
  },
  {
   "cell_type": "code",
   "execution_count": 186,
   "id": "fed59fef",
   "metadata": {},
   "outputs": [
    {
     "data": {
      "text/plain": [
       "((104, 8), (104,))"
      ]
     },
     "execution_count": 186,
     "metadata": {},
     "output_type": "execute_result"
    }
   ],
   "source": [
    "x_test.shape, y_test.shape"
   ]
  },
  {
   "cell_type": "code",
   "execution_count": 187,
   "id": "bcd6b130",
   "metadata": {},
   "outputs": [],
   "source": [
    "model = SVC(kernel='rbf',C=100,gamma='scale',probability=True)"
   ]
  },
  {
   "cell_type": "code",
   "execution_count": 188,
   "id": "ee8ce4f0",
   "metadata": {
    "scrolled": true
   },
   "outputs": [
    {
     "data": {
      "text/plain": [
       "SVC(C=100, probability=True)"
      ]
     },
     "execution_count": 188,
     "metadata": {},
     "output_type": "execute_result"
    }
   ],
   "source": [
    "model.fit(x_train.values,y_train.values)"
   ]
  },
  {
   "cell_type": "markdown",
   "id": "9827b676",
   "metadata": {},
   "source": [
    "#### Testing"
   ]
  },
  {
   "cell_type": "code",
   "execution_count": 189,
   "id": "bae454d2",
   "metadata": {},
   "outputs": [
    {
     "data": {
      "text/plain": [
       "0.9519230769230769"
      ]
     },
     "execution_count": 189,
     "metadata": {},
     "output_type": "execute_result"
    }
   ],
   "source": [
    "model.score(x_test.values,y_test.values)"
   ]
  },
  {
   "cell_type": "code",
   "execution_count": 190,
   "id": "18a14ebb",
   "metadata": {},
   "outputs": [],
   "source": [
    "from sklearn.model_selection import cross_val_score"
   ]
  },
  {
   "cell_type": "code",
   "execution_count": 191,
   "id": "b1098172",
   "metadata": {},
   "outputs": [
    {
     "data": {
      "text/plain": [
       "array([0.94202899, 0.98550725, 0.84057971, 0.97101449, 0.82352941])"
      ]
     },
     "execution_count": 191,
     "metadata": {},
     "output_type": "execute_result"
    }
   ],
   "source": [
    "scores = cross_val_score(model,X,y,cv=5)\n",
    "scores"
   ]
  },
  {
   "cell_type": "code",
   "execution_count": 192,
   "id": "b3af4b95",
   "metadata": {
    "scrolled": true
   },
   "outputs": [
    {
     "name": "stdout",
     "output_type": "stream",
     "text": [
      "0.91 accuracy with a standard deviation of 0.07\n"
     ]
    }
   ],
   "source": [
    "print(\"%0.2f accuracy with a standard deviation of %0.2f\" % (scores.mean(), scores.std()))"
   ]
  },
  {
   "cell_type": "code",
   "execution_count": 193,
   "id": "a629be75",
   "metadata": {},
   "outputs": [],
   "source": [
    "y_pred = model.predict(x_test)"
   ]
  },
  {
   "cell_type": "code",
   "execution_count": 194,
   "id": "8a912d23",
   "metadata": {},
   "outputs": [],
   "source": [
    "from sklearn.metrics import confusion_matrix"
   ]
  },
  {
   "cell_type": "code",
   "execution_count": 195,
   "id": "fdb811a5",
   "metadata": {},
   "outputs": [
    {
     "data": {
      "text/plain": [
       "array([[51,  3],\n",
       "       [ 2, 48]])"
      ]
     },
     "execution_count": 195,
     "metadata": {},
     "output_type": "execute_result"
    }
   ],
   "source": [
    "cm = confusion_matrix(y_test,y_pred)\n",
    "cm"
   ]
  },
  {
   "cell_type": "code",
   "execution_count": 196,
   "id": "5433ac60",
   "metadata": {
    "scrolled": true
   },
   "outputs": [
    {
     "data": {
      "image/png": "[encoded data removed]",
      "text/plain": [
       "<Figure size 432x288 with 2 Axes>"
      ]
     },
     "metadata": {
      "needs_background": "light"
     },
     "output_type": "display_data"
    }
   ],
   "source": [
    "import matplotlib.pyplot as plt\n",
    "from sklearn.metrics import plot_confusion_matrix\n",
    "\n",
    "color = 'black'\n",
    "matrix = plot_confusion_matrix(model, x_test, y_test, cmap=plt.cm.Blues)\n",
    "matrix.ax_.set_title('Confusion Matrix', color=color)\n",
    "plt.xlabel('Predicted Label', color=color)\n",
    "plt.ylabel('True Label', color=color)\n",
    "plt.gcf().axes[0].tick_params(colors=color)\n",
    "plt.gcf().axes[1].tick_params(colors=color)\n",
    "plt.show()"
   ]
  },
  {
   "cell_type": "code",
   "execution_count": 197,
   "id": "2c21eef2",
   "metadata": {},
   "outputs": [],
   "source": [
    "from sklearn.metrics import f1_score"
   ]
  },
  {
   "cell_type": "code",
   "execution_count": 198,
   "id": "65d5c8d4",
   "metadata": {},
   "outputs": [
    {
     "data": {
      "text/plain": [
       "0.9519364229737136"
      ]
     },
     "execution_count": 198,
     "metadata": {},
     "output_type": "execute_result"
    }
   ],
   "source": [
    "f1_score(y_test, y_pred, average='weighted')"
   ]
  },
  {
   "cell_type": "code",
   "execution_count": 199,
   "id": "0086b312",
   "metadata": {},
   "outputs": [],
   "source": [
    "from sklearn.metrics import accuracy_score,confusion_matrix,classification_report"
   ]
  },
  {
   "cell_type": "code",
   "execution_count": 200,
   "id": "80788819",
   "metadata": {},
   "outputs": [
    {
     "data": {
      "text/plain": [
       "0.9519230769230769"
      ]
     },
     "execution_count": 200,
     "metadata": {},
     "output_type": "execute_result"
    }
   ],
   "source": [
    "accuracy_score(y_test,y_pred)"
   ]
  },
  {
   "cell_type": "code",
   "execution_count": 201,
   "id": "d771d54c",
   "metadata": {},
   "outputs": [
    {
     "name": "stdout",
     "output_type": "stream",
     "text": [
      "              precision    recall  f1-score   support\n",
      "\n",
      "           1       0.96      0.94      0.95        54\n",
      "           2       0.94      0.96      0.95        50\n",
      "\n",
      "    accuracy                           0.95       104\n",
      "   macro avg       0.95      0.95      0.95       104\n",
      "weighted avg       0.95      0.95      0.95       104\n",
      "\n"
     ]
    }
   ],
   "source": [
    "print(classification_report(y_test,y_pred))"
   ]
  },
  {
   "cell_type": "code",
   "execution_count": null,
   "id": "6452e9ad",
   "metadata": {},
   "outputs": [],
   "source": []
  },
  {
   "cell_type": "code",
   "execution_count": null,
   "id": "71dc057b",
   "metadata": {},
   "outputs": [],
   "source": []
  },
  {
   "cell_type": "code",
   "execution_count": null,
   "id": "f7978a64",
   "metadata": {},
   "outputs": [],
   "source": []
  },
  {
   "cell_type": "markdown",
   "id": "67808156",
   "metadata": {},
   "source": [
    "#### Saving"
   ]
  },
  {
   "cell_type": "code",
   "execution_count": 113,
   "id": "b0c02a5d",
   "metadata": {},
   "outputs": [],
   "source": [
    "from joblib import dump,load"
   ]
  },
  {
   "cell_type": "code",
   "execution_count": 114,
   "id": "a507f39a",
   "metadata": {},
   "outputs": [
    {
     "data": {
      "text/plain": [
       "['/home/bimanjaya/learner/TA/brainflow/EEG-projects/src/model2.joblib']"
      ]
     },
     "execution_count": 114,
     "metadata": {},
     "output_type": "execute_result"
    }
   ],
   "source": [
    "dump(model,'/home/bimanjaya/learner/TA/brainflow/EEG-projects/src/model2.joblib')"
   ]
  },
  {
   "cell_type": "markdown",
   "id": "c63f1fbb",
   "metadata": {},
   "source": [
    "#### Loading"
   ]
  },
  {
   "cell_type": "code",
   "execution_count": 115,
   "id": "93f675c8",
   "metadata": {},
   "outputs": [
    {
     "name": "stderr",
     "output_type": "stream",
     "text": [
      "/home/bimanjaya/.conda/envs/selebor/lib/python3.6/site-packages/sklearn/base.py:315: UserWarning: Trying to unpickle estimator SVC from version 1.1.1 when using version 0.24.2. This might lead to breaking code or invalid results. Use at your own risk.\n",
      "  UserWarning)\n"
     ]
    }
   ],
   "source": [
    "loaded = load('/home/bimanjaya/learner/TA/brainflow/EEG-projects/src/model1.joblib')"
   ]
  },
  {
   "cell_type": "code",
   "execution_count": 116,
   "id": "c3db819f",
   "metadata": {},
   "outputs": [
    {
     "data": {
      "text/plain": [
       "SVC(C=100, probability=True)"
      ]
     },
     "execution_count": 116,
     "metadata": {},
     "output_type": "execute_result"
    }
   ],
   "source": [
    "loaded"
   ]
  },
  {
   "cell_type": "code",
   "execution_count": 117,
   "id": "eaf7cc09",
   "metadata": {},
   "outputs": [
    {
     "data": {
      "text/plain": [
       "array([1])"
      ]
     },
     "execution_count": 117,
     "metadata": {},
     "output_type": "execute_result"
    }
   ],
   "source": [
    "loaded.predict([[0.343464,0.471185,0.320766,0.373567,0.542242,0.381283,0.604319,0.421754]])"
   ]
  },
  {
   "cell_type": "code",
   "execution_count": 124,
   "id": "86a76c79",
   "metadata": {},
   "outputs": [
    {
     "data": {
      "text/plain": [
       "array([2])"
      ]
     },
     "execution_count": 124,
     "metadata": {},
     "output_type": "execute_result"
    }
   ],
   "source": [
    "loaded.predict([[0.561545,0.513794,0.520983,0.159220,0.379633,0.683123,0.576395,0.503195]])"
   ]
  },
  {
   "cell_type": "code",
   "execution_count": 128,
   "id": "155f22e1",
   "metadata": {},
   "outputs": [
    {
     "data": {
      "text/plain": [
       "array([[9.99999753e-01, 2.46980897e-07]])"
      ]
     },
     "execution_count": 128,
     "metadata": {},
     "output_type": "execute_result"
    }
   ],
   "source": [
    "loaded.predict_proba([[0.261545,0.213794,0.520983,0.259220,0.379633,0.683123,0.576395,0.503195]])"
   ]
  },
  {
   "cell_type": "code",
   "execution_count": 117,
   "id": "3dcfea12",
   "metadata": {},
   "outputs": [],
   "source": [
    "##################"
   ]
  },
  {
   "cell_type": "code",
   "execution_count": null,
   "id": "fe69eaa1",
   "metadata": {},
   "outputs": [],
   "source": []
  }
 ],
 "metadata": {
  "kernelspec": {
   "display_name": "Python 3",
   "language": "python",
   "name": "python3"
  },
  "language_info": {
   "codemirror_mode": {
    "name": "ipython",
    "version": 3
   },
   "file_extension": ".py",
   "mimetype": "text/x-python",
   "name": "python",
   "nbconvert_exporter": "python",
   "pygments_lexer": "ipython3",
   "version": "3.6.6"
  }
 },
 "nbformat": 4,
 "nbformat_minor": 5
}
