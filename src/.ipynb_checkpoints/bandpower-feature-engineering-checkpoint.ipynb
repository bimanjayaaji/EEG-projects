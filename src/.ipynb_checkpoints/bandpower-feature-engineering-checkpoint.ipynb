{
 "cells": [
  {
   "cell_type": "markdown",
   "id": "3851f5b3",
   "metadata": {},
   "source": [
    "## Preparing Data, Device and Modules"
   ]
  },
  {
   "cell_type": "code",
   "execution_count": 161,
   "id": "5703ff50",
   "metadata": {},
   "outputs": [],
   "source": [
    "# importing libraries\n",
    "\n",
    "from brainflow.board_shim import BoardShim, BrainFlowInputParams, LogLevels, BoardIds\n",
    "from brainflow.data_filter import DataFilter, WindowOperations, DetrendOperations, FilterTypes\n",
    "import matplotlib.pyplot as plt\n",
    "import seaborn as sns\n",
    "import pandas as pd\n",
    "import numpy as np\n",
    "import time"
   ]
  },
  {
   "cell_type": "code",
   "execution_count": 162,
   "id": "f976443e",
   "metadata": {},
   "outputs": [],
   "source": [
    "# enable BrainFlow logger\n",
    "\n",
    "BoardShim.enable_dev_board_logger()"
   ]
  },
  {
   "cell_type": "code",
   "execution_count": 163,
   "id": "07fae476",
   "metadata": {},
   "outputs": [],
   "source": [
    "# input parameter port and timeout\n",
    "\n",
    "params = BrainFlowInputParams()\n",
    "params.serial_port = '/dev/ttyACM0'\n",
    "params.timeout = 15"
   ]
  },
  {
   "cell_type": "code",
   "execution_count": 164,
   "id": "a3c0a1a4",
   "metadata": {},
   "outputs": [],
   "source": [
    "# board_id (ganglion) detail\n",
    "\n",
    "board_id = BoardIds.GANGLION_BOARD.value\n",
    "board_descr = BoardShim.get_board_descr(board_id)\n",
    "sampling_rate = int(board_descr['sampling_rate'])\n",
    "board = BoardShim(board_id, params)"
   ]
  },
  {
   "cell_type": "code",
   "execution_count": 165,
   "id": "0c485980",
   "metadata": {},
   "outputs": [],
   "source": [
    "# brief definition of nfft : \n",
    "# https://www.mathworks.com/matlabcentral/answers/324316-what-is-nfft-and-where-it-is-used-in-matlab-code\n",
    "\n",
    "nfft = DataFilter.get_nearest_power_of_two(sampling_rate)"
   ]
  },
  {
   "cell_type": "code",
   "execution_count": 168,
   "id": "87dbff64",
   "metadata": {},
   "outputs": [],
   "source": [
    "# determining which eeg channel does ganglion have in the data\n",
    "\n",
    "eeg_channels = board_descr['eeg_channels']\n",
    "eeg_channel1 = eeg_channels[0]\n",
    "eeg_channel2 = eeg_channels[1]\n",
    "eeg_channel3 = eeg_channels[2]\n",
    "eeg_channel4 = eeg_channels[3]"
   ]
  },
  {
   "cell_type": "markdown",
   "id": "07cbd9c4",
   "metadata": {},
   "source": [
    "## Relax Feature"
   ]
  },
  {
   "cell_type": "code",
   "execution_count": 172,
   "id": "1c257569",
   "metadata": {},
   "outputs": [],
   "source": [
    "# importing data from csv\n",
    "\n",
    "data = pd.read_csv('/home/bimanjaya/learner/TA/brainflow/EEG-projects/src/data/relax.csv')\n",
    "data = data.transpose()\n",
    "data = data.to_numpy()"
   ]
  },
  {
   "cell_type": "code",
   "execution_count": 173,
   "id": "fb46d01f",
   "metadata": {},
   "outputs": [],
   "source": [
    "data_bb = data"
   ]
  },
  {
   "cell_type": "code",
   "execution_count": 174,
   "id": "1ee55faf",
   "metadata": {},
   "outputs": [
    {
     "data": {
      "text/plain": [
       "165"
      ]
     },
     "execution_count": 174,
     "metadata": {},
     "output_type": "execute_result"
    }
   ],
   "source": [
    "delay = 5\n",
    "total_iterate = data_bb.shape[1] // (sampling_rate*delay)\n",
    "total_iterate"
   ]
  },
  {
   "cell_type": "code",
   "execution_count": 211,
   "id": "02891cad",
   "metadata": {},
   "outputs": [
    {
     "data": {
      "text/html": [
       "<div>\n",
       "<style scoped>\n",
       "    .dataframe tbody tr th:only-of-type {\n",
       "        vertical-align: middle;\n",
       "    }\n",
       "\n",
       "    .dataframe tbody tr th {\n",
       "        vertical-align: top;\n",
       "    }\n",
       "\n",
       "    .dataframe thead th {\n",
       "        text-align: right;\n",
       "    }\n",
       "</style>\n",
       "<table border=\"1\" class=\"dataframe\">\n",
       "  <thead>\n",
       "    <tr style=\"text-align: right;\">\n",
       "      <th></th>\n",
       "      <th>alpha1</th>\n",
       "      <th>alpha2</th>\n",
       "      <th>alpha3</th>\n",
       "      <th>alpha4</th>\n",
       "      <th>beta1</th>\n",
       "      <th>beta2</th>\n",
       "      <th>beta3</th>\n",
       "      <th>beta4</th>\n",
       "    </tr>\n",
       "  </thead>\n",
       "  <tbody>\n",
       "    <tr>\n",
       "      <th>0</th>\n",
       "      <td>0.372637</td>\n",
       "      <td>0.414502</td>\n",
       "      <td>0.369849</td>\n",
       "      <td>0.339414</td>\n",
       "      <td>0.512475</td>\n",
       "      <td>0.415409</td>\n",
       "      <td>0.532889</td>\n",
       "      <td>0.575139</td>\n",
       "    </tr>\n",
       "    <tr>\n",
       "      <th>1</th>\n",
       "      <td>0.340521</td>\n",
       "      <td>0.344589</td>\n",
       "      <td>0.410753</td>\n",
       "      <td>0.385122</td>\n",
       "      <td>0.528125</td>\n",
       "      <td>0.368261</td>\n",
       "      <td>0.527470</td>\n",
       "      <td>0.454316</td>\n",
       "    </tr>\n",
       "    <tr>\n",
       "      <th>2</th>\n",
       "      <td>0.343464</td>\n",
       "      <td>0.471185</td>\n",
       "      <td>0.320766</td>\n",
       "      <td>0.373567</td>\n",
       "      <td>0.542242</td>\n",
       "      <td>0.381283</td>\n",
       "      <td>0.604319</td>\n",
       "      <td>0.421754</td>\n",
       "    </tr>\n",
       "    <tr>\n",
       "      <th>3</th>\n",
       "      <td>0.350210</td>\n",
       "      <td>0.437232</td>\n",
       "      <td>0.389277</td>\n",
       "      <td>0.376017</td>\n",
       "      <td>0.532792</td>\n",
       "      <td>0.392294</td>\n",
       "      <td>0.392570</td>\n",
       "      <td>0.374380</td>\n",
       "    </tr>\n",
       "    <tr>\n",
       "      <th>4</th>\n",
       "      <td>0.347168</td>\n",
       "      <td>0.442378</td>\n",
       "      <td>0.360232</td>\n",
       "      <td>0.309794</td>\n",
       "      <td>0.516193</td>\n",
       "      <td>0.340061</td>\n",
       "      <td>0.554126</td>\n",
       "      <td>0.619408</td>\n",
       "    </tr>\n",
       "    <tr>\n",
       "      <th>...</th>\n",
       "      <td>...</td>\n",
       "      <td>...</td>\n",
       "      <td>...</td>\n",
       "      <td>...</td>\n",
       "      <td>...</td>\n",
       "      <td>...</td>\n",
       "      <td>...</td>\n",
       "      <td>...</td>\n",
       "    </tr>\n",
       "    <tr>\n",
       "      <th>160</th>\n",
       "      <td>0.328729</td>\n",
       "      <td>0.428412</td>\n",
       "      <td>0.354742</td>\n",
       "      <td>0.196738</td>\n",
       "      <td>0.560553</td>\n",
       "      <td>0.386932</td>\n",
       "      <td>0.605565</td>\n",
       "      <td>0.665240</td>\n",
       "    </tr>\n",
       "    <tr>\n",
       "      <th>161</th>\n",
       "      <td>0.404344</td>\n",
       "      <td>0.455895</td>\n",
       "      <td>0.478871</td>\n",
       "      <td>0.377700</td>\n",
       "      <td>0.479811</td>\n",
       "      <td>0.402719</td>\n",
       "      <td>0.407165</td>\n",
       "      <td>0.574029</td>\n",
       "    </tr>\n",
       "    <tr>\n",
       "      <th>162</th>\n",
       "      <td>0.334553</td>\n",
       "      <td>0.358288</td>\n",
       "      <td>0.340675</td>\n",
       "      <td>0.456150</td>\n",
       "      <td>0.532700</td>\n",
       "      <td>0.383456</td>\n",
       "      <td>0.481426</td>\n",
       "      <td>0.312735</td>\n",
       "    </tr>\n",
       "    <tr>\n",
       "      <th>163</th>\n",
       "      <td>0.323108</td>\n",
       "      <td>0.454611</td>\n",
       "      <td>0.394223</td>\n",
       "      <td>0.360664</td>\n",
       "      <td>0.548847</td>\n",
       "      <td>0.320234</td>\n",
       "      <td>0.464281</td>\n",
       "      <td>0.518914</td>\n",
       "    </tr>\n",
       "    <tr>\n",
       "      <th>164</th>\n",
       "      <td>0.376073</td>\n",
       "      <td>0.051743</td>\n",
       "      <td>0.404481</td>\n",
       "      <td>0.399948</td>\n",
       "      <td>0.436710</td>\n",
       "      <td>0.721675</td>\n",
       "      <td>0.357188</td>\n",
       "      <td>0.370742</td>\n",
       "    </tr>\n",
       "  </tbody>\n",
       "</table>\n",
       "<p>165 rows × 8 columns</p>\n",
       "</div>"
      ],
      "text/plain": [
       "       alpha1    alpha2    alpha3    alpha4     beta1     beta2     beta3  \\\n",
       "0    0.372637  0.414502  0.369849  0.339414  0.512475  0.415409  0.532889   \n",
       "1    0.340521  0.344589  0.410753  0.385122  0.528125  0.368261  0.527470   \n",
       "2    0.343464  0.471185  0.320766  0.373567  0.542242  0.381283  0.604319   \n",
       "3    0.350210  0.437232  0.389277  0.376017  0.532792  0.392294  0.392570   \n",
       "4    0.347168  0.442378  0.360232  0.309794  0.516193  0.340061  0.554126   \n",
       "..        ...       ...       ...       ...       ...       ...       ...   \n",
       "160  0.328729  0.428412  0.354742  0.196738  0.560553  0.386932  0.605565   \n",
       "161  0.404344  0.455895  0.478871  0.377700  0.479811  0.402719  0.407165   \n",
       "162  0.334553  0.358288  0.340675  0.456150  0.532700  0.383456  0.481426   \n",
       "163  0.323108  0.454611  0.394223  0.360664  0.548847  0.320234  0.464281   \n",
       "164  0.376073  0.051743  0.404481  0.399948  0.436710  0.721675  0.357188   \n",
       "\n",
       "        beta4  \n",
       "0    0.575139  \n",
       "1    0.454316  \n",
       "2    0.421754  \n",
       "3    0.374380  \n",
       "4    0.619408  \n",
       "..        ...  \n",
       "160  0.665240  \n",
       "161  0.574029  \n",
       "162  0.312735  \n",
       "163  0.518914  \n",
       "164  0.370742  \n",
       "\n",
       "[165 rows x 8 columns]"
      ]
     },
     "metadata": {},
     "output_type": "display_data"
    }
   ],
   "source": [
    "# eeg 1\n",
    "\n",
    "dict = {'alpha1':[],'alpha2':[],'alpha3':[],'alpha4':[],\n",
    "        'beta1':[],'beta2':[],'beta3':[],'beta4':[]}\n",
    "df = pd.DataFrame(dict)\n",
    "\n",
    "for x in range(total_iterate):\n",
    "    ch1_iter = data_bb[eeg_channel1][(x*1000):((x+1)*1000)]\n",
    "    ch2_iter = data_bb[eeg_channel2][(x*1000):((x+1)*1000)]\n",
    "    ch3_iter = data_bb[eeg_channel3][(x*1000):((x+1)*1000)]\n",
    "    ch4_iter = data_bb[eeg_channel4][(x*1000):((x+1)*1000)]\n",
    "    \n",
    "    DataFilter.detrend(ch1_iter, DetrendOperations.LINEAR.value)\n",
    "    DataFilter.detrend(ch2_iter, DetrendOperations.LINEAR.value)\n",
    "    DataFilter.detrend(ch3_iter, DetrendOperations.LINEAR.value)\n",
    "    DataFilter.detrend(ch4_iter, DetrendOperations.LINEAR.value)\n",
    "    \n",
    "    DataFilter.perform_bandpass(ch1_iter, BoardShim.get_sampling_rate(board_id), 5.0, 35.0, 4,\n",
    "                                        FilterTypes.BUTTERWORTH.value, 0)\n",
    "    DataFilter.perform_bandpass(ch2_iter, BoardShim.get_sampling_rate(board_id), 5.0, 35.0, 4,\n",
    "                                        FilterTypes.BUTTERWORTH.value, 0)\n",
    "    DataFilter.perform_bandpass(ch3_iter, BoardShim.get_sampling_rate(board_id), 5.0, 35.0, 4,\n",
    "                                        FilterTypes.BUTTERWORTH.value, 0)\n",
    "    DataFilter.perform_bandpass(ch4_iter, BoardShim.get_sampling_rate(board_id), 5.0, 35.0, 4,\n",
    "                                        FilterTypes.BUTTERWORTH.value, 0)\n",
    "    \n",
    "    psd1 = DataFilter.get_psd_welch(ch1_iter, nfft, nfft // 2, sampling_rate,\n",
    "                                   WindowOperations.HAMMING.value)\n",
    "    psd2 = DataFilter.get_psd_welch(ch2_iter, nfft, nfft // 2, sampling_rate,\n",
    "                                   WindowOperations.HAMMING.value)\n",
    "    psd3 = DataFilter.get_psd_welch(ch3_iter, nfft, nfft // 2, sampling_rate,\n",
    "                                   WindowOperations.HAMMING.value)\n",
    "    psd4 = DataFilter.get_psd_welch(ch4_iter, nfft, nfft // 2, sampling_rate,\n",
    "                                   WindowOperations.HAMMING.value)\n",
    "    \n",
    "    band_power_total1 = DataFilter.get_band_power(psd1, psd1[1][0], psd1[1][-1])\n",
    "    band_power_total2 = DataFilter.get_band_power(psd2, psd2[1][0], psd2[1][-1])\n",
    "    band_power_total3 = DataFilter.get_band_power(psd3, psd3[1][0], psd3[1][-1])\n",
    "    band_power_total4 = DataFilter.get_band_power(psd4, psd4[1][0], psd4[1][-1])\n",
    "    \n",
    "    band_power_alpha1 = DataFilter.get_band_power(psd1, 8.0, 13.0)\n",
    "    band_power_alpha2 = DataFilter.get_band_power(psd2, 8.0, 13.0)\n",
    "    band_power_alpha3 = DataFilter.get_band_power(psd3, 8.0, 13.0)\n",
    "    band_power_alpha4 = DataFilter.get_band_power(psd4, 8.0, 13.0)\n",
    "    \n",
    "    alpha_relative1 = band_power_alpha1/band_power_total1\n",
    "    alpha_relative2 = band_power_alpha2/band_power_total2\n",
    "    alpha_relative3 = band_power_alpha3/band_power_total3\n",
    "    alpha_relative4 = band_power_alpha4/band_power_total4\n",
    "    \n",
    "    band_power_beta1 = DataFilter.get_band_power(psd1, 13.0, 32.0)\n",
    "    band_power_beta2 = DataFilter.get_band_power(psd2, 13.0, 32.0)\n",
    "    band_power_beta3 = DataFilter.get_band_power(psd3, 13.0, 32.0)\n",
    "    band_power_beta4 = DataFilter.get_band_power(psd4, 13.0, 32.0)\n",
    "    \n",
    "    beta_relative1 = band_power_beta1/band_power_total1\n",
    "    beta_relative2 = band_power_beta2/band_power_total2\n",
    "    beta_relative3 = band_power_beta3/band_power_total3\n",
    "    beta_relative4 = band_power_beta4/band_power_total4\n",
    "    \n",
    "    dict1 = {'alpha1':[alpha_relative1],'alpha2':[alpha_relative2],\n",
    "             'alpha3':[alpha_relative3],'alpha4':[alpha_relative4],\n",
    "             'beta1':[beta_relative1],'beta2':[beta_relative2],\n",
    "             'beta3':[beta_relative3],'beta4':[beta_relative4]}\n",
    "    \n",
    "    df2 = pd.DataFrame(dict1)\n",
    "    df = pd.concat([df,df2],ignore_index=True)\n",
    "    # df.reset_index()\n",
    "\n",
    "display(df)\n",
    "    \n",
    "    "
   ]
  },
  {
   "cell_type": "code",
   "execution_count": 212,
   "id": "c030b579",
   "metadata": {},
   "outputs": [],
   "source": [
    "df['type'] = 1"
   ]
  },
  {
   "cell_type": "code",
   "execution_count": 213,
   "id": "39cd1700",
   "metadata": {},
   "outputs": [
    {
     "data": {
      "text/html": [
       "<div>\n",
       "<style scoped>\n",
       "    .dataframe tbody tr th:only-of-type {\n",
       "        vertical-align: middle;\n",
       "    }\n",
       "\n",
       "    .dataframe tbody tr th {\n",
       "        vertical-align: top;\n",
       "    }\n",
       "\n",
       "    .dataframe thead th {\n",
       "        text-align: right;\n",
       "    }\n",
       "</style>\n",
       "<table border=\"1\" class=\"dataframe\">\n",
       "  <thead>\n",
       "    <tr style=\"text-align: right;\">\n",
       "      <th></th>\n",
       "      <th>alpha1</th>\n",
       "      <th>alpha2</th>\n",
       "      <th>alpha3</th>\n",
       "      <th>alpha4</th>\n",
       "      <th>beta1</th>\n",
       "      <th>beta2</th>\n",
       "      <th>beta3</th>\n",
       "      <th>beta4</th>\n",
       "      <th>type</th>\n",
       "    </tr>\n",
       "  </thead>\n",
       "  <tbody>\n",
       "    <tr>\n",
       "      <th>0</th>\n",
       "      <td>0.372637</td>\n",
       "      <td>0.414502</td>\n",
       "      <td>0.369849</td>\n",
       "      <td>0.339414</td>\n",
       "      <td>0.512475</td>\n",
       "      <td>0.415409</td>\n",
       "      <td>0.532889</td>\n",
       "      <td>0.575139</td>\n",
       "      <td>1</td>\n",
       "    </tr>\n",
       "    <tr>\n",
       "      <th>1</th>\n",
       "      <td>0.340521</td>\n",
       "      <td>0.344589</td>\n",
       "      <td>0.410753</td>\n",
       "      <td>0.385122</td>\n",
       "      <td>0.528125</td>\n",
       "      <td>0.368261</td>\n",
       "      <td>0.527470</td>\n",
       "      <td>0.454316</td>\n",
       "      <td>1</td>\n",
       "    </tr>\n",
       "    <tr>\n",
       "      <th>2</th>\n",
       "      <td>0.343464</td>\n",
       "      <td>0.471185</td>\n",
       "      <td>0.320766</td>\n",
       "      <td>0.373567</td>\n",
       "      <td>0.542242</td>\n",
       "      <td>0.381283</td>\n",
       "      <td>0.604319</td>\n",
       "      <td>0.421754</td>\n",
       "      <td>1</td>\n",
       "    </tr>\n",
       "    <tr>\n",
       "      <th>3</th>\n",
       "      <td>0.350210</td>\n",
       "      <td>0.437232</td>\n",
       "      <td>0.389277</td>\n",
       "      <td>0.376017</td>\n",
       "      <td>0.532792</td>\n",
       "      <td>0.392294</td>\n",
       "      <td>0.392570</td>\n",
       "      <td>0.374380</td>\n",
       "      <td>1</td>\n",
       "    </tr>\n",
       "    <tr>\n",
       "      <th>4</th>\n",
       "      <td>0.347168</td>\n",
       "      <td>0.442378</td>\n",
       "      <td>0.360232</td>\n",
       "      <td>0.309794</td>\n",
       "      <td>0.516193</td>\n",
       "      <td>0.340061</td>\n",
       "      <td>0.554126</td>\n",
       "      <td>0.619408</td>\n",
       "      <td>1</td>\n",
       "    </tr>\n",
       "    <tr>\n",
       "      <th>...</th>\n",
       "      <td>...</td>\n",
       "      <td>...</td>\n",
       "      <td>...</td>\n",
       "      <td>...</td>\n",
       "      <td>...</td>\n",
       "      <td>...</td>\n",
       "      <td>...</td>\n",
       "      <td>...</td>\n",
       "      <td>...</td>\n",
       "    </tr>\n",
       "    <tr>\n",
       "      <th>160</th>\n",
       "      <td>0.328729</td>\n",
       "      <td>0.428412</td>\n",
       "      <td>0.354742</td>\n",
       "      <td>0.196738</td>\n",
       "      <td>0.560553</td>\n",
       "      <td>0.386932</td>\n",
       "      <td>0.605565</td>\n",
       "      <td>0.665240</td>\n",
       "      <td>1</td>\n",
       "    </tr>\n",
       "    <tr>\n",
       "      <th>161</th>\n",
       "      <td>0.404344</td>\n",
       "      <td>0.455895</td>\n",
       "      <td>0.478871</td>\n",
       "      <td>0.377700</td>\n",
       "      <td>0.479811</td>\n",
       "      <td>0.402719</td>\n",
       "      <td>0.407165</td>\n",
       "      <td>0.574029</td>\n",
       "      <td>1</td>\n",
       "    </tr>\n",
       "    <tr>\n",
       "      <th>162</th>\n",
       "      <td>0.334553</td>\n",
       "      <td>0.358288</td>\n",
       "      <td>0.340675</td>\n",
       "      <td>0.456150</td>\n",
       "      <td>0.532700</td>\n",
       "      <td>0.383456</td>\n",
       "      <td>0.481426</td>\n",
       "      <td>0.312735</td>\n",
       "      <td>1</td>\n",
       "    </tr>\n",
       "    <tr>\n",
       "      <th>163</th>\n",
       "      <td>0.323108</td>\n",
       "      <td>0.454611</td>\n",
       "      <td>0.394223</td>\n",
       "      <td>0.360664</td>\n",
       "      <td>0.548847</td>\n",
       "      <td>0.320234</td>\n",
       "      <td>0.464281</td>\n",
       "      <td>0.518914</td>\n",
       "      <td>1</td>\n",
       "    </tr>\n",
       "    <tr>\n",
       "      <th>164</th>\n",
       "      <td>0.376073</td>\n",
       "      <td>0.051743</td>\n",
       "      <td>0.404481</td>\n",
       "      <td>0.399948</td>\n",
       "      <td>0.436710</td>\n",
       "      <td>0.721675</td>\n",
       "      <td>0.357188</td>\n",
       "      <td>0.370742</td>\n",
       "      <td>1</td>\n",
       "    </tr>\n",
       "  </tbody>\n",
       "</table>\n",
       "<p>165 rows × 9 columns</p>\n",
       "</div>"
      ],
      "text/plain": [
       "       alpha1    alpha2    alpha3    alpha4     beta1     beta2     beta3  \\\n",
       "0    0.372637  0.414502  0.369849  0.339414  0.512475  0.415409  0.532889   \n",
       "1    0.340521  0.344589  0.410753  0.385122  0.528125  0.368261  0.527470   \n",
       "2    0.343464  0.471185  0.320766  0.373567  0.542242  0.381283  0.604319   \n",
       "3    0.350210  0.437232  0.389277  0.376017  0.532792  0.392294  0.392570   \n",
       "4    0.347168  0.442378  0.360232  0.309794  0.516193  0.340061  0.554126   \n",
       "..        ...       ...       ...       ...       ...       ...       ...   \n",
       "160  0.328729  0.428412  0.354742  0.196738  0.560553  0.386932  0.605565   \n",
       "161  0.404344  0.455895  0.478871  0.377700  0.479811  0.402719  0.407165   \n",
       "162  0.334553  0.358288  0.340675  0.456150  0.532700  0.383456  0.481426   \n",
       "163  0.323108  0.454611  0.394223  0.360664  0.548847  0.320234  0.464281   \n",
       "164  0.376073  0.051743  0.404481  0.399948  0.436710  0.721675  0.357188   \n",
       "\n",
       "        beta4  type  \n",
       "0    0.575139     1  \n",
       "1    0.454316     1  \n",
       "2    0.421754     1  \n",
       "3    0.374380     1  \n",
       "4    0.619408     1  \n",
       "..        ...   ...  \n",
       "160  0.665240     1  \n",
       "161  0.574029     1  \n",
       "162  0.312735     1  \n",
       "163  0.518914     1  \n",
       "164  0.370742     1  \n",
       "\n",
       "[165 rows x 9 columns]"
      ]
     },
     "execution_count": 213,
     "metadata": {},
     "output_type": "execute_result"
    }
   ],
   "source": [
    "df"
   ]
  },
  {
   "cell_type": "code",
   "execution_count": 214,
   "id": "23aeb2a3",
   "metadata": {},
   "outputs": [],
   "source": [
    "DS_R = df"
   ]
  },
  {
   "cell_type": "markdown",
   "id": "0e0fe99e",
   "metadata": {},
   "source": [
    "### Not-Relax Feature"
   ]
  },
  {
   "cell_type": "code",
   "execution_count": 215,
   "id": "31d0cc29",
   "metadata": {},
   "outputs": [],
   "source": [
    "# importing data from csv\n",
    "\n",
    "data = pd.read_csv('/home/bimanjaya/learner/TA/brainflow/EEG-projects/src/data/not_relax.csv')\n",
    "data = data.transpose()\n",
    "data = data.to_numpy()\n",
    "\n",
    "data_bb = data"
   ]
  },
  {
   "cell_type": "code",
   "execution_count": 216,
   "id": "b698830c",
   "metadata": {},
   "outputs": [
    {
     "data": {
      "text/plain": [
       "179"
      ]
     },
     "execution_count": 216,
     "metadata": {},
     "output_type": "execute_result"
    }
   ],
   "source": [
    "delay = 5\n",
    "total_iterate = data_bb.shape[1] // (sampling_rate*delay)\n",
    "total_iterate"
   ]
  },
  {
   "cell_type": "code",
   "execution_count": 258,
   "id": "8ba2bc75",
   "metadata": {},
   "outputs": [
    {
     "data": {
      "text/html": [
       "<div>\n",
       "<style scoped>\n",
       "    .dataframe tbody tr th:only-of-type {\n",
       "        vertical-align: middle;\n",
       "    }\n",
       "\n",
       "    .dataframe tbody tr th {\n",
       "        vertical-align: top;\n",
       "    }\n",
       "\n",
       "    .dataframe thead th {\n",
       "        text-align: right;\n",
       "    }\n",
       "</style>\n",
       "<table border=\"1\" class=\"dataframe\">\n",
       "  <thead>\n",
       "    <tr style=\"text-align: right;\">\n",
       "      <th></th>\n",
       "      <th>alpha1</th>\n",
       "      <th>alpha2</th>\n",
       "      <th>alpha3</th>\n",
       "      <th>alpha4</th>\n",
       "      <th>beta1</th>\n",
       "      <th>beta2</th>\n",
       "      <th>beta3</th>\n",
       "      <th>beta4</th>\n",
       "    </tr>\n",
       "  </thead>\n",
       "  <tbody>\n",
       "    <tr>\n",
       "      <th>0</th>\n",
       "      <td>0.318978</td>\n",
       "      <td>0.375868</td>\n",
       "      <td>0.439207</td>\n",
       "      <td>0.436782</td>\n",
       "      <td>0.578884</td>\n",
       "      <td>0.558880</td>\n",
       "      <td>0.344427</td>\n",
       "      <td>0.333728</td>\n",
       "    </tr>\n",
       "    <tr>\n",
       "      <th>1</th>\n",
       "      <td>0.313962</td>\n",
       "      <td>0.290865</td>\n",
       "      <td>0.318644</td>\n",
       "      <td>0.321366</td>\n",
       "      <td>0.587529</td>\n",
       "      <td>0.623147</td>\n",
       "      <td>0.584857</td>\n",
       "      <td>0.584689</td>\n",
       "    </tr>\n",
       "    <tr>\n",
       "      <th>2</th>\n",
       "      <td>0.360113</td>\n",
       "      <td>0.060547</td>\n",
       "      <td>0.288720</td>\n",
       "      <td>0.234038</td>\n",
       "      <td>0.527324</td>\n",
       "      <td>0.932250</td>\n",
       "      <td>0.430635</td>\n",
       "      <td>0.585977</td>\n",
       "    </tr>\n",
       "    <tr>\n",
       "      <th>3</th>\n",
       "      <td>0.388420</td>\n",
       "      <td>0.039070</td>\n",
       "      <td>0.166126</td>\n",
       "      <td>0.125966</td>\n",
       "      <td>0.447883</td>\n",
       "      <td>0.957471</td>\n",
       "      <td>0.793901</td>\n",
       "      <td>0.841983</td>\n",
       "    </tr>\n",
       "    <tr>\n",
       "      <th>4</th>\n",
       "      <td>0.307461</td>\n",
       "      <td>0.054708</td>\n",
       "      <td>0.116059</td>\n",
       "      <td>0.108655</td>\n",
       "      <td>0.518673</td>\n",
       "      <td>0.933045</td>\n",
       "      <td>0.794091</td>\n",
       "      <td>0.824294</td>\n",
       "    </tr>\n",
       "    <tr>\n",
       "      <th>...</th>\n",
       "      <td>...</td>\n",
       "      <td>...</td>\n",
       "      <td>...</td>\n",
       "      <td>...</td>\n",
       "      <td>...</td>\n",
       "      <td>...</td>\n",
       "      <td>...</td>\n",
       "      <td>...</td>\n",
       "    </tr>\n",
       "    <tr>\n",
       "      <th>174</th>\n",
       "      <td>0.318974</td>\n",
       "      <td>0.171410</td>\n",
       "      <td>0.319497</td>\n",
       "      <td>0.285403</td>\n",
       "      <td>0.576726</td>\n",
       "      <td>0.797335</td>\n",
       "      <td>0.386846</td>\n",
       "      <td>0.598540</td>\n",
       "    </tr>\n",
       "    <tr>\n",
       "      <th>175</th>\n",
       "      <td>0.319137</td>\n",
       "      <td>0.196838</td>\n",
       "      <td>0.335253</td>\n",
       "      <td>0.289952</td>\n",
       "      <td>0.578867</td>\n",
       "      <td>0.776096</td>\n",
       "      <td>0.608865</td>\n",
       "      <td>0.663948</td>\n",
       "    </tr>\n",
       "    <tr>\n",
       "      <th>176</th>\n",
       "      <td>0.311735</td>\n",
       "      <td>0.134141</td>\n",
       "      <td>0.246384</td>\n",
       "      <td>0.159806</td>\n",
       "      <td>0.592506</td>\n",
       "      <td>0.822354</td>\n",
       "      <td>0.566484</td>\n",
       "      <td>0.752009</td>\n",
       "    </tr>\n",
       "    <tr>\n",
       "      <th>177</th>\n",
       "      <td>0.379418</td>\n",
       "      <td>0.311836</td>\n",
       "      <td>0.415536</td>\n",
       "      <td>0.368704</td>\n",
       "      <td>0.497071</td>\n",
       "      <td>0.558788</td>\n",
       "      <td>0.439252</td>\n",
       "      <td>0.536747</td>\n",
       "    </tr>\n",
       "    <tr>\n",
       "      <th>178</th>\n",
       "      <td>0.373047</td>\n",
       "      <td>0.178136</td>\n",
       "      <td>0.396027</td>\n",
       "      <td>0.269728</td>\n",
       "      <td>0.457156</td>\n",
       "      <td>0.783836</td>\n",
       "      <td>0.369221</td>\n",
       "      <td>0.627622</td>\n",
       "    </tr>\n",
       "  </tbody>\n",
       "</table>\n",
       "<p>179 rows × 8 columns</p>\n",
       "</div>"
      ],
      "text/plain": [
       "       alpha1    alpha2    alpha3    alpha4     beta1     beta2     beta3  \\\n",
       "0    0.318978  0.375868  0.439207  0.436782  0.578884  0.558880  0.344427   \n",
       "1    0.313962  0.290865  0.318644  0.321366  0.587529  0.623147  0.584857   \n",
       "2    0.360113  0.060547  0.288720  0.234038  0.527324  0.932250  0.430635   \n",
       "3    0.388420  0.039070  0.166126  0.125966  0.447883  0.957471  0.793901   \n",
       "4    0.307461  0.054708  0.116059  0.108655  0.518673  0.933045  0.794091   \n",
       "..        ...       ...       ...       ...       ...       ...       ...   \n",
       "174  0.318974  0.171410  0.319497  0.285403  0.576726  0.797335  0.386846   \n",
       "175  0.319137  0.196838  0.335253  0.289952  0.578867  0.776096  0.608865   \n",
       "176  0.311735  0.134141  0.246384  0.159806  0.592506  0.822354  0.566484   \n",
       "177  0.379418  0.311836  0.415536  0.368704  0.497071  0.558788  0.439252   \n",
       "178  0.373047  0.178136  0.396027  0.269728  0.457156  0.783836  0.369221   \n",
       "\n",
       "        beta4  \n",
       "0    0.333728  \n",
       "1    0.584689  \n",
       "2    0.585977  \n",
       "3    0.841983  \n",
       "4    0.824294  \n",
       "..        ...  \n",
       "174  0.598540  \n",
       "175  0.663948  \n",
       "176  0.752009  \n",
       "177  0.536747  \n",
       "178  0.627622  \n",
       "\n",
       "[179 rows x 8 columns]"
      ]
     },
     "metadata": {},
     "output_type": "display_data"
    }
   ],
   "source": [
    "# eeg 1\n",
    "\n",
    "dict = {'alpha1':[],'alpha2':[],'alpha3':[],'alpha4':[],\n",
    "        'beta1':[],'beta2':[],'beta3':[],'beta4':[]}\n",
    "df = pd.DataFrame(dict)\n",
    "\n",
    "for x in range(total_iterate):\n",
    "    ch1_iter = data_bb[eeg_channel1][(x*1000):((x+1)*1000)]\n",
    "    ch2_iter = data_bb[eeg_channel2][(x*1000):((x+1)*1000)]\n",
    "    ch3_iter = data_bb[eeg_channel3][(x*1000):((x+1)*1000)]\n",
    "    ch4_iter = data_bb[eeg_channel4][(x*1000):((x+1)*1000)]\n",
    "    \n",
    "    DataFilter.detrend(ch1_iter, DetrendOperations.LINEAR.value)\n",
    "    DataFilter.detrend(ch2_iter, DetrendOperations.LINEAR.value)\n",
    "    DataFilter.detrend(ch3_iter, DetrendOperations.LINEAR.value)\n",
    "    DataFilter.detrend(ch4_iter, DetrendOperations.LINEAR.value)\n",
    "    \n",
    "    DataFilter.perform_bandpass(ch1_iter, BoardShim.get_sampling_rate(board_id), 5.0, 35.0, 4,\n",
    "                                        FilterTypes.BUTTERWORTH.value, 0)\n",
    "    DataFilter.perform_bandpass(ch2_iter, BoardShim.get_sampling_rate(board_id), 5.0, 35.0, 4,\n",
    "                                        FilterTypes.BUTTERWORTH.value, 0)\n",
    "    DataFilter.perform_bandpass(ch3_iter, BoardShim.get_sampling_rate(board_id), 5.0, 35.0, 4,\n",
    "                                        FilterTypes.BUTTERWORTH.value, 0)\n",
    "    DataFilter.perform_bandpass(ch4_iter, BoardShim.get_sampling_rate(board_id), 5.0, 35.0, 4,\n",
    "                                        FilterTypes.BUTTERWORTH.value, 0)\n",
    "    \n",
    "    psd1 = DataFilter.get_psd_welch(ch1_iter, nfft, nfft // 2, sampling_rate,\n",
    "                                   WindowOperations.HAMMING.value)\n",
    "    psd2 = DataFilter.get_psd_welch(ch2_iter, nfft, nfft // 2, sampling_rate,\n",
    "                                   WindowOperations.HAMMING.value)\n",
    "    psd3 = DataFilter.get_psd_welch(ch3_iter, nfft, nfft // 2, sampling_rate,\n",
    "                                   WindowOperations.HAMMING.value)\n",
    "    psd4 = DataFilter.get_psd_welch(ch4_iter, nfft, nfft // 2, sampling_rate,\n",
    "                                   WindowOperations.HAMMING.value)\n",
    "    \n",
    "    band_power_total1 = DataFilter.get_band_power(psd1, psd1[1][0], psd1[1][-1])\n",
    "    band_power_total2 = DataFilter.get_band_power(psd2, psd2[1][0], psd2[1][-1])\n",
    "    band_power_total3 = DataFilter.get_band_power(psd3, psd3[1][0], psd3[1][-1])\n",
    "    band_power_total4 = DataFilter.get_band_power(psd4, psd4[1][0], psd4[1][-1])\n",
    "    \n",
    "    band_power_alpha1 = DataFilter.get_band_power(psd1, 8.0, 13.0)\n",
    "    band_power_alpha2 = DataFilter.get_band_power(psd2, 8.0, 13.0)\n",
    "    band_power_alpha3 = DataFilter.get_band_power(psd3, 8.0, 13.0)\n",
    "    band_power_alpha4 = DataFilter.get_band_power(psd4, 8.0, 13.0)\n",
    "    \n",
    "    alpha_relative1 = band_power_alpha1/band_power_total1\n",
    "    alpha_relative2 = band_power_alpha2/band_power_total2\n",
    "    alpha_relative3 = band_power_alpha3/band_power_total3\n",
    "    alpha_relative4 = band_power_alpha4/band_power_total4\n",
    "    \n",
    "    band_power_beta1 = DataFilter.get_band_power(psd1, 13.0, 32.0)\n",
    "    band_power_beta2 = DataFilter.get_band_power(psd2, 13.0, 32.0)\n",
    "    band_power_beta3 = DataFilter.get_band_power(psd3, 13.0, 32.0)\n",
    "    band_power_beta4 = DataFilter.get_band_power(psd4, 13.0, 32.0)\n",
    "    \n",
    "    beta_relative1 = band_power_beta1/band_power_total1\n",
    "    beta_relative2 = band_power_beta2/band_power_total2\n",
    "    beta_relative3 = band_power_beta3/band_power_total3\n",
    "    beta_relative4 = band_power_beta4/band_power_total4\n",
    "    \n",
    "    dict1 = {'alpha1':[alpha_relative1],'alpha2':[alpha_relative2],\n",
    "             'alpha3':[alpha_relative3],'alpha4':[alpha_relative4],\n",
    "             'beta1':[beta_relative1],'beta2':[beta_relative2],\n",
    "             'beta3':[beta_relative3],'beta4':[beta_relative4]}\n",
    "    \n",
    "    df2 = pd.DataFrame(dict1)\n",
    "    df = pd.concat([df,df2],ignore_index=True)\n",
    "    # df.reset_index()\n",
    "\n",
    "display(df)"
   ]
  },
  {
   "cell_type": "code",
   "execution_count": 259,
   "id": "a7a10309",
   "metadata": {},
   "outputs": [],
   "source": [
    "df['type'] = 2"
   ]
  },
  {
   "cell_type": "code",
   "execution_count": 260,
   "id": "68fdd23f",
   "metadata": {},
   "outputs": [
    {
     "data": {
      "text/html": [
       "<div>\n",
       "<style scoped>\n",
       "    .dataframe tbody tr th:only-of-type {\n",
       "        vertical-align: middle;\n",
       "    }\n",
       "\n",
       "    .dataframe tbody tr th {\n",
       "        vertical-align: top;\n",
       "    }\n",
       "\n",
       "    .dataframe thead th {\n",
       "        text-align: right;\n",
       "    }\n",
       "</style>\n",
       "<table border=\"1\" class=\"dataframe\">\n",
       "  <thead>\n",
       "    <tr style=\"text-align: right;\">\n",
       "      <th></th>\n",
       "      <th>alpha1</th>\n",
       "      <th>alpha2</th>\n",
       "      <th>alpha3</th>\n",
       "      <th>alpha4</th>\n",
       "      <th>beta1</th>\n",
       "      <th>beta2</th>\n",
       "      <th>beta3</th>\n",
       "      <th>beta4</th>\n",
       "      <th>type</th>\n",
       "    </tr>\n",
       "  </thead>\n",
       "  <tbody>\n",
       "    <tr>\n",
       "      <th>0</th>\n",
       "      <td>0.318978</td>\n",
       "      <td>0.375868</td>\n",
       "      <td>0.439207</td>\n",
       "      <td>0.436782</td>\n",
       "      <td>0.578884</td>\n",
       "      <td>0.558880</td>\n",
       "      <td>0.344427</td>\n",
       "      <td>0.333728</td>\n",
       "      <td>2</td>\n",
       "    </tr>\n",
       "    <tr>\n",
       "      <th>1</th>\n",
       "      <td>0.313962</td>\n",
       "      <td>0.290865</td>\n",
       "      <td>0.318644</td>\n",
       "      <td>0.321366</td>\n",
       "      <td>0.587529</td>\n",
       "      <td>0.623147</td>\n",
       "      <td>0.584857</td>\n",
       "      <td>0.584689</td>\n",
       "      <td>2</td>\n",
       "    </tr>\n",
       "    <tr>\n",
       "      <th>2</th>\n",
       "      <td>0.360113</td>\n",
       "      <td>0.060547</td>\n",
       "      <td>0.288720</td>\n",
       "      <td>0.234038</td>\n",
       "      <td>0.527324</td>\n",
       "      <td>0.932250</td>\n",
       "      <td>0.430635</td>\n",
       "      <td>0.585977</td>\n",
       "      <td>2</td>\n",
       "    </tr>\n",
       "    <tr>\n",
       "      <th>3</th>\n",
       "      <td>0.388420</td>\n",
       "      <td>0.039070</td>\n",
       "      <td>0.166126</td>\n",
       "      <td>0.125966</td>\n",
       "      <td>0.447883</td>\n",
       "      <td>0.957471</td>\n",
       "      <td>0.793901</td>\n",
       "      <td>0.841983</td>\n",
       "      <td>2</td>\n",
       "    </tr>\n",
       "    <tr>\n",
       "      <th>4</th>\n",
       "      <td>0.307461</td>\n",
       "      <td>0.054708</td>\n",
       "      <td>0.116059</td>\n",
       "      <td>0.108655</td>\n",
       "      <td>0.518673</td>\n",
       "      <td>0.933045</td>\n",
       "      <td>0.794091</td>\n",
       "      <td>0.824294</td>\n",
       "      <td>2</td>\n",
       "    </tr>\n",
       "    <tr>\n",
       "      <th>...</th>\n",
       "      <td>...</td>\n",
       "      <td>...</td>\n",
       "      <td>...</td>\n",
       "      <td>...</td>\n",
       "      <td>...</td>\n",
       "      <td>...</td>\n",
       "      <td>...</td>\n",
       "      <td>...</td>\n",
       "      <td>...</td>\n",
       "    </tr>\n",
       "    <tr>\n",
       "      <th>174</th>\n",
       "      <td>0.318974</td>\n",
       "      <td>0.171410</td>\n",
       "      <td>0.319497</td>\n",
       "      <td>0.285403</td>\n",
       "      <td>0.576726</td>\n",
       "      <td>0.797335</td>\n",
       "      <td>0.386846</td>\n",
       "      <td>0.598540</td>\n",
       "      <td>2</td>\n",
       "    </tr>\n",
       "    <tr>\n",
       "      <th>175</th>\n",
       "      <td>0.319137</td>\n",
       "      <td>0.196838</td>\n",
       "      <td>0.335253</td>\n",
       "      <td>0.289952</td>\n",
       "      <td>0.578867</td>\n",
       "      <td>0.776096</td>\n",
       "      <td>0.608865</td>\n",
       "      <td>0.663948</td>\n",
       "      <td>2</td>\n",
       "    </tr>\n",
       "    <tr>\n",
       "      <th>176</th>\n",
       "      <td>0.311735</td>\n",
       "      <td>0.134141</td>\n",
       "      <td>0.246384</td>\n",
       "      <td>0.159806</td>\n",
       "      <td>0.592506</td>\n",
       "      <td>0.822354</td>\n",
       "      <td>0.566484</td>\n",
       "      <td>0.752009</td>\n",
       "      <td>2</td>\n",
       "    </tr>\n",
       "    <tr>\n",
       "      <th>177</th>\n",
       "      <td>0.379418</td>\n",
       "      <td>0.311836</td>\n",
       "      <td>0.415536</td>\n",
       "      <td>0.368704</td>\n",
       "      <td>0.497071</td>\n",
       "      <td>0.558788</td>\n",
       "      <td>0.439252</td>\n",
       "      <td>0.536747</td>\n",
       "      <td>2</td>\n",
       "    </tr>\n",
       "    <tr>\n",
       "      <th>178</th>\n",
       "      <td>0.373047</td>\n",
       "      <td>0.178136</td>\n",
       "      <td>0.396027</td>\n",
       "      <td>0.269728</td>\n",
       "      <td>0.457156</td>\n",
       "      <td>0.783836</td>\n",
       "      <td>0.369221</td>\n",
       "      <td>0.627622</td>\n",
       "      <td>2</td>\n",
       "    </tr>\n",
       "  </tbody>\n",
       "</table>\n",
       "<p>179 rows × 9 columns</p>\n",
       "</div>"
      ],
      "text/plain": [
       "       alpha1    alpha2    alpha3    alpha4     beta1     beta2     beta3  \\\n",
       "0    0.318978  0.375868  0.439207  0.436782  0.578884  0.558880  0.344427   \n",
       "1    0.313962  0.290865  0.318644  0.321366  0.587529  0.623147  0.584857   \n",
       "2    0.360113  0.060547  0.288720  0.234038  0.527324  0.932250  0.430635   \n",
       "3    0.388420  0.039070  0.166126  0.125966  0.447883  0.957471  0.793901   \n",
       "4    0.307461  0.054708  0.116059  0.108655  0.518673  0.933045  0.794091   \n",
       "..        ...       ...       ...       ...       ...       ...       ...   \n",
       "174  0.318974  0.171410  0.319497  0.285403  0.576726  0.797335  0.386846   \n",
       "175  0.319137  0.196838  0.335253  0.289952  0.578867  0.776096  0.608865   \n",
       "176  0.311735  0.134141  0.246384  0.159806  0.592506  0.822354  0.566484   \n",
       "177  0.379418  0.311836  0.415536  0.368704  0.497071  0.558788  0.439252   \n",
       "178  0.373047  0.178136  0.396027  0.269728  0.457156  0.783836  0.369221   \n",
       "\n",
       "        beta4  type  \n",
       "0    0.333728     2  \n",
       "1    0.584689     2  \n",
       "2    0.585977     2  \n",
       "3    0.841983     2  \n",
       "4    0.824294     2  \n",
       "..        ...   ...  \n",
       "174  0.598540     2  \n",
       "175  0.663948     2  \n",
       "176  0.752009     2  \n",
       "177  0.536747     2  \n",
       "178  0.627622     2  \n",
       "\n",
       "[179 rows x 9 columns]"
      ]
     },
     "execution_count": 260,
     "metadata": {},
     "output_type": "execute_result"
    }
   ],
   "source": [
    "df"
   ]
  },
  {
   "cell_type": "code",
   "execution_count": 265,
   "id": "86b6403c",
   "metadata": {},
   "outputs": [],
   "source": [
    "DS_NR = df"
   ]
  },
  {
   "cell_type": "markdown",
   "id": "2924992b",
   "metadata": {},
   "source": [
    "## Integrate Relax and Not Relax Data"
   ]
  },
  {
   "cell_type": "code",
   "execution_count": 266,
   "id": "3b392313",
   "metadata": {},
   "outputs": [],
   "source": [
    "DS_final = df = pd.concat([DS_R,DS_NR],ignore_index=True)"
   ]
  },
  {
   "cell_type": "code",
   "execution_count": 267,
   "id": "d78efef8",
   "metadata": {},
   "outputs": [
    {
     "data": {
      "text/html": [
       "<div>\n",
       "<style scoped>\n",
       "    .dataframe tbody tr th:only-of-type {\n",
       "        vertical-align: middle;\n",
       "    }\n",
       "\n",
       "    .dataframe tbody tr th {\n",
       "        vertical-align: top;\n",
       "    }\n",
       "\n",
       "    .dataframe thead th {\n",
       "        text-align: right;\n",
       "    }\n",
       "</style>\n",
       "<table border=\"1\" class=\"dataframe\">\n",
       "  <thead>\n",
       "    <tr style=\"text-align: right;\">\n",
       "      <th></th>\n",
       "      <th>alpha1</th>\n",
       "      <th>alpha2</th>\n",
       "      <th>alpha3</th>\n",
       "      <th>alpha4</th>\n",
       "      <th>beta1</th>\n",
       "      <th>beta2</th>\n",
       "      <th>beta3</th>\n",
       "      <th>beta4</th>\n",
       "      <th>type</th>\n",
       "    </tr>\n",
       "  </thead>\n",
       "  <tbody>\n",
       "    <tr>\n",
       "      <th>0</th>\n",
       "      <td>0.372637</td>\n",
       "      <td>0.414502</td>\n",
       "      <td>0.369849</td>\n",
       "      <td>0.339414</td>\n",
       "      <td>0.512475</td>\n",
       "      <td>0.415409</td>\n",
       "      <td>0.532889</td>\n",
       "      <td>0.575139</td>\n",
       "      <td>1</td>\n",
       "    </tr>\n",
       "    <tr>\n",
       "      <th>1</th>\n",
       "      <td>0.340521</td>\n",
       "      <td>0.344589</td>\n",
       "      <td>0.410753</td>\n",
       "      <td>0.385122</td>\n",
       "      <td>0.528125</td>\n",
       "      <td>0.368261</td>\n",
       "      <td>0.527470</td>\n",
       "      <td>0.454316</td>\n",
       "      <td>1</td>\n",
       "    </tr>\n",
       "    <tr>\n",
       "      <th>2</th>\n",
       "      <td>0.343464</td>\n",
       "      <td>0.471185</td>\n",
       "      <td>0.320766</td>\n",
       "      <td>0.373567</td>\n",
       "      <td>0.542242</td>\n",
       "      <td>0.381283</td>\n",
       "      <td>0.604319</td>\n",
       "      <td>0.421754</td>\n",
       "      <td>1</td>\n",
       "    </tr>\n",
       "    <tr>\n",
       "      <th>3</th>\n",
       "      <td>0.350210</td>\n",
       "      <td>0.437232</td>\n",
       "      <td>0.389277</td>\n",
       "      <td>0.376017</td>\n",
       "      <td>0.532792</td>\n",
       "      <td>0.392294</td>\n",
       "      <td>0.392570</td>\n",
       "      <td>0.374380</td>\n",
       "      <td>1</td>\n",
       "    </tr>\n",
       "    <tr>\n",
       "      <th>4</th>\n",
       "      <td>0.347168</td>\n",
       "      <td>0.442378</td>\n",
       "      <td>0.360232</td>\n",
       "      <td>0.309794</td>\n",
       "      <td>0.516193</td>\n",
       "      <td>0.340061</td>\n",
       "      <td>0.554126</td>\n",
       "      <td>0.619408</td>\n",
       "      <td>1</td>\n",
       "    </tr>\n",
       "    <tr>\n",
       "      <th>...</th>\n",
       "      <td>...</td>\n",
       "      <td>...</td>\n",
       "      <td>...</td>\n",
       "      <td>...</td>\n",
       "      <td>...</td>\n",
       "      <td>...</td>\n",
       "      <td>...</td>\n",
       "      <td>...</td>\n",
       "      <td>...</td>\n",
       "    </tr>\n",
       "    <tr>\n",
       "      <th>669</th>\n",
       "      <td>0.318974</td>\n",
       "      <td>0.171410</td>\n",
       "      <td>0.319497</td>\n",
       "      <td>0.285403</td>\n",
       "      <td>0.576726</td>\n",
       "      <td>0.797335</td>\n",
       "      <td>0.386846</td>\n",
       "      <td>0.598540</td>\n",
       "      <td>2</td>\n",
       "    </tr>\n",
       "    <tr>\n",
       "      <th>670</th>\n",
       "      <td>0.319137</td>\n",
       "      <td>0.196838</td>\n",
       "      <td>0.335253</td>\n",
       "      <td>0.289952</td>\n",
       "      <td>0.578867</td>\n",
       "      <td>0.776096</td>\n",
       "      <td>0.608865</td>\n",
       "      <td>0.663948</td>\n",
       "      <td>2</td>\n",
       "    </tr>\n",
       "    <tr>\n",
       "      <th>671</th>\n",
       "      <td>0.311735</td>\n",
       "      <td>0.134141</td>\n",
       "      <td>0.246384</td>\n",
       "      <td>0.159806</td>\n",
       "      <td>0.592506</td>\n",
       "      <td>0.822354</td>\n",
       "      <td>0.566484</td>\n",
       "      <td>0.752009</td>\n",
       "      <td>2</td>\n",
       "    </tr>\n",
       "    <tr>\n",
       "      <th>672</th>\n",
       "      <td>0.379418</td>\n",
       "      <td>0.311836</td>\n",
       "      <td>0.415536</td>\n",
       "      <td>0.368704</td>\n",
       "      <td>0.497071</td>\n",
       "      <td>0.558788</td>\n",
       "      <td>0.439252</td>\n",
       "      <td>0.536747</td>\n",
       "      <td>2</td>\n",
       "    </tr>\n",
       "    <tr>\n",
       "      <th>673</th>\n",
       "      <td>0.373047</td>\n",
       "      <td>0.178136</td>\n",
       "      <td>0.396027</td>\n",
       "      <td>0.269728</td>\n",
       "      <td>0.457156</td>\n",
       "      <td>0.783836</td>\n",
       "      <td>0.369221</td>\n",
       "      <td>0.627622</td>\n",
       "      <td>2</td>\n",
       "    </tr>\n",
       "  </tbody>\n",
       "</table>\n",
       "<p>674 rows × 9 columns</p>\n",
       "</div>"
      ],
      "text/plain": [
       "       alpha1    alpha2    alpha3    alpha4     beta1     beta2     beta3  \\\n",
       "0    0.372637  0.414502  0.369849  0.339414  0.512475  0.415409  0.532889   \n",
       "1    0.340521  0.344589  0.410753  0.385122  0.528125  0.368261  0.527470   \n",
       "2    0.343464  0.471185  0.320766  0.373567  0.542242  0.381283  0.604319   \n",
       "3    0.350210  0.437232  0.389277  0.376017  0.532792  0.392294  0.392570   \n",
       "4    0.347168  0.442378  0.360232  0.309794  0.516193  0.340061  0.554126   \n",
       "..        ...       ...       ...       ...       ...       ...       ...   \n",
       "669  0.318974  0.171410  0.319497  0.285403  0.576726  0.797335  0.386846   \n",
       "670  0.319137  0.196838  0.335253  0.289952  0.578867  0.776096  0.608865   \n",
       "671  0.311735  0.134141  0.246384  0.159806  0.592506  0.822354  0.566484   \n",
       "672  0.379418  0.311836  0.415536  0.368704  0.497071  0.558788  0.439252   \n",
       "673  0.373047  0.178136  0.396027  0.269728  0.457156  0.783836  0.369221   \n",
       "\n",
       "        beta4  type  \n",
       "0    0.575139     1  \n",
       "1    0.454316     1  \n",
       "2    0.421754     1  \n",
       "3    0.374380     1  \n",
       "4    0.619408     1  \n",
       "..        ...   ...  \n",
       "669  0.598540     2  \n",
       "670  0.663948     2  \n",
       "671  0.752009     2  \n",
       "672  0.536747     2  \n",
       "673  0.627622     2  \n",
       "\n",
       "[674 rows x 9 columns]"
      ]
     },
     "execution_count": 267,
     "metadata": {},
     "output_type": "execute_result"
    }
   ],
   "source": [
    "DS_final"
   ]
  },
  {
   "cell_type": "markdown",
   "id": "c39af4bc",
   "metadata": {},
   "source": [
    "## Trial SVM"
   ]
  },
  {
   "cell_type": "code",
   "execution_count": 272,
   "id": "4e28a1ec",
   "metadata": {
    "scrolled": true
   },
   "outputs": [
    {
     "data": {
      "text/plain": [
       "<AxesSubplot:xlabel='alpha1', ylabel='beta1'>"
      ]
     },
     "execution_count": 272,
     "metadata": {},
     "output_type": "execute_result"
    },
    {
     "data": {
      "image/png": "[encoded data removed]",
      "text/plain": [
       "<Figure size 432x288 with 1 Axes>"
      ]
     },
     "metadata": {
      "needs_background": "light"
     },
     "output_type": "display_data"
    }
   ],
   "source": [
    "sns.scatterplot(x='alpha1',y='beta1',hue='type',data=DS_final)"
   ]
  },
  {
   "cell_type": "code",
   "execution_count": 273,
   "id": "cc3f8008",
   "metadata": {},
   "outputs": [
    {
     "data": {
      "text/plain": [
       "<AxesSubplot:xlabel='alpha2', ylabel='beta2'>"
      ]
     },
     "execution_count": 273,
     "metadata": {},
     "output_type": "execute_result"
    },
    {
     "data": {
      "image/png": "[encoded data removed]",
      "text/plain": [
       "<Figure size 432x288 with 1 Axes>"
      ]
     },
     "metadata": {
      "needs_background": "light"
     },
     "output_type": "display_data"
    }
   ],
   "source": [
    "sns.scatterplot(x='alpha2',y='beta2',hue='type',data=DS_final)"
   ]
  },
  {
   "cell_type": "code",
   "execution_count": 274,
   "id": "29147ee9",
   "metadata": {},
   "outputs": [
    {
     "data": {
      "text/plain": [
       "<AxesSubplot:xlabel='alpha3', ylabel='beta3'>"
      ]
     },
     "execution_count": 274,
     "metadata": {},
     "output_type": "execute_result"
    },
    {
     "data": {
      "image/png": "[encoded data removed]",
      "text/plain": [
       "<Figure size 432x288 with 1 Axes>"
      ]
     },
     "metadata": {
      "needs_background": "light"
     },
     "output_type": "display_data"
    }
   ],
   "source": [
    "sns.scatterplot(x='alpha3',y='beta3',hue='type',data=DS_final)"
   ]
  },
  {
   "cell_type": "code",
   "execution_count": 275,
   "id": "674d8f51",
   "metadata": {},
   "outputs": [
    {
     "data": {
      "text/plain": [
       "<AxesSubplot:xlabel='alpha4', ylabel='beta4'>"
      ]
     },
     "execution_count": 275,
     "metadata": {},
     "output_type": "execute_result"
    },
    {
     "data": {
      "image/png": "[encoded data removed]",
      "text/plain": [
       "<Figure size 432x288 with 1 Axes>"
      ]
     },
     "metadata": {
      "needs_background": "light"
     },
     "output_type": "display_data"
    }
   ],
   "source": [
    "sns.scatterplot(x='alpha4',y='beta4',hue='type',data=DS_final)"
   ]
  },
  {
   "cell_type": "code",
   "execution_count": 449,
   "id": "0499f83d",
   "metadata": {},
   "outputs": [],
   "source": [
    "from sklearn.svm import SVC\n",
    "from sklearn.model_selection import train_test_split"
   ]
  },
  {
   "cell_type": "code",
   "execution_count": 427,
   "id": "22947d1d",
   "metadata": {},
   "outputs": [],
   "source": [
    "y = DS_final['type']"
   ]
  },
  {
   "cell_type": "code",
   "execution_count": 433,
   "id": "24177283",
   "metadata": {},
   "outputs": [],
   "source": [
    "X = DS_final[['alpha1','beta1']]"
   ]
  },
  {
   "cell_type": "code",
   "execution_count": 450,
   "id": "61001f0a",
   "metadata": {},
   "outputs": [],
   "source": [
    "x_train,x_test,y_train,y_test = train_test_split(X,y,test_size=0.3,random_state=0)"
   ]
  },
  {
   "cell_type": "code",
   "execution_count": 452,
   "id": "fcf0b48f",
   "metadata": {},
   "outputs": [
    {
     "data": {
      "text/plain": [
       "((471, 2), (471,))"
      ]
     },
     "execution_count": 452,
     "metadata": {},
     "output_type": "execute_result"
    }
   ],
   "source": [
    "x_train.shape, y_train.shape"
   ]
  },
  {
   "cell_type": "code",
   "execution_count": 453,
   "id": "0cb4a80c",
   "metadata": {},
   "outputs": [
    {
     "data": {
      "text/plain": [
       "((203, 2), (203,))"
      ]
     },
     "execution_count": 453,
     "metadata": {},
     "output_type": "execute_result"
    }
   ],
   "source": [
    "x_test.shape, y_test.shape"
   ]
  },
  {
   "cell_type": "code",
   "execution_count": 434,
   "id": "cd6dd7a6",
   "metadata": {},
   "outputs": [],
   "source": [
    "model = SVC(kernel='rbf',C=100,gamma='scale')"
   ]
  },
  {
   "cell_type": "code",
   "execution_count": 454,
   "id": "eb36bd00",
   "metadata": {},
   "outputs": [
    {
     "data": {
      "text/html": [
       "<style>#sk-container-id-57 {color: black;background-color: white;}#sk-container-id-57 pre{padding: 0;}#sk-container-id-57 div.sk-toggleable {background-color: white;}#sk-container-id-57 label.sk-toggleable__label {cursor: pointer;display: block;width: 100%;margin-bottom: 0;padding: 0.3em;box-sizing: border-box;text-align: center;}#sk-container-id-57 label.sk-toggleable__label-arrow:before {content: \"▸\";float: left;margin-right: 0.25em;color: #696969;}#sk-container-id-57 label.sk-toggleable__label-arrow:hover:before {color: black;}#sk-container-id-57 div.sk-estimator:hover label.sk-toggleable__label-arrow:before {color: black;}#sk-container-id-57 div.sk-toggleable__content {max-height: 0;max-width: 0;overflow: hidden;text-align: left;background-color: #f0f8ff;}#sk-container-id-57 div.sk-toggleable__content pre {margin: 0.2em;color: black;border-radius: 0.25em;background-color: #f0f8ff;}#sk-container-id-57 input.sk-toggleable__control:checked~div.sk-toggleable__content {max-height: 200px;max-width: 100%;overflow: auto;}#sk-container-id-57 input.sk-toggleable__control:checked~label.sk-toggleable__label-arrow:before {content: \"▾\";}#sk-container-id-57 div.sk-estimator input.sk-toggleable__control:checked~label.sk-toggleable__label {background-color: #d4ebff;}#sk-container-id-57 div.sk-label input.sk-toggleable__control:checked~label.sk-toggleable__label {background-color: #d4ebff;}#sk-container-id-57 input.sk-hidden--visually {border: 0;clip: rect(1px 1px 1px 1px);clip: rect(1px, 1px, 1px, 1px);height: 1px;margin: -1px;overflow: hidden;padding: 0;position: absolute;width: 1px;}#sk-container-id-57 div.sk-estimator {font-family: monospace;background-color: #f0f8ff;border: 1px dotted black;border-radius: 0.25em;box-sizing: border-box;margin-bottom: 0.5em;}#sk-container-id-57 div.sk-estimator:hover {background-color: #d4ebff;}#sk-container-id-57 div.sk-parallel-item::after {content: \"\";width: 100%;border-bottom: 1px solid gray;flex-grow: 1;}#sk-container-id-57 div.sk-label:hover label.sk-toggleable__label {background-color: #d4ebff;}#sk-container-id-57 div.sk-serial::before {content: \"\";position: absolute;border-left: 1px solid gray;box-sizing: border-box;top: 0;bottom: 0;left: 50%;z-index: 0;}#sk-container-id-57 div.sk-serial {display: flex;flex-direction: column;align-items: center;background-color: white;padding-right: 0.2em;padding-left: 0.2em;position: relative;}#sk-container-id-57 div.sk-item {position: relative;z-index: 1;}#sk-container-id-57 div.sk-parallel {display: flex;align-items: stretch;justify-content: center;background-color: white;position: relative;}#sk-container-id-57 div.sk-item::before, #sk-container-id-57 div.sk-parallel-item::before {content: \"\";position: absolute;border-left: 1px solid gray;box-sizing: border-box;top: 0;bottom: 0;left: 50%;z-index: -1;}#sk-container-id-57 div.sk-parallel-item {display: flex;flex-direction: column;z-index: 1;position: relative;background-color: white;}#sk-container-id-57 div.sk-parallel-item:first-child::after {align-self: flex-end;width: 50%;}#sk-container-id-57 div.sk-parallel-item:last-child::after {align-self: flex-start;width: 50%;}#sk-container-id-57 div.sk-parallel-item:only-child::after {width: 0;}#sk-container-id-57 div.sk-dashed-wrapped {border: 1px dashed gray;margin: 0 0.4em 0.5em 0.4em;box-sizing: border-box;padding-bottom: 0.4em;background-color: white;}#sk-container-id-57 div.sk-label label {font-family: monospace;font-weight: bold;display: inline-block;line-height: 1.2em;}#sk-container-id-57 div.sk-label-container {text-align: center;}#sk-container-id-57 div.sk-container {/* jupyter's `normalize.less` sets `[hidden] { display: none; }` but bootstrap.min.css set `[hidden] { display: none !important; }` so we also need the `!important` here to be able to override the default hidden behavior on the sphinx rendered scikit-learn.org. See: https://github.com/scikit-learn/scikit-learn/issues/21755 */display: inline-block !important;position: relative;}#sk-container-id-57 div.sk-text-repr-fallback {display: none;}</style><div id=\"sk-container-id-57\" class=\"sk-top-container\"><div class=\"sk-text-repr-fallback\"><pre>SVC(C=100)</pre><b>In a Jupyter environment, please rerun this cell to show the HTML representation or trust the notebook. <br />On GitHub, the HTML representation is unable to render, please try loading this page with nbviewer.org.</b></div><div class=\"sk-container\" hidden><div class=\"sk-item\"><div class=\"sk-estimator sk-toggleable\"><input class=\"sk-toggleable__control sk-hidden--visually\" id=\"sk-estimator-id-61\" type=\"checkbox\" checked><label for=\"sk-estimator-id-61\" class=\"sk-toggleable__label sk-toggleable__label-arrow\">SVC</label><div class=\"sk-toggleable__content\"><pre>SVC(C=100)</pre></div></div></div></div></div>"
      ],
      "text/plain": [
       "SVC(C=100)"
      ]
     },
     "execution_count": 454,
     "metadata": {},
     "output_type": "execute_result"
    }
   ],
   "source": [
    "model.fit(x_train,y_train)"
   ]
  },
  {
   "cell_type": "code",
   "execution_count": 455,
   "id": "4ce3a7ea",
   "metadata": {},
   "outputs": [],
   "source": [
    "from svm_margin_plot import plot_svm_boundary"
   ]
  },
  {
   "cell_type": "code",
   "execution_count": 456,
   "id": "4fe8179d",
   "metadata": {
    "scrolled": false
   },
   "outputs": [
    {
     "name": "stderr",
     "output_type": "stream",
     "text": [
      "/home/bimanjaya/.conda/envs/workspace1/lib/python3.10/site-packages/sklearn/base.py:450: UserWarning: X does not have valid feature names, but SVC was fitted with feature names\n",
      "  warnings.warn(\n"
     ]
    },
    {
     "data": {
      "image/png": "[encoded data removed]",
      "text/plain": [
       "<Figure size 432x288 with 1 Axes>"
      ]
     },
     "metadata": {
      "needs_background": "light"
     },
     "output_type": "display_data"
    }
   ],
   "source": [
    "plot_svm_boundary(model,X,y)"
   ]
  },
  {
   "cell_type": "markdown",
   "id": "8ba77394",
   "metadata": {},
   "source": [
    "## Testing Model"
   ]
  },
  {
   "cell_type": "code",
   "execution_count": 457,
   "id": "e5caf2fc",
   "metadata": {},
   "outputs": [
    {
     "data": {
      "text/plain": [
       "0.9064039408866995"
      ]
     },
     "execution_count": 457,
     "metadata": {},
     "output_type": "execute_result"
    }
   ],
   "source": [
    "model.score(x_test,y_test)"
   ]
  },
  {
   "cell_type": "code",
   "execution_count": 458,
   "id": "3582739f",
   "metadata": {},
   "outputs": [],
   "source": [
    "from sklearn.model_selection import cross_val_score"
   ]
  },
  {
   "cell_type": "code",
   "execution_count": 471,
   "id": "75fbd8fb",
   "metadata": {},
   "outputs": [
    {
     "data": {
      "text/plain": [
       "array([0.81481481, 0.87407407, 0.81481481, 0.9037037 , 0.97761194])"
      ]
     },
     "execution_count": 471,
     "metadata": {},
     "output_type": "execute_result"
    }
   ],
   "source": [
    "scores = cross_val_score(model,X,y,cv=5)\n",
    "scores"
   ]
  },
  {
   "cell_type": "code",
   "execution_count": 472,
   "id": "79b3c6af",
   "metadata": {},
   "outputs": [
    {
     "name": "stdout",
     "output_type": "stream",
     "text": [
      "0.88 accuracy with a standard deviation of 0.06\n"
     ]
    }
   ],
   "source": [
    "print(\"%0.2f accuracy with a standard deviation of %0.2f\" % (scores.mean(), scores.std()))"
   ]
  },
  {
   "cell_type": "markdown",
   "id": "b93def8a",
   "metadata": {},
   "source": [
    "## Model Persistence (Saving Model)"
   ]
  },
  {
   "cell_type": "code",
   "execution_count": 441,
   "id": "deddb13e",
   "metadata": {},
   "outputs": [],
   "source": [
    "from joblib import dump,load"
   ]
  },
  {
   "cell_type": "code",
   "execution_count": 444,
   "id": "a9793c7c",
   "metadata": {},
   "outputs": [
    {
     "data": {
      "text/plain": [
       "['/home/bimanjaya/learner/TA/brainflow/EEG-projects/src/model1.joblib']"
      ]
     },
     "execution_count": 444,
     "metadata": {},
     "output_type": "execute_result"
    }
   ],
   "source": [
    "dump(model,'/home/bimanjaya/learner/TA/brainflow/EEG-projects/src/model1.joblib')"
   ]
  },
  {
   "cell_type": "markdown",
   "id": "265cc4fa",
   "metadata": {},
   "source": [
    "## Loading Saved Model"
   ]
  },
  {
   "cell_type": "code",
   "execution_count": 447,
   "id": "72c21e73",
   "metadata": {},
   "outputs": [],
   "source": [
    "loaded = load('/home/bimanjaya/learner/TA/brainflow/EEG-projects/src/model1.joblib') "
   ]
  },
  {
   "cell_type": "code",
   "execution_count": 448,
   "id": "1b22931f",
   "metadata": {},
   "outputs": [
    {
     "name": "stderr",
     "output_type": "stream",
     "text": [
      "/home/bimanjaya/.conda/envs/workspace1/lib/python3.10/site-packages/sklearn/base.py:450: UserWarning: X does not have valid feature names, but SVC was fitted with feature names\n",
      "  warnings.warn(\n"
     ]
    },
    {
     "data": {
      "image/png": "[encoded data removed]",
      "text/plain": [
       "<Figure size 432x288 with 1 Axes>"
      ]
     },
     "metadata": {
      "needs_background": "light"
     },
     "output_type": "display_data"
    }
   ],
   "source": [
    "plot_svm_boundary(loaded,X,y)"
   ]
  },
  {
   "cell_type": "markdown",
   "id": "d24b5590",
   "metadata": {},
   "source": [
    "## 8 Features Model"
   ]
  },
  {
   "cell_type": "markdown",
   "id": "618f8ffa",
   "metadata": {},
   "source": [
    "#### Training"
   ]
  },
  {
   "cell_type": "code",
   "execution_count": 525,
   "id": "33971326",
   "metadata": {},
   "outputs": [],
   "source": [
    "from sklearn.svm import SVC\n",
    "from sklearn.model_selection import train_test_split"
   ]
  },
  {
   "cell_type": "code",
   "execution_count": 526,
   "id": "9268181d",
   "metadata": {},
   "outputs": [],
   "source": [
    "y = DS_final['type']"
   ]
  },
  {
   "cell_type": "code",
   "execution_count": 527,
   "id": "dd80135d",
   "metadata": {},
   "outputs": [],
   "source": [
    "X = DS_final.drop('type',axis=1)"
   ]
  },
  {
   "cell_type": "code",
   "execution_count": 528,
   "id": "9c854e0b",
   "metadata": {},
   "outputs": [],
   "source": [
    "x_train,x_test,y_train,y_test = train_test_split(X,y,test_size=0.3,random_state=0)"
   ]
  },
  {
   "cell_type": "code",
   "execution_count": 529,
   "id": "a7869032",
   "metadata": {},
   "outputs": [
    {
     "data": {
      "text/plain": [
       "((471, 8), (471,))"
      ]
     },
     "execution_count": 529,
     "metadata": {},
     "output_type": "execute_result"
    }
   ],
   "source": [
    "x_train.shape, y_train.shape"
   ]
  },
  {
   "cell_type": "code",
   "execution_count": 530,
   "id": "fed59fef",
   "metadata": {},
   "outputs": [
    {
     "data": {
      "text/plain": [
       "((203, 8), (203,))"
      ]
     },
     "execution_count": 530,
     "metadata": {},
     "output_type": "execute_result"
    }
   ],
   "source": [
    "x_test.shape, y_test.shape"
   ]
  },
  {
   "cell_type": "code",
   "execution_count": 531,
   "id": "bcd6b130",
   "metadata": {},
   "outputs": [],
   "source": [
    "model = SVC(kernel='rbf',C=100,gamma='scale',probability=True)"
   ]
  },
  {
   "cell_type": "code",
   "execution_count": 532,
   "id": "ee8ce4f0",
   "metadata": {
    "scrolled": true
   },
   "outputs": [
    {
     "data": {
      "text/html": [
       "<style>#sk-container-id-65 {color: black;background-color: white;}#sk-container-id-65 pre{padding: 0;}#sk-container-id-65 div.sk-toggleable {background-color: white;}#sk-container-id-65 label.sk-toggleable__label {cursor: pointer;display: block;width: 100%;margin-bottom: 0;padding: 0.3em;box-sizing: border-box;text-align: center;}#sk-container-id-65 label.sk-toggleable__label-arrow:before {content: \"▸\";float: left;margin-right: 0.25em;color: #696969;}#sk-container-id-65 label.sk-toggleable__label-arrow:hover:before {color: black;}#sk-container-id-65 div.sk-estimator:hover label.sk-toggleable__label-arrow:before {color: black;}#sk-container-id-65 div.sk-toggleable__content {max-height: 0;max-width: 0;overflow: hidden;text-align: left;background-color: #f0f8ff;}#sk-container-id-65 div.sk-toggleable__content pre {margin: 0.2em;color: black;border-radius: 0.25em;background-color: #f0f8ff;}#sk-container-id-65 input.sk-toggleable__control:checked~div.sk-toggleable__content {max-height: 200px;max-width: 100%;overflow: auto;}#sk-container-id-65 input.sk-toggleable__control:checked~label.sk-toggleable__label-arrow:before {content: \"▾\";}#sk-container-id-65 div.sk-estimator input.sk-toggleable__control:checked~label.sk-toggleable__label {background-color: #d4ebff;}#sk-container-id-65 div.sk-label input.sk-toggleable__control:checked~label.sk-toggleable__label {background-color: #d4ebff;}#sk-container-id-65 input.sk-hidden--visually {border: 0;clip: rect(1px 1px 1px 1px);clip: rect(1px, 1px, 1px, 1px);height: 1px;margin: -1px;overflow: hidden;padding: 0;position: absolute;width: 1px;}#sk-container-id-65 div.sk-estimator {font-family: monospace;background-color: #f0f8ff;border: 1px dotted black;border-radius: 0.25em;box-sizing: border-box;margin-bottom: 0.5em;}#sk-container-id-65 div.sk-estimator:hover {background-color: #d4ebff;}#sk-container-id-65 div.sk-parallel-item::after {content: \"\";width: 100%;border-bottom: 1px solid gray;flex-grow: 1;}#sk-container-id-65 div.sk-label:hover label.sk-toggleable__label {background-color: #d4ebff;}#sk-container-id-65 div.sk-serial::before {content: \"\";position: absolute;border-left: 1px solid gray;box-sizing: border-box;top: 0;bottom: 0;left: 50%;z-index: 0;}#sk-container-id-65 div.sk-serial {display: flex;flex-direction: column;align-items: center;background-color: white;padding-right: 0.2em;padding-left: 0.2em;position: relative;}#sk-container-id-65 div.sk-item {position: relative;z-index: 1;}#sk-container-id-65 div.sk-parallel {display: flex;align-items: stretch;justify-content: center;background-color: white;position: relative;}#sk-container-id-65 div.sk-item::before, #sk-container-id-65 div.sk-parallel-item::before {content: \"\";position: absolute;border-left: 1px solid gray;box-sizing: border-box;top: 0;bottom: 0;left: 50%;z-index: -1;}#sk-container-id-65 div.sk-parallel-item {display: flex;flex-direction: column;z-index: 1;position: relative;background-color: white;}#sk-container-id-65 div.sk-parallel-item:first-child::after {align-self: flex-end;width: 50%;}#sk-container-id-65 div.sk-parallel-item:last-child::after {align-self: flex-start;width: 50%;}#sk-container-id-65 div.sk-parallel-item:only-child::after {width: 0;}#sk-container-id-65 div.sk-dashed-wrapped {border: 1px dashed gray;margin: 0 0.4em 0.5em 0.4em;box-sizing: border-box;padding-bottom: 0.4em;background-color: white;}#sk-container-id-65 div.sk-label label {font-family: monospace;font-weight: bold;display: inline-block;line-height: 1.2em;}#sk-container-id-65 div.sk-label-container {text-align: center;}#sk-container-id-65 div.sk-container {/* jupyter's `normalize.less` sets `[hidden] { display: none; }` but bootstrap.min.css set `[hidden] { display: none !important; }` so we also need the `!important` here to be able to override the default hidden behavior on the sphinx rendered scikit-learn.org. See: https://github.com/scikit-learn/scikit-learn/issues/21755 */display: inline-block !important;position: relative;}#sk-container-id-65 div.sk-text-repr-fallback {display: none;}</style><div id=\"sk-container-id-65\" class=\"sk-top-container\"><div class=\"sk-text-repr-fallback\"><pre>SVC(C=100, probability=True)</pre><b>In a Jupyter environment, please rerun this cell to show the HTML representation or trust the notebook. <br />On GitHub, the HTML representation is unable to render, please try loading this page with nbviewer.org.</b></div><div class=\"sk-container\" hidden><div class=\"sk-item\"><div class=\"sk-estimator sk-toggleable\"><input class=\"sk-toggleable__control sk-hidden--visually\" id=\"sk-estimator-id-69\" type=\"checkbox\" checked><label for=\"sk-estimator-id-69\" class=\"sk-toggleable__label sk-toggleable__label-arrow\">SVC</label><div class=\"sk-toggleable__content\"><pre>SVC(C=100, probability=True)</pre></div></div></div></div></div>"
      ],
      "text/plain": [
       "SVC(C=100, probability=True)"
      ]
     },
     "execution_count": 532,
     "metadata": {},
     "output_type": "execute_result"
    }
   ],
   "source": [
    "model.fit(x_train.values,y_train.values)"
   ]
  },
  {
   "cell_type": "markdown",
   "id": "9827b676",
   "metadata": {},
   "source": [
    "#### Testing"
   ]
  },
  {
   "cell_type": "code",
   "execution_count": 533,
   "id": "bae454d2",
   "metadata": {},
   "outputs": [
    {
     "data": {
      "text/plain": [
       "0.9507389162561576"
      ]
     },
     "execution_count": 533,
     "metadata": {},
     "output_type": "execute_result"
    }
   ],
   "source": [
    "model.score(x_test.values,y_test.values)"
   ]
  },
  {
   "cell_type": "code",
   "execution_count": 534,
   "id": "18a14ebb",
   "metadata": {},
   "outputs": [],
   "source": [
    "from sklearn.model_selection import cross_val_score"
   ]
  },
  {
   "cell_type": "code",
   "execution_count": 535,
   "id": "b1098172",
   "metadata": {},
   "outputs": [
    {
     "data": {
      "text/plain": [
       "array([0.96296296, 0.97777778, 0.9037037 , 0.97777778, 0.94029851])"
      ]
     },
     "execution_count": 535,
     "metadata": {},
     "output_type": "execute_result"
    }
   ],
   "source": [
    "scores = cross_val_score(model,X,y,cv=5)\n",
    "scores"
   ]
  },
  {
   "cell_type": "code",
   "execution_count": 536,
   "id": "b3af4b95",
   "metadata": {
    "scrolled": true
   },
   "outputs": [
    {
     "name": "stdout",
     "output_type": "stream",
     "text": [
      "0.95 accuracy with a standard deviation of 0.03\n"
     ]
    }
   ],
   "source": [
    "print(\"%0.2f accuracy with a standard deviation of %0.2f\" % (scores.mean(), scores.std()))"
   ]
  },
  {
   "cell_type": "markdown",
   "id": "67808156",
   "metadata": {},
   "source": [
    "#### Saving"
   ]
  },
  {
   "cell_type": "code",
   "execution_count": 537,
   "id": "b0c02a5d",
   "metadata": {},
   "outputs": [],
   "source": [
    "from joblib import dump,load"
   ]
  },
  {
   "cell_type": "code",
   "execution_count": 538,
   "id": "a507f39a",
   "metadata": {},
   "outputs": [
    {
     "data": {
      "text/plain": [
       "['/home/bimanjaya/learner/TA/brainflow/EEG-projects/src/model1.joblib']"
      ]
     },
     "execution_count": 538,
     "metadata": {},
     "output_type": "execute_result"
    }
   ],
   "source": [
    "dump(model,'/home/bimanjaya/learner/TA/brainflow/EEG-projects/src/model1.joblib')"
   ]
  },
  {
   "cell_type": "markdown",
   "id": "c63f1fbb",
   "metadata": {},
   "source": [
    "#### Loading"
   ]
  },
  {
   "cell_type": "code",
   "execution_count": 539,
   "id": "93f675c8",
   "metadata": {},
   "outputs": [],
   "source": [
    "loaded = load('/home/bimanjaya/learner/TA/brainflow/EEG-projects/src/model1.joblib')"
   ]
  },
  {
   "cell_type": "code",
   "execution_count": 540,
   "id": "c3db819f",
   "metadata": {},
   "outputs": [
    {
     "data": {
      "text/html": [
       "<style>#sk-container-id-66 {color: black;background-color: white;}#sk-container-id-66 pre{padding: 0;}#sk-container-id-66 div.sk-toggleable {background-color: white;}#sk-container-id-66 label.sk-toggleable__label {cursor: pointer;display: block;width: 100%;margin-bottom: 0;padding: 0.3em;box-sizing: border-box;text-align: center;}#sk-container-id-66 label.sk-toggleable__label-arrow:before {content: \"▸\";float: left;margin-right: 0.25em;color: #696969;}#sk-container-id-66 label.sk-toggleable__label-arrow:hover:before {color: black;}#sk-container-id-66 div.sk-estimator:hover label.sk-toggleable__label-arrow:before {color: black;}#sk-container-id-66 div.sk-toggleable__content {max-height: 0;max-width: 0;overflow: hidden;text-align: left;background-color: #f0f8ff;}#sk-container-id-66 div.sk-toggleable__content pre {margin: 0.2em;color: black;border-radius: 0.25em;background-color: #f0f8ff;}#sk-container-id-66 input.sk-toggleable__control:checked~div.sk-toggleable__content {max-height: 200px;max-width: 100%;overflow: auto;}#sk-container-id-66 input.sk-toggleable__control:checked~label.sk-toggleable__label-arrow:before {content: \"▾\";}#sk-container-id-66 div.sk-estimator input.sk-toggleable__control:checked~label.sk-toggleable__label {background-color: #d4ebff;}#sk-container-id-66 div.sk-label input.sk-toggleable__control:checked~label.sk-toggleable__label {background-color: #d4ebff;}#sk-container-id-66 input.sk-hidden--visually {border: 0;clip: rect(1px 1px 1px 1px);clip: rect(1px, 1px, 1px, 1px);height: 1px;margin: -1px;overflow: hidden;padding: 0;position: absolute;width: 1px;}#sk-container-id-66 div.sk-estimator {font-family: monospace;background-color: #f0f8ff;border: 1px dotted black;border-radius: 0.25em;box-sizing: border-box;margin-bottom: 0.5em;}#sk-container-id-66 div.sk-estimator:hover {background-color: #d4ebff;}#sk-container-id-66 div.sk-parallel-item::after {content: \"\";width: 100%;border-bottom: 1px solid gray;flex-grow: 1;}#sk-container-id-66 div.sk-label:hover label.sk-toggleable__label {background-color: #d4ebff;}#sk-container-id-66 div.sk-serial::before {content: \"\";position: absolute;border-left: 1px solid gray;box-sizing: border-box;top: 0;bottom: 0;left: 50%;z-index: 0;}#sk-container-id-66 div.sk-serial {display: flex;flex-direction: column;align-items: center;background-color: white;padding-right: 0.2em;padding-left: 0.2em;position: relative;}#sk-container-id-66 div.sk-item {position: relative;z-index: 1;}#sk-container-id-66 div.sk-parallel {display: flex;align-items: stretch;justify-content: center;background-color: white;position: relative;}#sk-container-id-66 div.sk-item::before, #sk-container-id-66 div.sk-parallel-item::before {content: \"\";position: absolute;border-left: 1px solid gray;box-sizing: border-box;top: 0;bottom: 0;left: 50%;z-index: -1;}#sk-container-id-66 div.sk-parallel-item {display: flex;flex-direction: column;z-index: 1;position: relative;background-color: white;}#sk-container-id-66 div.sk-parallel-item:first-child::after {align-self: flex-end;width: 50%;}#sk-container-id-66 div.sk-parallel-item:last-child::after {align-self: flex-start;width: 50%;}#sk-container-id-66 div.sk-parallel-item:only-child::after {width: 0;}#sk-container-id-66 div.sk-dashed-wrapped {border: 1px dashed gray;margin: 0 0.4em 0.5em 0.4em;box-sizing: border-box;padding-bottom: 0.4em;background-color: white;}#sk-container-id-66 div.sk-label label {font-family: monospace;font-weight: bold;display: inline-block;line-height: 1.2em;}#sk-container-id-66 div.sk-label-container {text-align: center;}#sk-container-id-66 div.sk-container {/* jupyter's `normalize.less` sets `[hidden] { display: none; }` but bootstrap.min.css set `[hidden] { display: none !important; }` so we also need the `!important` here to be able to override the default hidden behavior on the sphinx rendered scikit-learn.org. See: https://github.com/scikit-learn/scikit-learn/issues/21755 */display: inline-block !important;position: relative;}#sk-container-id-66 div.sk-text-repr-fallback {display: none;}</style><div id=\"sk-container-id-66\" class=\"sk-top-container\"><div class=\"sk-text-repr-fallback\"><pre>SVC(C=100, probability=True)</pre><b>In a Jupyter environment, please rerun this cell to show the HTML representation or trust the notebook. <br />On GitHub, the HTML representation is unable to render, please try loading this page with nbviewer.org.</b></div><div class=\"sk-container\" hidden><div class=\"sk-item\"><div class=\"sk-estimator sk-toggleable\"><input class=\"sk-toggleable__control sk-hidden--visually\" id=\"sk-estimator-id-70\" type=\"checkbox\" checked><label for=\"sk-estimator-id-70\" class=\"sk-toggleable__label sk-toggleable__label-arrow\">SVC</label><div class=\"sk-toggleable__content\"><pre>SVC(C=100, probability=True)</pre></div></div></div></div></div>"
      ],
      "text/plain": [
       "SVC(C=100, probability=True)"
      ]
     },
     "execution_count": 540,
     "metadata": {},
     "output_type": "execute_result"
    }
   ],
   "source": [
    "loaded"
   ]
  },
  {
   "cell_type": "code",
   "execution_count": 541,
   "id": "eaf7cc09",
   "metadata": {},
   "outputs": [
    {
     "data": {
      "text/plain": [
       "array([1])"
      ]
     },
     "execution_count": 541,
     "metadata": {},
     "output_type": "execute_result"
    }
   ],
   "source": [
    "loaded.predict([[0.343464,0.471185,0.320766,0.373567,0.542242,0.381283,0.604319,0.421754]])"
   ]
  },
  {
   "cell_type": "code",
   "execution_count": null,
   "id": "86a76c79",
   "metadata": {},
   "outputs": [],
   "source": []
  }
 ],
 "metadata": {
  "kernelspec": {
   "display_name": "Python 3 (ipykernel)",
   "language": "python",
   "name": "python3"
  },
  "language_info": {
   "codemirror_mode": {
    "name": "ipython",
    "version": 3
   },
   "file_extension": ".py",
   "mimetype": "text/x-python",
   "name": "python",
   "nbconvert_exporter": "python",
   "pygments_lexer": "ipython3",
   "version": "3.10.4"
  }
 },
 "nbformat": 4,
 "nbformat_minor": 5
}
