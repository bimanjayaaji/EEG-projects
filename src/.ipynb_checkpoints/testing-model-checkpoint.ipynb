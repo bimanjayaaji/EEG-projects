{
 "cells": [
  {
   "cell_type": "markdown",
   "id": "f9f84b29",
   "metadata": {},
   "source": [
    "## Preparing Data, Device and Modules"
   ]
  },
  {
   "cell_type": "code",
   "execution_count": 2,
   "id": "b344e72d",
   "metadata": {},
   "outputs": [],
   "source": [
    "# importing libraries\n",
    "\n",
    "from brainflow.board_shim import BoardShim, BrainFlowInputParams, LogLevels, BoardIds\n",
    "from brainflow.data_filter import DataFilter, WindowOperations, DetrendOperations, FilterTypes\n",
    "import matplotlib.pyplot as plt\n",
    "import seaborn as sns\n",
    "import pandas as pd\n",
    "import numpy as np\n",
    "import time"
   ]
  },
  {
   "cell_type": "code",
   "execution_count": 3,
   "id": "3f450470",
   "metadata": {},
   "outputs": [],
   "source": [
    "# enable BrainFlow logger\n",
    "\n",
    "BoardShim.enable_dev_board_logger()"
   ]
  },
  {
   "cell_type": "code",
   "execution_count": 4,
   "id": "5d9a806d",
   "metadata": {},
   "outputs": [],
   "source": [
    "# input parameter port and timeout\n",
    "\n",
    "params = BrainFlowInputParams()\n",
    "params.serial_port = '/dev/ttyACM0'\n",
    "params.timeout = 15"
   ]
  },
  {
   "cell_type": "code",
   "execution_count": 5,
   "id": "07009e96",
   "metadata": {},
   "outputs": [],
   "source": [
    "# board_id (ganglion) detail\n",
    "\n",
    "board_id = BoardIds.GANGLION_BOARD.value\n",
    "board_descr = BoardShim.get_board_descr(board_id)\n",
    "sampling_rate = int(board_descr['sampling_rate'])\n",
    "board = BoardShim(board_id, params)"
   ]
  },
  {
   "cell_type": "code",
   "execution_count": 6,
   "id": "e7bc609e",
   "metadata": {},
   "outputs": [],
   "source": [
    "nfft = DataFilter.get_nearest_power_of_two(sampling_rate)"
   ]
  },
  {
   "cell_type": "code",
   "execution_count": 7,
   "id": "eb1e208c",
   "metadata": {},
   "outputs": [],
   "source": [
    "eeg_channels = board_descr['eeg_channels']\n",
    "eeg_channel1 = eeg_channels[0]\n",
    "eeg_channel2 = eeg_channels[1]\n",
    "eeg_channel3 = eeg_channels[2]\n",
    "eeg_channel4 = eeg_channels[3]"
   ]
  },
  {
   "cell_type": "code",
   "execution_count": 8,
   "id": "f62336b0",
   "metadata": {},
   "outputs": [],
   "source": [
    "data = pd.read_csv('/home/bimanjaya/learner/TA/brainflow/EEG-projects/src/data/mindful.csv')\n",
    "data = data.transpose()\n",
    "data = data.to_numpy()"
   ]
  },
  {
   "cell_type": "code",
   "execution_count": 9,
   "id": "ec115a64",
   "metadata": {},
   "outputs": [],
   "source": [
    "data_bb = data"
   ]
  },
  {
   "cell_type": "code",
   "execution_count": 10,
   "id": "d6e6d34c",
   "metadata": {},
   "outputs": [
    {
     "data": {
      "text/plain": [
       "36"
      ]
     },
     "execution_count": 10,
     "metadata": {},
     "output_type": "execute_result"
    }
   ],
   "source": [
    "delay = 5\n",
    "total_iterate = data_bb.shape[1] // (sampling_rate*delay)\n",
    "total_iterate"
   ]
  },
  {
   "cell_type": "code",
   "execution_count": 11,
   "id": "132a74ca",
   "metadata": {},
   "outputs": [
    {
     "data": {
      "text/html": [
       "<div>\n",
       "<style scoped>\n",
       "    .dataframe tbody tr th:only-of-type {\n",
       "        vertical-align: middle;\n",
       "    }\n",
       "\n",
       "    .dataframe tbody tr th {\n",
       "        vertical-align: top;\n",
       "    }\n",
       "\n",
       "    .dataframe thead th {\n",
       "        text-align: right;\n",
       "    }\n",
       "</style>\n",
       "<table border=\"1\" class=\"dataframe\">\n",
       "  <thead>\n",
       "    <tr style=\"text-align: right;\">\n",
       "      <th></th>\n",
       "      <th>alpha1</th>\n",
       "      <th>alpha2</th>\n",
       "      <th>alpha3</th>\n",
       "      <th>alpha4</th>\n",
       "      <th>beta1</th>\n",
       "      <th>beta2</th>\n",
       "      <th>beta3</th>\n",
       "      <th>beta4</th>\n",
       "    </tr>\n",
       "  </thead>\n",
       "  <tbody>\n",
       "    <tr>\n",
       "      <th>0</th>\n",
       "      <td>0.215083</td>\n",
       "      <td>0.235176</td>\n",
       "      <td>0.219503</td>\n",
       "      <td>0.231384</td>\n",
       "      <td>0.344209</td>\n",
       "      <td>0.247658</td>\n",
       "      <td>0.261818</td>\n",
       "      <td>0.284674</td>\n",
       "    </tr>\n",
       "    <tr>\n",
       "      <th>1</th>\n",
       "      <td>0.214565</td>\n",
       "      <td>0.272064</td>\n",
       "      <td>0.251035</td>\n",
       "      <td>0.201310</td>\n",
       "      <td>0.344056</td>\n",
       "      <td>0.304483</td>\n",
       "      <td>0.240963</td>\n",
       "      <td>0.229385</td>\n",
       "    </tr>\n",
       "    <tr>\n",
       "      <th>2</th>\n",
       "      <td>0.214155</td>\n",
       "      <td>0.224876</td>\n",
       "      <td>0.220907</td>\n",
       "      <td>0.210469</td>\n",
       "      <td>0.343213</td>\n",
       "      <td>0.255480</td>\n",
       "      <td>0.247330</td>\n",
       "      <td>0.220121</td>\n",
       "    </tr>\n",
       "    <tr>\n",
       "      <th>3</th>\n",
       "      <td>0.213462</td>\n",
       "      <td>0.237184</td>\n",
       "      <td>0.213580</td>\n",
       "      <td>0.210826</td>\n",
       "      <td>0.340411</td>\n",
       "      <td>0.266235</td>\n",
       "      <td>0.227554</td>\n",
       "      <td>0.238421</td>\n",
       "    </tr>\n",
       "    <tr>\n",
       "      <th>4</th>\n",
       "      <td>0.211709</td>\n",
       "      <td>0.241091</td>\n",
       "      <td>0.225107</td>\n",
       "      <td>0.216737</td>\n",
       "      <td>0.339607</td>\n",
       "      <td>0.249541</td>\n",
       "      <td>0.219162</td>\n",
       "      <td>0.235900</td>\n",
       "    </tr>\n",
       "  </tbody>\n",
       "</table>\n",
       "</div>"
      ],
      "text/plain": [
       "     alpha1    alpha2    alpha3    alpha4     beta1     beta2     beta3  \\\n",
       "0  0.215083  0.235176  0.219503  0.231384  0.344209  0.247658  0.261818   \n",
       "1  0.214565  0.272064  0.251035  0.201310  0.344056  0.304483  0.240963   \n",
       "2  0.214155  0.224876  0.220907  0.210469  0.343213  0.255480  0.247330   \n",
       "3  0.213462  0.237184  0.213580  0.210826  0.340411  0.266235  0.227554   \n",
       "4  0.211709  0.241091  0.225107  0.216737  0.339607  0.249541  0.219162   \n",
       "\n",
       "      beta4  \n",
       "0  0.284674  \n",
       "1  0.229385  \n",
       "2  0.220121  \n",
       "3  0.238421  \n",
       "4  0.235900  "
      ]
     },
     "metadata": {},
     "output_type": "display_data"
    }
   ],
   "source": [
    "# eeg 1\n",
    "\n",
    "dict = {'alpha1':[],'alpha2':[],'alpha3':[],'alpha4':[],\n",
    "        'beta1':[],'beta2':[],'beta3':[],'beta4':[]}\n",
    "df = pd.DataFrame(dict)\n",
    "\n",
    "for x in range(total_iterate):\n",
    "    ch1_iter = data_bb[eeg_channel1][(x*1000):((x+1)*1000)]\n",
    "    ch2_iter = data_bb[eeg_channel2][(x*1000):((x+1)*1000)]\n",
    "    ch3_iter = data_bb[eeg_channel3][(x*1000):((x+1)*1000)]\n",
    "    ch4_iter = data_bb[eeg_channel4][(x*1000):((x+1)*1000)]\n",
    "    \n",
    "    DataFilter.detrend(ch1_iter, DetrendOperations.LINEAR.value)\n",
    "    DataFilter.detrend(ch2_iter, DetrendOperations.LINEAR.value)\n",
    "    DataFilter.detrend(ch3_iter, DetrendOperations.LINEAR.value)\n",
    "    DataFilter.detrend(ch4_iter, DetrendOperations.LINEAR.value)\n",
    "    \n",
    "    DataFilter.perform_bandpass(ch1_iter, BoardShim.get_sampling_rate(board_id), 5.0, 35.0, 4,\n",
    "                                        FilterTypes.BUTTERWORTH.value, 0)\n",
    "    DataFilter.perform_bandpass(ch2_iter, BoardShim.get_sampling_rate(board_id), 5.0, 35.0, 4,\n",
    "                                        FilterTypes.BUTTERWORTH.value, 0)\n",
    "    DataFilter.perform_bandpass(ch3_iter, BoardShim.get_sampling_rate(board_id), 5.0, 35.0, 4,\n",
    "                                        FilterTypes.BUTTERWORTH.value, 0)\n",
    "    DataFilter.perform_bandpass(ch4_iter, BoardShim.get_sampling_rate(board_id), 5.0, 35.0, 4,\n",
    "                                        FilterTypes.BUTTERWORTH.value, 0)\n",
    "    \n",
    "    psd1 = DataFilter.get_psd_welch(ch1_iter, nfft, nfft // 2, sampling_rate,\n",
    "                                   WindowOperations.HAMMING.value)\n",
    "    psd2 = DataFilter.get_psd_welch(ch2_iter, nfft, nfft // 2, sampling_rate,\n",
    "                                   WindowOperations.HAMMING.value)\n",
    "    psd3 = DataFilter.get_psd_welch(ch3_iter, nfft, nfft // 2, sampling_rate,\n",
    "                                   WindowOperations.HAMMING.value)\n",
    "    psd4 = DataFilter.get_psd_welch(ch4_iter, nfft, nfft // 2, sampling_rate,\n",
    "                                   WindowOperations.HAMMING.value)\n",
    "    \n",
    "    band_power_total1 = DataFilter.get_band_power(psd1, psd1[1][0], psd1[1][-1])\n",
    "    band_power_total2 = DataFilter.get_band_power(psd2, psd2[1][0], psd2[1][-1])\n",
    "    band_power_total3 = DataFilter.get_band_power(psd3, psd3[1][0], psd3[1][-1])\n",
    "    band_power_total4 = DataFilter.get_band_power(psd4, psd4[1][0], psd4[1][-1])\n",
    "    \n",
    "    band_power_alpha1 = DataFilter.get_band_power(psd1, 8.0, 13.0)\n",
    "    band_power_alpha2 = DataFilter.get_band_power(psd2, 8.0, 13.0)\n",
    "    band_power_alpha3 = DataFilter.get_band_power(psd3, 8.0, 13.0)\n",
    "    band_power_alpha4 = DataFilter.get_band_power(psd4, 8.0, 13.0)\n",
    "    \n",
    "    alpha_relative1 = band_power_alpha1/band_power_total1\n",
    "    alpha_relative2 = band_power_alpha2/band_power_total2\n",
    "    alpha_relative3 = band_power_alpha3/band_power_total3\n",
    "    alpha_relative4 = band_power_alpha4/band_power_total4\n",
    "    \n",
    "    band_power_beta1 = DataFilter.get_band_power(psd1, 13.0, 32.0)\n",
    "    band_power_beta2 = DataFilter.get_band_power(psd2, 13.0, 32.0)\n",
    "    band_power_beta3 = DataFilter.get_band_power(psd3, 13.0, 32.0)\n",
    "    band_power_beta4 = DataFilter.get_band_power(psd4, 13.0, 32.0)\n",
    "    \n",
    "    beta_relative1 = band_power_beta1/band_power_total1\n",
    "    beta_relative2 = band_power_beta2/band_power_total2\n",
    "    beta_relative3 = band_power_beta3/band_power_total3\n",
    "    beta_relative4 = band_power_beta4/band_power_total4\n",
    "    \n",
    "    dict1 = {'alpha1':[alpha_relative1],'alpha2':[alpha_relative2],\n",
    "             'alpha3':[alpha_relative3],'alpha4':[alpha_relative4],\n",
    "             'beta1':[beta_relative1],'beta2':[beta_relative2],\n",
    "             'beta3':[beta_relative3],'beta4':[beta_relative4]}\n",
    "    \n",
    "    df2 = pd.DataFrame(dict1)\n",
    "    df = pd.concat([df,df2],ignore_index=True)\n",
    "    # df.reset_index()\n",
    "\n",
    "display(df.head())"
   ]
  },
  {
   "cell_type": "code",
   "execution_count": 12,
   "id": "eddb25bc",
   "metadata": {},
   "outputs": [],
   "source": [
    "from joblib import dump,load"
   ]
  },
  {
   "cell_type": "code",
   "execution_count": 13,
   "id": "2cacb594",
   "metadata": {},
   "outputs": [],
   "source": [
    "loaded = load('/home/bimanjaya/learner/TA/brainflow/EEG-projects/src/model1.joblib') "
   ]
  },
  {
   "cell_type": "code",
   "execution_count": 22,
   "id": "1f816cb9",
   "metadata": {},
   "outputs": [],
   "source": [
    "from sklearn.svm import SVC\n",
    "from sklearn.model_selection import train_test_split, cross_val_score\n",
    "from sklearn.metrics import classification_report"
   ]
  },
  {
   "cell_type": "code",
   "execution_count": 20,
   "id": "ae29f44f",
   "metadata": {},
   "outputs": [],
   "source": [
    "data1 = df.iloc[1].tolist()"
   ]
  },
  {
   "cell_type": "code",
   "execution_count": 25,
   "id": "e10dd1f7",
   "metadata": {},
   "outputs": [
    {
     "name": "stderr",
     "output_type": "stream",
     "text": [
      "/home/bimanjaya/.conda/envs/workspace1/lib/python3.10/site-packages/sklearn/base.py:450: UserWarning: X does not have valid feature names, but SVC was fitted with feature names\n",
      "  warnings.warn(\n"
     ]
    },
    {
     "data": {
      "text/plain": [
       "array([1])"
      ]
     },
     "execution_count": 25,
     "metadata": {},
     "output_type": "execute_result"
    }
   ],
   "source": [
    "loaded.predict([data1])"
   ]
  },
  {
   "cell_type": "code",
   "execution_count": null,
   "id": "8fdcfa3d",
   "metadata": {},
   "outputs": [],
   "source": []
  }
 ],
 "metadata": {
  "kernelspec": {
   "display_name": "Python 3 (ipykernel)",
   "language": "python",
   "name": "python3"
  },
  "language_info": {
   "codemirror_mode": {
    "name": "ipython",
    "version": 3
   },
   "file_extension": ".py",
   "mimetype": "text/x-python",
   "name": "python",
   "nbconvert_exporter": "python",
   "pygments_lexer": "ipython3",
   "version": "3.10.4"
  }
 },
 "nbformat": 4,
 "nbformat_minor": 5
}
