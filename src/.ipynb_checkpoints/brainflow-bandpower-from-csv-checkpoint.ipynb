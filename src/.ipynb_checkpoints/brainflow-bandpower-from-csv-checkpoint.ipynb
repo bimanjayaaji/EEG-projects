{
 "cells": [
  {
   "cell_type": "markdown",
   "id": "84dc82ce",
   "metadata": {},
   "source": [
    "## Coputing Power Spectral Density and Band Power"
   ]
  },
  {
   "cell_type": "code",
   "execution_count": 93,
   "id": "6869356e",
   "metadata": {},
   "outputs": [],
   "source": [
    "# importing libraries\n",
    "\n",
    "from brainflow.board_shim import BoardShim, BrainFlowInputParams, LogLevels, BoardIds\n",
    "from brainflow.data_filter import DataFilter, WindowOperations, DetrendOperations\n",
    "import matplotlib.pyplot as plt\n",
    "import pandas as pd\n",
    "import time"
   ]
  },
  {
   "cell_type": "code",
   "execution_count": 94,
   "id": "d2e3ae44",
   "metadata": {},
   "outputs": [],
   "source": [
    "# enable BrainFlow logger\n",
    "\n",
    "BoardShim.enable_dev_board_logger()"
   ]
  },
  {
   "cell_type": "code",
   "execution_count": 95,
   "id": "7aa2f001",
   "metadata": {},
   "outputs": [],
   "source": [
    "# input parameter port and timout\n",
    "\n",
    "params = BrainFlowInputParams()\n",
    "params.serial_port = '/dev/ttyACM0'\n",
    "params.timeout = 15"
   ]
  },
  {
   "cell_type": "code",
   "execution_count": 96,
   "id": "416f275a",
   "metadata": {},
   "outputs": [],
   "source": [
    "# board_id (ganglion) detail\n",
    "\n",
    "board_id = BoardIds.GANGLION_BOARD.value\n",
    "board_descr = BoardShim.get_board_descr(board_id)\n",
    "sampling_rate = int(board_descr['sampling_rate'])\n",
    "board = BoardShim(board_id, params)"
   ]
  },
  {
   "cell_type": "code",
   "execution_count": 97,
   "id": "240d17a4",
   "metadata": {},
   "outputs": [],
   "source": [
    "# brief definition of nfft : \n",
    "# https://www.mathworks.com/matlabcentral/answers/324316-what-is-nfft-and-where-it-is-used-in-matlab-code\n",
    "\n",
    "nfft = DataFilter.get_nearest_power_of_two(sampling_rate)"
   ]
  },
  {
   "cell_type": "code",
   "execution_count": 98,
   "id": "e14bc739",
   "metadata": {},
   "outputs": [],
   "source": [
    "# importing data from csv\n",
    "\n",
    "data = pd.read_csv('/home/bimanjaya/learner/TA/brainflow/EEG-projects/src/data/mindful.csv')\n",
    "data = data.transpose()\n",
    "data = data.to_numpy()"
   ]
  },
  {
   "cell_type": "code",
   "execution_count": 99,
   "id": "80b2c6e8",
   "metadata": {},
   "outputs": [],
   "source": [
    "# trial (not related)\n",
    "\n",
    "# windowed = DataFilter.get_window(WindowOperations.HAMMING.value,len(data)) "
   ]
  },
  {
   "cell_type": "code",
   "execution_count": 100,
   "id": "f14f14b1",
   "metadata": {},
   "outputs": [],
   "source": [
    "# determining which eeg channel does ganglion have in the data\n",
    "\n",
    "eeg_channels = board_descr['eeg_channels']\n",
    "eeg_channel1 = eeg_channels[0]\n",
    "eeg_channel2 = eeg_channels[1]\n",
    "eeg_channel3 = eeg_channels[2]\n",
    "eeg_channel4 = eeg_channels[3]"
   ]
  },
  {
   "cell_type": "code",
   "execution_count": 101,
   "id": "611eb00c",
   "metadata": {},
   "outputs": [],
   "source": [
    "# applying detrend to all channels\n",
    "\n",
    "DataFilter.detrend(data[eeg_channel1], DetrendOperations.LINEAR.value)\n",
    "DataFilter.detrend(data[eeg_channel2], DetrendOperations.LINEAR.value)\n",
    "DataFilter.detrend(data[eeg_channel3], DetrendOperations.LINEAR.value)\n",
    "DataFilter.detrend(data[eeg_channel4], DetrendOperations.LINEAR.value)"
   ]
  },
  {
   "cell_type": "code",
   "execution_count": 102,
   "id": "dfb91e88",
   "metadata": {},
   "outputs": [],
   "source": [
    "# compute power spectral density (PSD) using Welch method, also applying windowing using hamming window\n",
    "\n",
    "psd1 = DataFilter.get_psd_welch(data[eeg_channel1], nfft, nfft // 2, sampling_rate,\n",
    "                                   WindowOperations.HAMMING.value)\n",
    "psd2 = DataFilter.get_psd_welch(data[eeg_channel2], nfft, nfft // 2, sampling_rate,\n",
    "                                   WindowOperations.HAMMING.value)\n",
    "psd3 = DataFilter.get_psd_welch(data[eeg_channel3], nfft, nfft // 2, sampling_rate,\n",
    "                                   WindowOperations.HAMMING.value)\n",
    "psd4 = DataFilter.get_psd_welch(data[eeg_channel4], nfft, nfft // 2, sampling_rate,\n",
    "                                   WindowOperations.HAMMING.value)"
   ]
  },
  {
   "cell_type": "code",
   "execution_count": 114,
   "id": "ae7b5680",
   "metadata": {},
   "outputs": [],
   "source": [
    "# calculating delta band power (0.5Hz - 4Hz according to Brainflow docs) across all channels\n",
    "\n",
    "band_power_delta1 = DataFilter.get_band_power(psd1, 0.0, 4.0)\n",
    "band_power_delta2 = DataFilter.get_band_power(psd2, 0.0, 4.0)\n",
    "band_power_delta3 = DataFilter.get_band_power(psd3, 0.0, 4.0)\n",
    "band_power_delta4 = DataFilter.get_band_power(psd4, 0.0, 4.0)"
   ]
  },
  {
   "cell_type": "code",
   "execution_count": 104,
   "id": "f559e488",
   "metadata": {},
   "outputs": [],
   "source": [
    "# calculating theta band power (4.0Hz - 8Hz according to Brainflow docs) across all channels\n",
    "\n",
    "band_power_theta1 = DataFilter.get_band_power(psd1, 4.0, 8.0)\n",
    "band_power_theta2 = DataFilter.get_band_power(psd2, 4.0, 8.0)\n",
    "band_power_theta3 = DataFilter.get_band_power(psd3, 4.0, 8.0)\n",
    "band_power_theta4 = DataFilter.get_band_power(psd4, 4.0, 8.0)"
   ]
  },
  {
   "cell_type": "code",
   "execution_count": 105,
   "id": "10e8786f",
   "metadata": {},
   "outputs": [],
   "source": [
    "# calculating alpha band power (8Hz - 13Hz according to Brainflow docs) across all channels\n",
    "\n",
    "band_power_alpha1 = DataFilter.get_band_power(psd1, 8.0, 13.0)\n",
    "band_power_alpha2 = DataFilter.get_band_power(psd2, 8.0, 13.0)\n",
    "band_power_alpha3 = DataFilter.get_band_power(psd3, 8.0, 13.0)\n",
    "band_power_alpha4 = DataFilter.get_band_power(psd4, 8.0, 13.0)"
   ]
  },
  {
   "cell_type": "code",
   "execution_count": 106,
   "id": "186af8af",
   "metadata": {},
   "outputs": [],
   "source": [
    "# calculating beta band power (13Hz - 32Hz according to Brainflow docs) across all channels\n",
    "\n",
    "band_power_beta1 = DataFilter.get_band_power(psd1, 13.0, 32.0)\n",
    "band_power_beta2 = DataFilter.get_band_power(psd2, 13.0, 32.0)\n",
    "band_power_beta3 = DataFilter.get_band_power(psd3, 13.0, 32.0)\n",
    "band_power_beta4 = DataFilter.get_band_power(psd4, 13.0, 32.0)"
   ]
  },
  {
   "cell_type": "code",
   "execution_count": 107,
   "id": "54fe55f0",
   "metadata": {},
   "outputs": [],
   "source": [
    "# calculating gamma band power (32Hz - 100Hz according to Brainflow docs) across all channels\n",
    "\n",
    "band_power_gamma1 = DataFilter.get_band_power(psd1, 32.0, 100.0)\n",
    "band_power_gamma2 = DataFilter.get_band_power(psd2, 32.0, 100.0)\n",
    "band_power_gamma3 = DataFilter.get_band_power(psd3, 32.0, 100.0)\n",
    "band_power_gamma4 = DataFilter.get_band_power(psd4, 32.0, 100.0)"
   ]
  },
  {
   "cell_type": "code",
   "execution_count": 108,
   "id": "44fd6408",
   "metadata": {},
   "outputs": [],
   "source": [
    "# calculating total band power across all channels \n",
    "\n",
    "band_power_total1 = DataFilter.get_band_power(psd1, psd1[1][0], psd1[1][-1])\n",
    "band_power_total2 = DataFilter.get_band_power(psd2, psd2[1][0], psd2[1][-1])\n",
    "band_power_total3 = DataFilter.get_band_power(psd3, psd3[1][0], psd3[1][-1])\n",
    "band_power_total4 = DataFilter.get_band_power(psd4, psd4[1][0], psd4[1][-1])"
   ]
  },
  {
   "cell_type": "code",
   "execution_count": 119,
   "id": "d835213c",
   "metadata": {},
   "outputs": [
    {
     "data": {
      "image/png": "[encoded data removed]",
      "text/plain": [
       "<Figure size 1000x600 with 4 Axes>"
      ]
     },
     "metadata": {
      "needs_background": "light"
     },
     "output_type": "display_data"
    }
   ],
   "source": [
    "# plotting psd from each channel\n",
    "\n",
    "fig,axes = plt.subplots(nrows=2,ncols=2,figsize=(10,6),dpi=100) \n",
    "\n",
    "axes[0][0].plot(psd1[1],psd1[0])\n",
    "axes[0][0].set_title('Channel-1')\n",
    "axes[0][0].set_xlabel('freq')\n",
    "axes[0][0].set_ylabel('power')\n",
    "\n",
    "axes[0][1].plot(psd2[1],psd2[0])\n",
    "axes[0][1].set_title('Channel-2')\n",
    "axes[0][1].set_xlabel('freq')\n",
    "axes[0][1].set_ylabel('power')\n",
    "\n",
    "axes[1][0].plot(psd3[1],psd3[0])\n",
    "axes[1][0].set_title('Channel-3')\n",
    "axes[1][0].set_xlabel('freq')\n",
    "axes[1][0].set_ylabel('power')\n",
    "\n",
    "axes[1][1].plot(psd4[1],psd4[0])\n",
    "axes[1][1].set_title('Channel-4')\n",
    "axes[1][1].set_xlabel('freq')\n",
    "axes[1][1].set_ylabel('power')\n",
    "\n",
    "fig.suptitle('PSD')\n",
    "\n",
    "fig.tight_layout()\n",
    "\n",
    "fig.savefig('PSD_channels.png',bbox_inches='tight')"
   ]
  },
  {
   "cell_type": "code",
   "execution_count": 128,
   "id": "a5a0acb1",
   "metadata": {},
   "outputs": [
    {
     "name": "stdout",
     "output_type": "stream",
     "text": [
      "band power delta 1 : 288.048, relative power : 0.7316\n",
      "band power theta 1 : 21.553, relative power : 0.0547\n",
      "band power alpha 1 : 10.251, relative power : 0.026\n",
      "band power beta  1 : 16.691, relative power : 0.0424\n",
      "band power gamma 1 : 57.173, relative power : 0.1452\n",
      "0.9999999999999997\n"
     ]
    }
   ],
   "source": [
    "# calculating the sum of all relative power from channel 1\n",
    "# total should be 1 (you can perceive it as 100%)\n",
    "\n",
    "print(f'band power delta 1 : {round(band_power_delta1,3)}, relative power : {round(band_power_delta1/band_power_total1,4)}')\n",
    "print(f'band power theta 1 : {round(band_power_theta1,3)}, relative power : {round(band_power_theta1/band_power_total1,4)}')\n",
    "print(f'band power alpha 1 : {round(band_power_alpha1,3)}, relative power : {round(band_power_alpha1/band_power_total1,4)}')\n",
    "print(f'band power beta  1 : {round(band_power_beta1,3)}, relative power : {round(band_power_beta1/band_power_total1,4)}')\n",
    "print(f'band power gamma 1 : {round(band_power_gamma1,3)}, relative power : {round(band_power_gamma1/band_power_total1,4)}')\n",
    "\n",
    "print((band_power_delta1/band_power_total1) + \n",
    "      (band_power_theta1/band_power_total1) + \n",
    "      (band_power_alpha1/band_power_total1) + \n",
    "      (band_power_beta1/band_power_total1) + \n",
    "      (band_power_gamma1/band_power_total1))"
   ]
  },
  {
   "cell_type": "code",
   "execution_count": 129,
   "id": "3f2c7479",
   "metadata": {},
   "outputs": [
    {
     "name": "stdout",
     "output_type": "stream",
     "text": [
      "band power delta 2 : 1302939.235, relative power : 0.6465\n",
      "band power theta 2 : 358632.109, relative power : 0.1779\n",
      "band power alpha 2 : 147387.25, relative power : 0.0731\n",
      "band power beta  2 : 159515.152, relative power : 0.0791\n",
      "band power gamma 2 : 46976.49, relative power : 0.0233\n",
      "1.0000000000000002\n"
     ]
    }
   ],
   "source": [
    "# calculating the sum of all relative power from channel 2\n",
    "# total should be 1 (you can perceive it as 100%)\n",
    "\n",
    "print(f'band power delta 2 : {round(band_power_delta2,3)}, relative power : {round(band_power_delta2/band_power_total2,4)}')\n",
    "print(f'band power theta 2 : {round(band_power_theta2,3)}, relative power : {round(band_power_theta2/band_power_total2,4)}')\n",
    "print(f'band power alpha 2 : {round(band_power_alpha2,3)}, relative power : {round(band_power_alpha2/band_power_total2,4)}')\n",
    "print(f'band power beta  2 : {round(band_power_beta2,3)}, relative power : {round(band_power_beta2/band_power_total2,4)}')\n",
    "print(f'band power gamma 2 : {round(band_power_gamma2,3)}, relative power : {round(band_power_gamma2/band_power_total2,4)}')\n",
    "\n",
    "print((band_power_delta2/band_power_total2) + \n",
    "      (band_power_theta2/band_power_total2) + \n",
    "      (band_power_alpha2/band_power_total2) + \n",
    "      (band_power_beta2/band_power_total2) + \n",
    "      (band_power_gamma2/band_power_total2))"
   ]
  },
  {
   "cell_type": "code",
   "execution_count": 130,
   "id": "974e6e67",
   "metadata": {},
   "outputs": [
    {
     "name": "stdout",
     "output_type": "stream",
     "text": [
      "band power delta 3 : 24799094.803, relative power : 0.9572\n",
      "band power theta 3 : 482878.385, relative power : 0.0186\n",
      "band power alpha 3 : 200038.133, relative power : 0.0077\n",
      "band power beta  3 : 217276.721, relative power : 0.0084\n",
      "band power gamma 3 : 208227.69, relative power : 0.008\n",
      "1.0\n"
     ]
    }
   ],
   "source": [
    "# calculating the sum of all relative power from channel 3\n",
    "# total should be 1 (you can perceive it as 100%)\n",
    "\n",
    "print(f'band power delta 3 : {round(band_power_delta3,3)}, relative power : {round(band_power_delta3/band_power_total3,4)}')\n",
    "print(f'band power theta 3 : {round(band_power_theta3,3)}, relative power : {round(band_power_theta3/band_power_total3,4)}')\n",
    "print(f'band power alpha 3 : {round(band_power_alpha3,3)}, relative power : {round(band_power_alpha3/band_power_total3,4)}')\n",
    "print(f'band power beta  3 : {round(band_power_beta3,3)}, relative power : {round(band_power_beta3/band_power_total3,4)}')\n",
    "print(f'band power gamma 3 : {round(band_power_gamma3,3)}, relative power : {round(band_power_gamma3/band_power_total3,4)}')\n",
    "\n",
    "print((band_power_delta3/band_power_total3) + \n",
    "      (band_power_theta3/band_power_total3) + \n",
    "      (band_power_alpha3/band_power_total3) + \n",
    "      (band_power_beta3/band_power_total3) + \n",
    "      (band_power_gamma3/band_power_total3))"
   ]
  },
  {
   "cell_type": "code",
   "execution_count": 133,
   "id": "814348ba",
   "metadata": {},
   "outputs": [
    {
     "name": "stdout",
     "output_type": "stream",
     "text": [
      "band power delta 4 : 24792960.728, relative power : 0.9673\n",
      "band power theta 4 : 422070.227, relative power : 0.0165\n",
      "band power alpha 4 : 172175.431, relative power : 0.0067\n",
      "band power beta  4 : 187007.712, relative power : 0.0073\n",
      "band power gamma 4 : 56295.246, relative power : 0.0022\n",
      "1.0000000000000002\n"
     ]
    }
   ],
   "source": [
    "# calculating the sum of all relative power from channel 4\n",
    "# total should be 1 (you can perceive it as 100%)\n",
    "\n",
    "print(f'band power delta 4 : {round(band_power_delta4,3)}, relative power : {round(band_power_delta4/band_power_total4,4)}')\n",
    "print(f'band power theta 4 : {round(band_power_theta4,3)}, relative power : {round(band_power_theta4/band_power_total4,4)}')\n",
    "print(f'band power alpha 4 : {round(band_power_alpha4,3)}, relative power : {round(band_power_alpha4/band_power_total4,4)}')\n",
    "print(f'band power beta  4 : {round(band_power_beta4,3)}, relative power : {round(band_power_beta4/band_power_total4,4)}')\n",
    "print(f'band power gamma 4 : {round(band_power_gamma4,3)}, relative power : {round(band_power_gamma4/band_power_total4,4)}')\n",
    "\n",
    "print((band_power_delta4/band_power_total4) + \n",
    "      (band_power_theta4/band_power_total4) + \n",
    "      (band_power_alpha4/band_power_total4) + \n",
    "      (band_power_beta4/band_power_total4) + \n",
    "      (band_power_gamma4/band_power_total4))"
   ]
  },
  {
   "cell_type": "markdown",
   "id": "976337e4",
   "metadata": {},
   "source": [
    "------------------------"
   ]
  },
  {
   "cell_type": "markdown",
   "id": "10912bb9",
   "metadata": {},
   "source": [
    "## Filtering Data"
   ]
  },
  {
   "cell_type": "code",
   "execution_count": null,
   "id": "85bec5cd",
   "metadata": {},
   "outputs": [],
   "source": []
  }
 ],
 "metadata": {
  "kernelspec": {
   "display_name": "Python 3 (ipykernel)",
   "language": "python",
   "name": "python3"
  },
  "language_info": {
   "codemirror_mode": {
    "name": "ipython",
    "version": 3
   },
   "file_extension": ".py",
   "mimetype": "text/x-python",
   "name": "python",
   "nbconvert_exporter": "python",
   "pygments_lexer": "ipython3",
   "version": "3.10.4"
  }
 },
 "nbformat": 4,
 "nbformat_minor": 5
}
